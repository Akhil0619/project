{
  "nbformat": 4,
  "nbformat_minor": 0,
  "metadata": {
    "colab": {
      "name": "MoviesRecommendation.ipynb",
      "provenance": [],
      "collapsed_sections": [],
      "include_colab_link": true
    },
    "kernelspec": {
      "name": "python3",
      "display_name": "Python 3"
    },
    "language_info": {
      "name": "python"
    }
  },
  "cells": [
    {
      "cell_type": "markdown",
      "metadata": {
        "id": "view-in-github",
        "colab_type": "text"
      },
      "source": [
        "<a href=\"https://colab.research.google.com/github/Akhil0619/project/blob/main/MoviesRecommendation.ipynb\" target=\"_parent\"><img src=\"https://colab.research.google.com/assets/colab-badge.svg\" alt=\"Open In Colab\"/></a>"
      ]
    },
    {
      "cell_type": "markdown",
      "source": [
        "**Importing Lib**"
      ],
      "metadata": {
        "id": "dotLkdTx9wSs"
      }
    },
    {
      "cell_type": "code",
      "execution_count": null,
      "metadata": {
        "id": "3trKe8Wq89ru"
      },
      "outputs": [],
      "source": [
        "import pandas as pd"
      ]
    },
    {
      "cell_type": "code",
      "source": [
        "import numpy as np"
      ],
      "metadata": {
        "id": "0eetPBJR92bM"
      },
      "execution_count": null,
      "outputs": []
    },
    {
      "cell_type": "markdown",
      "source": [
        "**Import DataSet**"
      ],
      "metadata": {
        "id": "67uA3AfU-BT9"
      }
    },
    {
      "cell_type": "code",
      "source": [
        "df=pd.read_csv(r\"https://github.com/ybifoundation/Dataset/raw/main/Movies%20Recommendation.csv\")"
      ],
      "metadata": {
        "id": "KS5OaG_p-AX1"
      },
      "execution_count": null,
      "outputs": []
    },
    {
      "cell_type": "code",
      "source": [
        "df.head()"
      ],
      "metadata": {
        "id": "b1e2TD8o-Zdb",
        "colab": {
          "base_uri": "https://localhost:8080/",
          "height": 716
        },
        "outputId": "afe64ade-2d1d-48a2-c631-597d8c665435"
      },
      "execution_count": null,
      "outputs": [
        {
          "output_type": "execute_result",
          "data": {
            "text/plain": [
              "   Movie_ID      Movie_Title                       Movie_Genre Movie_Language  \\\n",
              "0         1       Four Rooms                      Crime Comedy             en   \n",
              "1         2        Star Wars  Adventure Action Science Fiction             en   \n",
              "2         3     Finding Nemo                  Animation Family             en   \n",
              "3         4     Forrest Gump              Comedy Drama Romance             en   \n",
              "4         5  American Beauty                             Drama             en   \n",
              "\n",
              "   Movie_Budget  Movie_Popularity Movie_Release_Date  Movie_Revenue  \\\n",
              "0       4000000         22.876230         09-12-1995        4300000   \n",
              "1      11000000        126.393695         25-05-1977      775398007   \n",
              "2      94000000         85.688789         30-05-2003      940335536   \n",
              "3      55000000        138.133331         06-07-1994      677945399   \n",
              "4      15000000         80.878605         15-09-1999      356296601   \n",
              "\n",
              "   Movie_Runtime  Movie_Vote  ...  \\\n",
              "0           98.0         6.5  ...   \n",
              "1          121.0         8.1  ...   \n",
              "2          100.0         7.6  ...   \n",
              "3          142.0         8.2  ...   \n",
              "4          122.0         7.9  ...   \n",
              "\n",
              "                                      Movie_Homepage  \\\n",
              "0                                                NaN   \n",
              "1  http://www.starwars.com/films/star-wars-episod...   \n",
              "2              http://movies.disney.com/finding-nemo   \n",
              "3                                                NaN   \n",
              "4                      http://www.dreamworks.com/ab/   \n",
              "\n",
              "                                      Movie_Keywords  \\\n",
              "0          hotel new year's eve witch bet hotel room   \n",
              "1        android galaxy hermit death star lightsaber   \n",
              "2  father son relationship harbor underwater fish...   \n",
              "3  vietnam veteran hippie mentally disabled runni...   \n",
              "4  male nudity female nudity adultery midlife cri...   \n",
              "\n",
              "                                      Movie_Overview  \\\n",
              "0  It's Ted the Bellhop's first night on the job....   \n",
              "1  Princess Leia is captured and held hostage by ...   \n",
              "2  Nemo, an adventurous young clownfish, is unexp...   \n",
              "3  A man with a low IQ has accomplished great thi...   \n",
              "4  Lester Burnham, a depressed suburban father in...   \n",
              "\n",
              "                              Movie_Production_House  \\\n",
              "0  [{\"name\": \"Miramax Films\", \"id\": 14}, {\"name\":...   \n",
              "1  [{\"name\": \"Lucasfilm\", \"id\": 1}, {\"name\": \"Twe...   \n",
              "2     [{\"name\": \"Pixar Animation Studios\", \"id\": 3}]   \n",
              "3          [{\"name\": \"Paramount Pictures\", \"id\": 4}]   \n",
              "4  [{\"name\": \"DreamWorks SKG\", \"id\": 27}, {\"name\"...   \n",
              "\n",
              "                            Movie_Production_Country  \\\n",
              "0  [{\"iso_3166_1\": \"US\", \"name\": \"United States o...   \n",
              "1  [{\"iso_3166_1\": \"US\", \"name\": \"United States o...   \n",
              "2  [{\"iso_3166_1\": \"US\", \"name\": \"United States o...   \n",
              "3  [{\"iso_3166_1\": \"US\", \"name\": \"United States o...   \n",
              "4  [{\"iso_3166_1\": \"US\", \"name\": \"United States o...   \n",
              "\n",
              "                      Movie_Spoken_Language  \\\n",
              "0  [{\"iso_639_1\": \"en\", \"name\": \"English\"}]   \n",
              "1  [{\"iso_639_1\": \"en\", \"name\": \"English\"}]   \n",
              "2  [{\"iso_639_1\": \"en\", \"name\": \"English\"}]   \n",
              "3  [{\"iso_639_1\": \"en\", \"name\": \"English\"}]   \n",
              "4  [{\"iso_639_1\": \"en\", \"name\": \"English\"}]   \n",
              "\n",
              "                                       Movie_Tagline  \\\n",
              "0  Twelve outrageous guests. Four scandalous requ...   \n",
              "1       A long time ago in a galaxy far, far away...   \n",
              "2  There are 3.7 trillion fish in the ocean, they...   \n",
              "3  The world will never be the same, once you've ...   \n",
              "4                                       Look closer.   \n",
              "\n",
              "                                          Movie_Cast  \\\n",
              "0  Tim Roth Antonio Banderas Jennifer Beals Madon...   \n",
              "1  Mark Hamill Harrison Ford Carrie Fisher Peter ...   \n",
              "2  Albert Brooks Ellen DeGeneres Alexander Gould ...   \n",
              "3  Tom Hanks Robin Wright Gary Sinise Mykelti Wil...   \n",
              "4  Kevin Spacey Annette Bening Thora Birch Wes Be...   \n",
              "\n",
              "                                          Movie_Crew   Movie_Director  \n",
              "0  [{'name': 'Allison Anders', 'gender': 1, 'depa...   Allison Anders  \n",
              "1  [{'name': 'George Lucas', 'gender': 2, 'depart...     George Lucas  \n",
              "2  [{'name': 'Andrew Stanton', 'gender': 2, 'depa...   Andrew Stanton  \n",
              "3  [{'name': 'Alan Silvestri', 'gender': 2, 'depa...  Robert Zemeckis  \n",
              "4  [{'name': 'Thomas Newman', 'gender': 2, 'depar...       Sam Mendes  \n",
              "\n",
              "[5 rows x 21 columns]"
            ],
            "text/html": [
              "\n",
              "  <div id=\"df-649806e5-35ea-434d-9162-2ffb2d4376a4\">\n",
              "    <div class=\"colab-df-container\">\n",
              "      <div>\n",
              "<style scoped>\n",
              "    .dataframe tbody tr th:only-of-type {\n",
              "        vertical-align: middle;\n",
              "    }\n",
              "\n",
              "    .dataframe tbody tr th {\n",
              "        vertical-align: top;\n",
              "    }\n",
              "\n",
              "    .dataframe thead th {\n",
              "        text-align: right;\n",
              "    }\n",
              "</style>\n",
              "<table border=\"1\" class=\"dataframe\">\n",
              "  <thead>\n",
              "    <tr style=\"text-align: right;\">\n",
              "      <th></th>\n",
              "      <th>Movie_ID</th>\n",
              "      <th>Movie_Title</th>\n",
              "      <th>Movie_Genre</th>\n",
              "      <th>Movie_Language</th>\n",
              "      <th>Movie_Budget</th>\n",
              "      <th>Movie_Popularity</th>\n",
              "      <th>Movie_Release_Date</th>\n",
              "      <th>Movie_Revenue</th>\n",
              "      <th>Movie_Runtime</th>\n",
              "      <th>Movie_Vote</th>\n",
              "      <th>...</th>\n",
              "      <th>Movie_Homepage</th>\n",
              "      <th>Movie_Keywords</th>\n",
              "      <th>Movie_Overview</th>\n",
              "      <th>Movie_Production_House</th>\n",
              "      <th>Movie_Production_Country</th>\n",
              "      <th>Movie_Spoken_Language</th>\n",
              "      <th>Movie_Tagline</th>\n",
              "      <th>Movie_Cast</th>\n",
              "      <th>Movie_Crew</th>\n",
              "      <th>Movie_Director</th>\n",
              "    </tr>\n",
              "  </thead>\n",
              "  <tbody>\n",
              "    <tr>\n",
              "      <th>0</th>\n",
              "      <td>1</td>\n",
              "      <td>Four Rooms</td>\n",
              "      <td>Crime Comedy</td>\n",
              "      <td>en</td>\n",
              "      <td>4000000</td>\n",
              "      <td>22.876230</td>\n",
              "      <td>09-12-1995</td>\n",
              "      <td>4300000</td>\n",
              "      <td>98.0</td>\n",
              "      <td>6.5</td>\n",
              "      <td>...</td>\n",
              "      <td>NaN</td>\n",
              "      <td>hotel new year's eve witch bet hotel room</td>\n",
              "      <td>It's Ted the Bellhop's first night on the job....</td>\n",
              "      <td>[{\"name\": \"Miramax Films\", \"id\": 14}, {\"name\":...</td>\n",
              "      <td>[{\"iso_3166_1\": \"US\", \"name\": \"United States o...</td>\n",
              "      <td>[{\"iso_639_1\": \"en\", \"name\": \"English\"}]</td>\n",
              "      <td>Twelve outrageous guests. Four scandalous requ...</td>\n",
              "      <td>Tim Roth Antonio Banderas Jennifer Beals Madon...</td>\n",
              "      <td>[{'name': 'Allison Anders', 'gender': 1, 'depa...</td>\n",
              "      <td>Allison Anders</td>\n",
              "    </tr>\n",
              "    <tr>\n",
              "      <th>1</th>\n",
              "      <td>2</td>\n",
              "      <td>Star Wars</td>\n",
              "      <td>Adventure Action Science Fiction</td>\n",
              "      <td>en</td>\n",
              "      <td>11000000</td>\n",
              "      <td>126.393695</td>\n",
              "      <td>25-05-1977</td>\n",
              "      <td>775398007</td>\n",
              "      <td>121.0</td>\n",
              "      <td>8.1</td>\n",
              "      <td>...</td>\n",
              "      <td>http://www.starwars.com/films/star-wars-episod...</td>\n",
              "      <td>android galaxy hermit death star lightsaber</td>\n",
              "      <td>Princess Leia is captured and held hostage by ...</td>\n",
              "      <td>[{\"name\": \"Lucasfilm\", \"id\": 1}, {\"name\": \"Twe...</td>\n",
              "      <td>[{\"iso_3166_1\": \"US\", \"name\": \"United States o...</td>\n",
              "      <td>[{\"iso_639_1\": \"en\", \"name\": \"English\"}]</td>\n",
              "      <td>A long time ago in a galaxy far, far away...</td>\n",
              "      <td>Mark Hamill Harrison Ford Carrie Fisher Peter ...</td>\n",
              "      <td>[{'name': 'George Lucas', 'gender': 2, 'depart...</td>\n",
              "      <td>George Lucas</td>\n",
              "    </tr>\n",
              "    <tr>\n",
              "      <th>2</th>\n",
              "      <td>3</td>\n",
              "      <td>Finding Nemo</td>\n",
              "      <td>Animation Family</td>\n",
              "      <td>en</td>\n",
              "      <td>94000000</td>\n",
              "      <td>85.688789</td>\n",
              "      <td>30-05-2003</td>\n",
              "      <td>940335536</td>\n",
              "      <td>100.0</td>\n",
              "      <td>7.6</td>\n",
              "      <td>...</td>\n",
              "      <td>http://movies.disney.com/finding-nemo</td>\n",
              "      <td>father son relationship harbor underwater fish...</td>\n",
              "      <td>Nemo, an adventurous young clownfish, is unexp...</td>\n",
              "      <td>[{\"name\": \"Pixar Animation Studios\", \"id\": 3}]</td>\n",
              "      <td>[{\"iso_3166_1\": \"US\", \"name\": \"United States o...</td>\n",
              "      <td>[{\"iso_639_1\": \"en\", \"name\": \"English\"}]</td>\n",
              "      <td>There are 3.7 trillion fish in the ocean, they...</td>\n",
              "      <td>Albert Brooks Ellen DeGeneres Alexander Gould ...</td>\n",
              "      <td>[{'name': 'Andrew Stanton', 'gender': 2, 'depa...</td>\n",
              "      <td>Andrew Stanton</td>\n",
              "    </tr>\n",
              "    <tr>\n",
              "      <th>3</th>\n",
              "      <td>4</td>\n",
              "      <td>Forrest Gump</td>\n",
              "      <td>Comedy Drama Romance</td>\n",
              "      <td>en</td>\n",
              "      <td>55000000</td>\n",
              "      <td>138.133331</td>\n",
              "      <td>06-07-1994</td>\n",
              "      <td>677945399</td>\n",
              "      <td>142.0</td>\n",
              "      <td>8.2</td>\n",
              "      <td>...</td>\n",
              "      <td>NaN</td>\n",
              "      <td>vietnam veteran hippie mentally disabled runni...</td>\n",
              "      <td>A man with a low IQ has accomplished great thi...</td>\n",
              "      <td>[{\"name\": \"Paramount Pictures\", \"id\": 4}]</td>\n",
              "      <td>[{\"iso_3166_1\": \"US\", \"name\": \"United States o...</td>\n",
              "      <td>[{\"iso_639_1\": \"en\", \"name\": \"English\"}]</td>\n",
              "      <td>The world will never be the same, once you've ...</td>\n",
              "      <td>Tom Hanks Robin Wright Gary Sinise Mykelti Wil...</td>\n",
              "      <td>[{'name': 'Alan Silvestri', 'gender': 2, 'depa...</td>\n",
              "      <td>Robert Zemeckis</td>\n",
              "    </tr>\n",
              "    <tr>\n",
              "      <th>4</th>\n",
              "      <td>5</td>\n",
              "      <td>American Beauty</td>\n",
              "      <td>Drama</td>\n",
              "      <td>en</td>\n",
              "      <td>15000000</td>\n",
              "      <td>80.878605</td>\n",
              "      <td>15-09-1999</td>\n",
              "      <td>356296601</td>\n",
              "      <td>122.0</td>\n",
              "      <td>7.9</td>\n",
              "      <td>...</td>\n",
              "      <td>http://www.dreamworks.com/ab/</td>\n",
              "      <td>male nudity female nudity adultery midlife cri...</td>\n",
              "      <td>Lester Burnham, a depressed suburban father in...</td>\n",
              "      <td>[{\"name\": \"DreamWorks SKG\", \"id\": 27}, {\"name\"...</td>\n",
              "      <td>[{\"iso_3166_1\": \"US\", \"name\": \"United States o...</td>\n",
              "      <td>[{\"iso_639_1\": \"en\", \"name\": \"English\"}]</td>\n",
              "      <td>Look closer.</td>\n",
              "      <td>Kevin Spacey Annette Bening Thora Birch Wes Be...</td>\n",
              "      <td>[{'name': 'Thomas Newman', 'gender': 2, 'depar...</td>\n",
              "      <td>Sam Mendes</td>\n",
              "    </tr>\n",
              "  </tbody>\n",
              "</table>\n",
              "<p>5 rows × 21 columns</p>\n",
              "</div>\n",
              "      <button class=\"colab-df-convert\" onclick=\"convertToInteractive('df-649806e5-35ea-434d-9162-2ffb2d4376a4')\"\n",
              "              title=\"Convert this dataframe to an interactive table.\"\n",
              "              style=\"display:none;\">\n",
              "        \n",
              "  <svg xmlns=\"http://www.w3.org/2000/svg\" height=\"24px\"viewBox=\"0 0 24 24\"\n",
              "       width=\"24px\">\n",
              "    <path d=\"M0 0h24v24H0V0z\" fill=\"none\"/>\n",
              "    <path d=\"M18.56 5.44l.94 2.06.94-2.06 2.06-.94-2.06-.94-.94-2.06-.94 2.06-2.06.94zm-11 1L8.5 8.5l.94-2.06 2.06-.94-2.06-.94L8.5 2.5l-.94 2.06-2.06.94zm10 10l.94 2.06.94-2.06 2.06-.94-2.06-.94-.94-2.06-.94 2.06-2.06.94z\"/><path d=\"M17.41 7.96l-1.37-1.37c-.4-.4-.92-.59-1.43-.59-.52 0-1.04.2-1.43.59L10.3 9.45l-7.72 7.72c-.78.78-.78 2.05 0 2.83L4 21.41c.39.39.9.59 1.41.59.51 0 1.02-.2 1.41-.59l7.78-7.78 2.81-2.81c.8-.78.8-2.07 0-2.86zM5.41 20L4 18.59l7.72-7.72 1.47 1.35L5.41 20z\"/>\n",
              "  </svg>\n",
              "      </button>\n",
              "      \n",
              "  <style>\n",
              "    .colab-df-container {\n",
              "      display:flex;\n",
              "      flex-wrap:wrap;\n",
              "      gap: 12px;\n",
              "    }\n",
              "\n",
              "    .colab-df-convert {\n",
              "      background-color: #E8F0FE;\n",
              "      border: none;\n",
              "      border-radius: 50%;\n",
              "      cursor: pointer;\n",
              "      display: none;\n",
              "      fill: #1967D2;\n",
              "      height: 32px;\n",
              "      padding: 0 0 0 0;\n",
              "      width: 32px;\n",
              "    }\n",
              "\n",
              "    .colab-df-convert:hover {\n",
              "      background-color: #E2EBFA;\n",
              "      box-shadow: 0px 1px 2px rgba(60, 64, 67, 0.3), 0px 1px 3px 1px rgba(60, 64, 67, 0.15);\n",
              "      fill: #174EA6;\n",
              "    }\n",
              "\n",
              "    [theme=dark] .colab-df-convert {\n",
              "      background-color: #3B4455;\n",
              "      fill: #D2E3FC;\n",
              "    }\n",
              "\n",
              "    [theme=dark] .colab-df-convert:hover {\n",
              "      background-color: #434B5C;\n",
              "      box-shadow: 0px 1px 3px 1px rgba(0, 0, 0, 0.15);\n",
              "      filter: drop-shadow(0px 1px 2px rgba(0, 0, 0, 0.3));\n",
              "      fill: #FFFFFF;\n",
              "    }\n",
              "  </style>\n",
              "\n",
              "      <script>\n",
              "        const buttonEl =\n",
              "          document.querySelector('#df-649806e5-35ea-434d-9162-2ffb2d4376a4 button.colab-df-convert');\n",
              "        buttonEl.style.display =\n",
              "          google.colab.kernel.accessAllowed ? 'block' : 'none';\n",
              "\n",
              "        async function convertToInteractive(key) {\n",
              "          const element = document.querySelector('#df-649806e5-35ea-434d-9162-2ffb2d4376a4');\n",
              "          const dataTable =\n",
              "            await google.colab.kernel.invokeFunction('convertToInteractive',\n",
              "                                                     [key], {});\n",
              "          if (!dataTable) return;\n",
              "\n",
              "          const docLinkHtml = 'Like what you see? Visit the ' +\n",
              "            '<a target=\"_blank\" href=https://colab.research.google.com/notebooks/data_table.ipynb>data table notebook</a>'\n",
              "            + ' to learn more about interactive tables.';\n",
              "          element.innerHTML = '';\n",
              "          dataTable['output_type'] = 'display_data';\n",
              "          await google.colab.output.renderOutput(dataTable, element);\n",
              "          const docLink = document.createElement('div');\n",
              "          docLink.innerHTML = docLinkHtml;\n",
              "          element.appendChild(docLink);\n",
              "        }\n",
              "      </script>\n",
              "    </div>\n",
              "  </div>\n",
              "  "
            ]
          },
          "metadata": {},
          "execution_count": 4
        }
      ]
    },
    {
      "cell_type": "code",
      "source": [
        "df.info()"
      ],
      "metadata": {
        "id": "3NHX-GjJ-Z0U",
        "colab": {
          "base_uri": "https://localhost:8080/"
        },
        "outputId": "0e988b8b-7801-4e66-98ce-45218fdc71dc"
      },
      "execution_count": null,
      "outputs": [
        {
          "output_type": "stream",
          "name": "stdout",
          "text": [
            "<class 'pandas.core.frame.DataFrame'>\n",
            "RangeIndex: 4760 entries, 0 to 4759\n",
            "Data columns (total 21 columns):\n",
            " #   Column                    Non-Null Count  Dtype  \n",
            "---  ------                    --------------  -----  \n",
            " 0   Movie_ID                  4760 non-null   int64  \n",
            " 1   Movie_Title               4760 non-null   object \n",
            " 2   Movie_Genre               4760 non-null   object \n",
            " 3   Movie_Language            4760 non-null   object \n",
            " 4   Movie_Budget              4760 non-null   int64  \n",
            " 5   Movie_Popularity          4760 non-null   float64\n",
            " 6   Movie_Release_Date        4760 non-null   object \n",
            " 7   Movie_Revenue             4760 non-null   int64  \n",
            " 8   Movie_Runtime             4758 non-null   float64\n",
            " 9   Movie_Vote                4760 non-null   float64\n",
            " 10  Movie_Vote_Count          4760 non-null   int64  \n",
            " 11  Movie_Homepage            1699 non-null   object \n",
            " 12  Movie_Keywords            4373 non-null   object \n",
            " 13  Movie_Overview            4757 non-null   object \n",
            " 14  Movie_Production_House    4760 non-null   object \n",
            " 15  Movie_Production_Country  4760 non-null   object \n",
            " 16  Movie_Spoken_Language     4760 non-null   object \n",
            " 17  Movie_Tagline             3942 non-null   object \n",
            " 18  Movie_Cast                4733 non-null   object \n",
            " 19  Movie_Crew                4760 non-null   object \n",
            " 20  Movie_Director            4738 non-null   object \n",
            "dtypes: float64(3), int64(4), object(14)\n",
            "memory usage: 781.1+ KB\n"
          ]
        }
      ]
    },
    {
      "cell_type": "code",
      "source": [
        "df.shape"
      ],
      "metadata": {
        "id": "xP8KDopL-mUd",
        "colab": {
          "base_uri": "https://localhost:8080/"
        },
        "outputId": "801d39cf-ae60-4971-8b02-a35ace491a2f"
      },
      "execution_count": null,
      "outputs": [
        {
          "output_type": "execute_result",
          "data": {
            "text/plain": [
              "(4760, 21)"
            ]
          },
          "metadata": {},
          "execution_count": 6
        }
      ]
    },
    {
      "cell_type": "code",
      "source": [
        "df.columns"
      ],
      "metadata": {
        "id": "_Wo_Ei0Y-mpq",
        "colab": {
          "base_uri": "https://localhost:8080/"
        },
        "outputId": "f15c0be6-1269-4b37-c7f6-50b4d04273dc"
      },
      "execution_count": null,
      "outputs": [
        {
          "output_type": "execute_result",
          "data": {
            "text/plain": [
              "Index(['Movie_ID', 'Movie_Title', 'Movie_Genre', 'Movie_Language',\n",
              "       'Movie_Budget', 'Movie_Popularity', 'Movie_Release_Date',\n",
              "       'Movie_Revenue', 'Movie_Runtime', 'Movie_Vote', 'Movie_Vote_Count',\n",
              "       'Movie_Homepage', 'Movie_Keywords', 'Movie_Overview',\n",
              "       'Movie_Production_House', 'Movie_Production_Country',\n",
              "       'Movie_Spoken_Language', 'Movie_Tagline', 'Movie_Cast', 'Movie_Crew',\n",
              "       'Movie_Director'],\n",
              "      dtype='object')"
            ]
          },
          "metadata": {},
          "execution_count": 7
        }
      ]
    },
    {
      "cell_type": "markdown",
      "source": [
        "**Get Feature Slection**"
      ],
      "metadata": {
        "id": "zOFucBYH-u_v"
      }
    },
    {
      "cell_type": "code",
      "source": [
        "df_features = df[['Movie_Genre', 'Movie_Keywords', 'Movie_Tagline', 'Movie_Cast', 'Movie_Director']].fillna('')"
      ],
      "metadata": {
        "id": "ElWZ4Rbh-r0M"
      },
      "execution_count": null,
      "outputs": []
    },
    {
      "cell_type": "markdown",
      "source": [
        "**Selected five existing features to recommend movies. It may vary from one project to another. Like one can add vote counts, budget, language etc.**"
      ],
      "metadata": {
        "id": "9EZSHzll_kJ-"
      }
    },
    {
      "cell_type": "code",
      "source": [
        "df_features.shape"
      ],
      "metadata": {
        "id": "r8BGXRxD_rwF",
        "colab": {
          "base_uri": "https://localhost:8080/"
        },
        "outputId": "e3462eee-2614-4c1e-9f05-a5d371993f37"
      },
      "execution_count": null,
      "outputs": [
        {
          "output_type": "execute_result",
          "data": {
            "text/plain": [
              "(4760, 5)"
            ]
          },
          "metadata": {},
          "execution_count": 9
        }
      ]
    },
    {
      "cell_type": "code",
      "source": [
        "df_features"
      ],
      "metadata": {
        "id": "lsWvZpvZ_wLe",
        "colab": {
          "base_uri": "https://localhost:8080/",
          "height": 468
        },
        "outputId": "548c8c2d-f7f3-4260-d328-7dace15ca197"
      },
      "execution_count": null,
      "outputs": [
        {
          "output_type": "execute_result",
          "data": {
            "text/plain": [
              "                           Movie_Genre  \\\n",
              "0                         Crime Comedy   \n",
              "1     Adventure Action Science Fiction   \n",
              "2                     Animation Family   \n",
              "3                 Comedy Drama Romance   \n",
              "4                                Drama   \n",
              "...                                ...   \n",
              "4755                            Horror   \n",
              "4756               Comedy Family Drama   \n",
              "4757                    Thriller Drama   \n",
              "4758                            Family   \n",
              "4759                       Documentary   \n",
              "\n",
              "                                         Movie_Keywords  \\\n",
              "0             hotel new year's eve witch bet hotel room   \n",
              "1           android galaxy hermit death star lightsaber   \n",
              "2     father son relationship harbor underwater fish...   \n",
              "3     vietnam veteran hippie mentally disabled runni...   \n",
              "4     male nudity female nudity adultery midlife cri...   \n",
              "...                                                 ...   \n",
              "4755                                                      \n",
              "4756                                                      \n",
              "4757                     christian film sex trafficking   \n",
              "4758                                                      \n",
              "4759  music actors legendary perfomer classic hollyw...   \n",
              "\n",
              "                                          Movie_Tagline  \\\n",
              "0     Twelve outrageous guests. Four scandalous requ...   \n",
              "1          A long time ago in a galaxy far, far away...   \n",
              "2     There are 3.7 trillion fish in the ocean, they...   \n",
              "3     The world will never be the same, once you've ...   \n",
              "4                                          Look closer.   \n",
              "...                                                 ...   \n",
              "4755                The hot spot where Satan's waitin'.   \n",
              "4756           It’s better to stand out than to fit in.   \n",
              "4757           She never knew it could happen to her...   \n",
              "4758                                                      \n",
              "4759                                                      \n",
              "\n",
              "                                             Movie_Cast     Movie_Director  \n",
              "0     Tim Roth Antonio Banderas Jennifer Beals Madon...     Allison Anders  \n",
              "1     Mark Hamill Harrison Ford Carrie Fisher Peter ...       George Lucas  \n",
              "2     Albert Brooks Ellen DeGeneres Alexander Gould ...     Andrew Stanton  \n",
              "3     Tom Hanks Robin Wright Gary Sinise Mykelti Wil...    Robert Zemeckis  \n",
              "4     Kevin Spacey Annette Bening Thora Birch Wes Be...         Sam Mendes  \n",
              "...                                                 ...                ...  \n",
              "4755  Lisa Hart Carroll Michael Des Barres Paul Drak...         Pece Dingo  \n",
              "4756  Roni Akurati Brighton Sharbino Jason Lee Anjul...       Frank Lotito  \n",
              "4757  Nicole Smolen Kim Baldwin Ariana Stephens Brys...       Jaco Booyens  \n",
              "4758                                                                        \n",
              "4759                                    Tony Oppedisano  Simon Napier-Bell  \n",
              "\n",
              "[4760 rows x 5 columns]"
            ],
            "text/html": [
              "\n",
              "  <div id=\"df-da7a039b-a01a-47e5-9966-11e772718232\">\n",
              "    <div class=\"colab-df-container\">\n",
              "      <div>\n",
              "<style scoped>\n",
              "    .dataframe tbody tr th:only-of-type {\n",
              "        vertical-align: middle;\n",
              "    }\n",
              "\n",
              "    .dataframe tbody tr th {\n",
              "        vertical-align: top;\n",
              "    }\n",
              "\n",
              "    .dataframe thead th {\n",
              "        text-align: right;\n",
              "    }\n",
              "</style>\n",
              "<table border=\"1\" class=\"dataframe\">\n",
              "  <thead>\n",
              "    <tr style=\"text-align: right;\">\n",
              "      <th></th>\n",
              "      <th>Movie_Genre</th>\n",
              "      <th>Movie_Keywords</th>\n",
              "      <th>Movie_Tagline</th>\n",
              "      <th>Movie_Cast</th>\n",
              "      <th>Movie_Director</th>\n",
              "    </tr>\n",
              "  </thead>\n",
              "  <tbody>\n",
              "    <tr>\n",
              "      <th>0</th>\n",
              "      <td>Crime Comedy</td>\n",
              "      <td>hotel new year's eve witch bet hotel room</td>\n",
              "      <td>Twelve outrageous guests. Four scandalous requ...</td>\n",
              "      <td>Tim Roth Antonio Banderas Jennifer Beals Madon...</td>\n",
              "      <td>Allison Anders</td>\n",
              "    </tr>\n",
              "    <tr>\n",
              "      <th>1</th>\n",
              "      <td>Adventure Action Science Fiction</td>\n",
              "      <td>android galaxy hermit death star lightsaber</td>\n",
              "      <td>A long time ago in a galaxy far, far away...</td>\n",
              "      <td>Mark Hamill Harrison Ford Carrie Fisher Peter ...</td>\n",
              "      <td>George Lucas</td>\n",
              "    </tr>\n",
              "    <tr>\n",
              "      <th>2</th>\n",
              "      <td>Animation Family</td>\n",
              "      <td>father son relationship harbor underwater fish...</td>\n",
              "      <td>There are 3.7 trillion fish in the ocean, they...</td>\n",
              "      <td>Albert Brooks Ellen DeGeneres Alexander Gould ...</td>\n",
              "      <td>Andrew Stanton</td>\n",
              "    </tr>\n",
              "    <tr>\n",
              "      <th>3</th>\n",
              "      <td>Comedy Drama Romance</td>\n",
              "      <td>vietnam veteran hippie mentally disabled runni...</td>\n",
              "      <td>The world will never be the same, once you've ...</td>\n",
              "      <td>Tom Hanks Robin Wright Gary Sinise Mykelti Wil...</td>\n",
              "      <td>Robert Zemeckis</td>\n",
              "    </tr>\n",
              "    <tr>\n",
              "      <th>4</th>\n",
              "      <td>Drama</td>\n",
              "      <td>male nudity female nudity adultery midlife cri...</td>\n",
              "      <td>Look closer.</td>\n",
              "      <td>Kevin Spacey Annette Bening Thora Birch Wes Be...</td>\n",
              "      <td>Sam Mendes</td>\n",
              "    </tr>\n",
              "    <tr>\n",
              "      <th>...</th>\n",
              "      <td>...</td>\n",
              "      <td>...</td>\n",
              "      <td>...</td>\n",
              "      <td>...</td>\n",
              "      <td>...</td>\n",
              "    </tr>\n",
              "    <tr>\n",
              "      <th>4755</th>\n",
              "      <td>Horror</td>\n",
              "      <td></td>\n",
              "      <td>The hot spot where Satan's waitin'.</td>\n",
              "      <td>Lisa Hart Carroll Michael Des Barres Paul Drak...</td>\n",
              "      <td>Pece Dingo</td>\n",
              "    </tr>\n",
              "    <tr>\n",
              "      <th>4756</th>\n",
              "      <td>Comedy Family Drama</td>\n",
              "      <td></td>\n",
              "      <td>It’s better to stand out than to fit in.</td>\n",
              "      <td>Roni Akurati Brighton Sharbino Jason Lee Anjul...</td>\n",
              "      <td>Frank Lotito</td>\n",
              "    </tr>\n",
              "    <tr>\n",
              "      <th>4757</th>\n",
              "      <td>Thriller Drama</td>\n",
              "      <td>christian film sex trafficking</td>\n",
              "      <td>She never knew it could happen to her...</td>\n",
              "      <td>Nicole Smolen Kim Baldwin Ariana Stephens Brys...</td>\n",
              "      <td>Jaco Booyens</td>\n",
              "    </tr>\n",
              "    <tr>\n",
              "      <th>4758</th>\n",
              "      <td>Family</td>\n",
              "      <td></td>\n",
              "      <td></td>\n",
              "      <td></td>\n",
              "      <td></td>\n",
              "    </tr>\n",
              "    <tr>\n",
              "      <th>4759</th>\n",
              "      <td>Documentary</td>\n",
              "      <td>music actors legendary perfomer classic hollyw...</td>\n",
              "      <td></td>\n",
              "      <td>Tony Oppedisano</td>\n",
              "      <td>Simon Napier-Bell</td>\n",
              "    </tr>\n",
              "  </tbody>\n",
              "</table>\n",
              "<p>4760 rows × 5 columns</p>\n",
              "</div>\n",
              "      <button class=\"colab-df-convert\" onclick=\"convertToInteractive('df-da7a039b-a01a-47e5-9966-11e772718232')\"\n",
              "              title=\"Convert this dataframe to an interactive table.\"\n",
              "              style=\"display:none;\">\n",
              "        \n",
              "  <svg xmlns=\"http://www.w3.org/2000/svg\" height=\"24px\"viewBox=\"0 0 24 24\"\n",
              "       width=\"24px\">\n",
              "    <path d=\"M0 0h24v24H0V0z\" fill=\"none\"/>\n",
              "    <path d=\"M18.56 5.44l.94 2.06.94-2.06 2.06-.94-2.06-.94-.94-2.06-.94 2.06-2.06.94zm-11 1L8.5 8.5l.94-2.06 2.06-.94-2.06-.94L8.5 2.5l-.94 2.06-2.06.94zm10 10l.94 2.06.94-2.06 2.06-.94-2.06-.94-.94-2.06-.94 2.06-2.06.94z\"/><path d=\"M17.41 7.96l-1.37-1.37c-.4-.4-.92-.59-1.43-.59-.52 0-1.04.2-1.43.59L10.3 9.45l-7.72 7.72c-.78.78-.78 2.05 0 2.83L4 21.41c.39.39.9.59 1.41.59.51 0 1.02-.2 1.41-.59l7.78-7.78 2.81-2.81c.8-.78.8-2.07 0-2.86zM5.41 20L4 18.59l7.72-7.72 1.47 1.35L5.41 20z\"/>\n",
              "  </svg>\n",
              "      </button>\n",
              "      \n",
              "  <style>\n",
              "    .colab-df-container {\n",
              "      display:flex;\n",
              "      flex-wrap:wrap;\n",
              "      gap: 12px;\n",
              "    }\n",
              "\n",
              "    .colab-df-convert {\n",
              "      background-color: #E8F0FE;\n",
              "      border: none;\n",
              "      border-radius: 50%;\n",
              "      cursor: pointer;\n",
              "      display: none;\n",
              "      fill: #1967D2;\n",
              "      height: 32px;\n",
              "      padding: 0 0 0 0;\n",
              "      width: 32px;\n",
              "    }\n",
              "\n",
              "    .colab-df-convert:hover {\n",
              "      background-color: #E2EBFA;\n",
              "      box-shadow: 0px 1px 2px rgba(60, 64, 67, 0.3), 0px 1px 3px 1px rgba(60, 64, 67, 0.15);\n",
              "      fill: #174EA6;\n",
              "    }\n",
              "\n",
              "    [theme=dark] .colab-df-convert {\n",
              "      background-color: #3B4455;\n",
              "      fill: #D2E3FC;\n",
              "    }\n",
              "\n",
              "    [theme=dark] .colab-df-convert:hover {\n",
              "      background-color: #434B5C;\n",
              "      box-shadow: 0px 1px 3px 1px rgba(0, 0, 0, 0.15);\n",
              "      filter: drop-shadow(0px 1px 2px rgba(0, 0, 0, 0.3));\n",
              "      fill: #FFFFFF;\n",
              "    }\n",
              "  </style>\n",
              "\n",
              "      <script>\n",
              "        const buttonEl =\n",
              "          document.querySelector('#df-da7a039b-a01a-47e5-9966-11e772718232 button.colab-df-convert');\n",
              "        buttonEl.style.display =\n",
              "          google.colab.kernel.accessAllowed ? 'block' : 'none';\n",
              "\n",
              "        async function convertToInteractive(key) {\n",
              "          const element = document.querySelector('#df-da7a039b-a01a-47e5-9966-11e772718232');\n",
              "          const dataTable =\n",
              "            await google.colab.kernel.invokeFunction('convertToInteractive',\n",
              "                                                     [key], {});\n",
              "          if (!dataTable) return;\n",
              "\n",
              "          const docLinkHtml = 'Like what you see? Visit the ' +\n",
              "            '<a target=\"_blank\" href=https://colab.research.google.com/notebooks/data_table.ipynb>data table notebook</a>'\n",
              "            + ' to learn more about interactive tables.';\n",
              "          element.innerHTML = '';\n",
              "          dataTable['output_type'] = 'display_data';\n",
              "          await google.colab.output.renderOutput(dataTable, element);\n",
              "          const docLink = document.createElement('div');\n",
              "          docLink.innerHTML = docLinkHtml;\n",
              "          element.appendChild(docLink);\n",
              "        }\n",
              "      </script>\n",
              "    </div>\n",
              "  </div>\n",
              "  "
            ]
          },
          "metadata": {},
          "execution_count": 10
        }
      ]
    },
    {
      "cell_type": "code",
      "source": [
        "X= df_features['Movie_Genre'] +'  ' + df_features['Movie_Keywords']+'  ' + df_features['Movie_Tagline'] +'  '+ df_features['Movie_Cast']+'  '+df_features['Movie_Director']"
      ],
      "metadata": {
        "id": "TgP8Alyp_yA2"
      },
      "execution_count": null,
      "outputs": []
    },
    {
      "cell_type": "code",
      "source": [
        "X"
      ],
      "metadata": {
        "id": "dbfng3nvA1C_",
        "colab": {
          "base_uri": "https://localhost:8080/"
        },
        "outputId": "6be56173-adfd-4d54-bcef-0c920ef65d75"
      },
      "execution_count": null,
      "outputs": [
        {
          "output_type": "execute_result",
          "data": {
            "text/plain": [
              "0       Crime Comedy  hotel new year's eve witch bet h...\n",
              "1       Adventure Action Science Fiction  android gala...\n",
              "2       Animation Family  father son relationship harb...\n",
              "3       Comedy Drama Romance  vietnam veteran hippie m...\n",
              "4       Drama  male nudity female nudity adultery midl...\n",
              "                              ...                        \n",
              "4755    Horror    The hot spot where Satan's waitin'. ...\n",
              "4756    Comedy Family Drama    It’s better to stand ou...\n",
              "4757    Thriller Drama  christian film sex trafficking...\n",
              "4758                                       Family        \n",
              "4759    Documentary  music actors legendary perfomer c...\n",
              "Length: 4760, dtype: object"
            ]
          },
          "metadata": {},
          "execution_count": 12
        }
      ]
    },
    {
      "cell_type": "code",
      "source": [
        "X.shape"
      ],
      "metadata": {
        "id": "li2DJs80A_nD",
        "colab": {
          "base_uri": "https://localhost:8080/"
        },
        "outputId": "d711a23d-5715-4344-bc04-32f6202c5789"
      },
      "execution_count": null,
      "outputs": [
        {
          "output_type": "execute_result",
          "data": {
            "text/plain": [
              "(4760,)"
            ]
          },
          "metadata": {},
          "execution_count": 13
        }
      ]
    },
    {
      "cell_type": "markdown",
      "source": [
        "**Get Feature Text Conversion to Tokens**"
      ],
      "metadata": {
        "id": "byboLYVkBTO9"
      }
    },
    {
      "cell_type": "code",
      "source": [
        "from sklearn.feature_extraction.text import TfidfVectorizer"
      ],
      "metadata": {
        "id": "bYEqaQ0HBB_O"
      },
      "execution_count": null,
      "outputs": []
    },
    {
      "cell_type": "code",
      "source": [
        "tfidf=TfidfVectorizer()"
      ],
      "metadata": {
        "id": "apVOyjmjBcor"
      },
      "execution_count": null,
      "outputs": []
    },
    {
      "cell_type": "code",
      "source": [
        "X = tfidf.fit_transform(X)"
      ],
      "metadata": {
        "id": "2GbDpjuhBvGc"
      },
      "execution_count": null,
      "outputs": []
    },
    {
      "cell_type": "code",
      "source": [
        "X.shape"
      ],
      "metadata": {
        "id": "kHCA2hDRB8hc",
        "colab": {
          "base_uri": "https://localhost:8080/"
        },
        "outputId": "f70fc5df-c4e4-483f-d759-4b0339319fa4"
      },
      "execution_count": null,
      "outputs": [
        {
          "output_type": "execute_result",
          "data": {
            "text/plain": [
              "(4760, 17258)"
            ]
          },
          "metadata": {},
          "execution_count": 17
        }
      ]
    },
    {
      "cell_type": "code",
      "source": [
        "print(X)"
      ],
      "metadata": {
        "id": "LpSFrvlCB-qN",
        "colab": {
          "base_uri": "https://localhost:8080/"
        },
        "outputId": "cdbd75e2-2124-4b10-f214-372e28b1cdde"
      },
      "execution_count": null,
      "outputs": [
        {
          "output_type": "stream",
          "name": "stdout",
          "text": [
            "  (0, 617)\t0.1633382144407513\n",
            "  (0, 492)\t0.1432591540388685\n",
            "  (0, 15413)\t0.1465525095337543\n",
            "  (0, 9675)\t0.14226057295252661\n",
            "  (0, 9465)\t0.1659841367820977\n",
            "  (0, 1390)\t0.16898383612799558\n",
            "  (0, 7825)\t0.09799561597509843\n",
            "  (0, 1214)\t0.13865857545144072\n",
            "  (0, 729)\t0.13415063359531618\n",
            "  (0, 13093)\t0.1432591540388685\n",
            "  (0, 15355)\t0.10477815972666779\n",
            "  (0, 9048)\t0.0866842116160778\n",
            "  (0, 11161)\t0.06250380151644369\n",
            "  (0, 16773)\t0.17654247479915475\n",
            "  (0, 5612)\t0.08603537588547631\n",
            "  (0, 16735)\t0.10690083751525419\n",
            "  (0, 7904)\t0.13348000542112332\n",
            "  (0, 15219)\t0.09800472886453934\n",
            "  (0, 11242)\t0.07277788238484746\n",
            "  (0, 3878)\t0.11998399582562203\n",
            "  (0, 5499)\t0.11454057510303811\n",
            "  (0, 7071)\t0.19822417598406614\n",
            "  (0, 7454)\t0.14745635785412262\n",
            "  (0, 1495)\t0.19712637387361423\n",
            "  (0, 9206)\t0.15186283580984414\n",
            "  :\t:\n",
            "  (4757, 5455)\t0.12491480594769522\n",
            "  (4757, 2967)\t0.16273475835631626\n",
            "  (4757, 8464)\t0.23522565554066333\n",
            "  (4757, 6938)\t0.17088173678136628\n",
            "  (4757, 8379)\t0.17480603856721913\n",
            "  (4757, 15303)\t0.07654356007668191\n",
            "  (4757, 15384)\t0.09754322497537371\n",
            "  (4757, 7649)\t0.11479421494340192\n",
            "  (4757, 10896)\t0.14546473055066447\n",
            "  (4757, 4494)\t0.05675298448720501\n",
            "  (4758, 5238)\t1.0\n",
            "  (4759, 11264)\t0.33947721804318337\n",
            "  (4759, 11708)\t0.33947721804318337\n",
            "  (4759, 205)\t0.3237911628497312\n",
            "  (4759, 8902)\t0.3040290704566037\n",
            "  (4759, 14062)\t0.3237911628497312\n",
            "  (4759, 3058)\t0.2812896191863103\n",
            "  (4759, 7130)\t0.26419662449963793\n",
            "  (4759, 10761)\t0.3126617295732147\n",
            "  (4759, 4358)\t0.18306542312175342\n",
            "  (4759, 14051)\t0.20084315377640435\n",
            "  (4759, 5690)\t0.19534291014627303\n",
            "  (4759, 15431)\t0.19628653185946862\n",
            "  (4759, 1490)\t0.21197258705292082\n",
            "  (4759, 10666)\t0.15888268987343043\n"
          ]
        }
      ]
    },
    {
      "cell_type": "markdown",
      "source": [
        "**Get Similarity Score using Cosine Similarity**"
      ],
      "metadata": {
        "id": "JKHEJfZCCUxh"
      }
    },
    {
      "cell_type": "code",
      "source": [
        "from sklearn.metrics.pairwise import cosine_similarity"
      ],
      "metadata": {
        "id": "zFEZfu-NCCMA"
      },
      "execution_count": null,
      "outputs": []
    },
    {
      "cell_type": "code",
      "source": [
        "Similarity_Score = cosine_similarity(X)"
      ],
      "metadata": {
        "id": "mQpVpcBRCyw7"
      },
      "execution_count": null,
      "outputs": []
    },
    {
      "cell_type": "code",
      "source": [
        "Similarity_Score"
      ],
      "metadata": {
        "id": "CKZl7eHIC_1g",
        "colab": {
          "base_uri": "https://localhost:8080/"
        },
        "outputId": "64b11278-4029-4b11-d6e0-665f7f182df2"
      },
      "execution_count": null,
      "outputs": [
        {
          "output_type": "execute_result",
          "data": {
            "text/plain": [
              "array([[1.        , 0.01351235, 0.03570468, ..., 0.        , 0.        ,\n",
              "        0.        ],\n",
              "       [0.01351235, 1.        , 0.00806674, ..., 0.        , 0.        ,\n",
              "        0.        ],\n",
              "       [0.03570468, 0.00806674, 1.        , ..., 0.        , 0.08014876,\n",
              "        0.        ],\n",
              "       ...,\n",
              "       [0.        , 0.        , 0.        , ..., 1.        , 0.        ,\n",
              "        0.        ],\n",
              "       [0.        , 0.        , 0.08014876, ..., 0.        , 1.        ,\n",
              "        0.        ],\n",
              "       [0.        , 0.        , 0.        , ..., 0.        , 0.        ,\n",
              "        1.        ]])"
            ]
          },
          "metadata": {},
          "execution_count": 21
        }
      ]
    },
    {
      "cell_type": "code",
      "source": [
        "Similarity_Score.shape"
      ],
      "metadata": {
        "id": "jTN1AravDGVm",
        "colab": {
          "base_uri": "https://localhost:8080/"
        },
        "outputId": "4172f9a6-56da-4b3d-f451-1660bea7b92e"
      },
      "execution_count": null,
      "outputs": [
        {
          "output_type": "execute_result",
          "data": {
            "text/plain": [
              "(4760, 4760)"
            ]
          },
          "metadata": {},
          "execution_count": 22
        }
      ]
    },
    {
      "cell_type": "markdown",
      "source": [
        "**Get Movie Name as Input from User and Validate for Closest Spelling**\n"
      ],
      "metadata": {
        "id": "M7MdHw9uDbYB"
      }
    },
    {
      "cell_type": "code",
      "source": [
        "Favourite_Movie_Name=input(' Enter your favourite movie name : ')"
      ],
      "metadata": {
        "id": "au-GLcAYDKg9",
        "colab": {
          "base_uri": "https://localhost:8080/"
        },
        "outputId": "e56b4872-65c5-4e4f-ff4e-c364b4938b49"
      },
      "execution_count": null,
      "outputs": [
        {
          "name": "stdout",
          "output_type": "stream",
          "text": [
            " Enter your favourite movie name : rebel\n"
          ]
        }
      ]
    },
    {
      "cell_type": "code",
      "source": [
        "All_Movies_Title_List = df[ 'Movie_Title'].tolist()"
      ],
      "metadata": {
        "id": "MQ4vVYDwDu9T"
      },
      "execution_count": null,
      "outputs": []
    },
    {
      "cell_type": "code",
      "source": [
        "import difflib"
      ],
      "metadata": {
        "id": "-LndsDMVD3m1"
      },
      "execution_count": null,
      "outputs": []
    },
    {
      "cell_type": "code",
      "source": [
        "Movie_Recommendation = difflib.get_close_matches (Favourite_Movie_Name, All_Movies_Title_List) \n",
        "print (Movie_Recommendation)"
      ],
      "metadata": {
        "id": "ImhkDayrD8dj",
        "colab": {
          "base_uri": "https://localhost:8080/"
        },
        "outputId": "770377ad-e5ee-42db-8d9c-0f5ffa78cd90"
      },
      "execution_count": null,
      "outputs": [
        {
          "output_type": "stream",
          "name": "stdout",
          "text": [
            "['Redbelt', 'Freeheld', 'Three']\n"
          ]
        }
      ]
    },
    {
      "cell_type": "code",
      "source": [
        "Close_Match = Movie_Recommendation[0]\n",
        "print (Close_Match)"
      ],
      "metadata": {
        "id": "-kRLbmtRE6eO",
        "colab": {
          "base_uri": "https://localhost:8080/"
        },
        "outputId": "45d52894-d63e-4d52-ebf1-f37ab69bdbe6"
      },
      "execution_count": null,
      "outputs": [
        {
          "output_type": "stream",
          "name": "stdout",
          "text": [
            "Redbelt\n"
          ]
        }
      ]
    },
    {
      "cell_type": "code",
      "source": [
        "Index_of_Close_Match_Movie =  df[df.Movie_Title==Close_Match]['Movie_ID'].values[0] \n",
        "print(Index_of_Close_Match_Movie)"
      ],
      "metadata": {
        "id": "3Lx_Zoi3E-20",
        "colab": {
          "base_uri": "https://localhost:8080/"
        },
        "outputId": "9991962d-c11c-4701-d5db-b8835103c2c7"
      },
      "execution_count": null,
      "outputs": [
        {
          "output_type": "stream",
          "name": "stdout",
          "text": [
            "2130\n"
          ]
        }
      ]
    },
    {
      "cell_type": "code",
      "source": [
        "#getting a list of similar movies\n",
        "Recommendation_Score = list (enumerate (Similarity_Score[Index_of_Close_Match_Movie])) \n",
        "print(Recommendation_Score)"
      ],
      "metadata": {
        "id": "yFB79GOgFYP4",
        "colab": {
          "base_uri": "https://localhost:8080/"
        },
        "outputId": "841f28a7-52f2-4593-d570-ec68fa92531d"
      },
      "execution_count": null,
      "outputs": [
        {
          "output_type": "stream",
          "name": "stdout",
          "text": [
            "[(0, 0.0), (1, 0.006787309982636744), (2, 0.0), (3, 0.0), (4, 0.0), (5, 0.020519679512881032), (6, 0.12405263847907821), (7, 0.0), (8, 0.0), (9, 0.015102750238311652), (10, 0.012508418211257538), (11, 0.04588435691860451), (12, 0.0), (13, 0.0), (14, 0.010740511489684464), (15, 0.030733538230232556), (16, 0.0044761236598030735), (17, 0.008072020946496016), (18, 0.059688675093812066), (19, 0.02689167858686601), (20, 0.0), (21, 0.005742980089062697), (22, 0.0), (23, 0.0), (24, 0.0), (25, 0.007214227919547459), (26, 0.0), (27, 0.013472114785765342), (28, 0.0), (29, 0.015865251949029463), (30, 0.018183299465281702), (31, 0.005050663290647665), (32, 0.006663770804636457), (33, 0.0), (34, 0.023125390286916545), (35, 0.007011697527181844), (36, 0.013888305453423174), (37, 0.006936905986946795), (38, 0.0), (39, 0.013022477183628957), (40, 0.0), (41, 0.008455441047108042), (42, 0.008920680597151152), (43, 0.0), (44, 0.018338821356911207), (45, 0.015489026229489123), (46, 0.012054219724515952), (47, 0.0047667693957953), (48, 0.005917326223937998), (49, 0.008453439414383427), (50, 0.01816153786191211), (51, 0.005650243400725318), (52, 0.01347363520730516), (53, 0.018323005720725795), (54, 0.016573882153638645), (55, 0.007940032218670285), (56, 0.007736743093989313), (57, 0.006267025570967824), (58, 0.013684253851257029), (59, 0.00782907734479756), (60, 0.014416890692407612), (61, 0.012513107591845356), (62, 0.0), (63, 0.006047702848675734), (64, 0.007304415086183441), (65, 0.027639594452503715), (66, 0.00870426065012959), (67, 0.034488690097995434), (68, 0.005695536712133017), (69, 0.014240265056469484), (70, 0.005873854838193435), (71, 0.04825293804977883), (72, 0.005208334883756286), (73, 0.006578764487867258), (74, 0.06917226251211897), (75, 0.013707516228085533), (76, 0.0114980060335267), (77, 0.0040474832457239995), (78, 0.03835809706558665), (79, 0.007575194836043022), (80, 0.011883325375362477), (81, 0.02906449041192575), (82, 0.0), (83, 0.005442068864841502), (84, 0.01766790429744981), (85, 0.012192829761435743), (86, 0.0), (87, 0.017419366950746144), (88, 0.004429426056343947), (89, 0.05112816865436821), (90, 0.024160032253984456), (91, 0.0067272716341125905), (92, 0.0), (93, 0.012421805785185917), (94, 0.05986445092008028), (95, 0.013340940374953536), (96, 0.026282767318364198), (97, 0.03508112141925977), (98, 0.0), (99, 0.0046445380117222336), (100, 0.0), (101, 0.016850909463029102), (102, 0.024068626101671733), (103, 0.0), (104, 0.012754317144518216), (105, 0.008649460879799554), (106, 0.006713504148710206), (107, 0.025205424654408243), (108, 0.0), (109, 0.024988541453115753), (110, 0.0), (111, 0.008101578558656456), (112, 0.005170224302206939), (113, 0.013700128070862981), (114, 0.016869468784162078), (115, 0.01783537964042734), (116, 0.017030619226998937), (117, 0.0), (118, 0.013307283441060674), (119, 0.007455199315705467), (120, 0.0), (121, 0.0), (122, 0.04158200920298282), (123, 0.0), (124, 0.10234978471340622), (125, 0.006148042946420617), (126, 0.0), (127, 0.0), (128, 0.005957710659257955), (129, 0.0), (130, 0.03655162132916615), (131, 0.008835869121930792), (132, 0.0), (133, 0.011583775003794957), (134, 0.0), (135, 0.01709317499844218), (136, 0.05519948808072177), (137, 0.01450809413801252), (138, 0.005156473609753451), (139, 0.03701571047345663), (140, 0.0), (141, 0.0), (142, 0.0), (143, 0.0), (144, 0.005103528844575477), (145, 0.018395246743868828), (146, 0.0), (147, 0.015611552182683558), (148, 0.03826991659928215), (149, 0.004434764895096612), (150, 0.014877076419646069), (151, 0.007849644183673567), (152, 0.012594711232316027), (153, 0.0227264203345693), (154, 0.0), (155, 0.019523824819869355), (156, 0.0), (157, 0.0), (158, 0.011368915478401926), (159, 0.0), (160, 0.004922441222246643), (161, 0.018389455758244945), (162, 0.04957886457422328), (163, 0.020344902534911866), (164, 0.0), (165, 0.006568946629203149), (166, 0.004742855984238091), (167, 0.03861856668486078), (168, 0.0583007598477505), (169, 0.0), (170, 0.015500750989672058), (171, 0.0072131313578757805), (172, 0.0), (173, 0.0), (174, 0.0), (175, 0.0), (176, 0.012060802503924026), (177, 0.010006037951564923), (178, 0.023181092426819677), (179, 0.007304065025903058), (180, 0.01800962814143944), (181, 0.061580700865829424), (182, 0.007659483002368066), (183, 0.0), (184, 0.0), (185, 0.02311723041231414), (186, 0.0), (187, 0.02612338136608091), (188, 0.011660913054280577), (189, 0.013430186731267807), (190, 0.004582853663936389), (191, 0.012572889001068444), (192, 0.02710897558516134), (193, 0.009220920861484024), (194, 0.0), (195, 0.028664425407503837), (196, 0.014650702998923022), (197, 0.0), (198, 0.0), (199, 0.004896771547224092), (200, 0.01594437225522722), (201, 0.013531217423885222), (202, 0.0057226591040472055), (203, 0.0), (204, 0.009111344718850962), (205, 0.00923489429042423), (206, 0.012450974380792987), (207, 0.04587443316805987), (208, 0.013768966043948911), (209, 0.0), (210, 0.005787893397451204), (211, 0.0261986511371673), (212, 0.0), (213, 0.0), (214, 0.047476027493740275), (215, 0.008568005199732777), (216, 0.025985257391304396), (217, 0.0), (218, 0.006937434724161664), (219, 0.007731529965190767), (220, 0.005677663474762094), (221, 0.0), (222, 0.024122042938594036), (223, 0.0), (224, 0.0), (225, 0.019382654546450565), (226, 0.0), (227, 0.009320551956713117), (228, 0.008889465061024358), (229, 0.010942824758213104), (230, 0.0), (231, 0.007968389814949605), (232, 0.008181536129347997), (233, 0.005300352214867949), (234, 0.011161966433083516), (235, 0.0), (236, 0.016949630726389938), (237, 0.013240196520610824), (238, 0.005477382347418271), (239, 0.013756443100485518), (240, 0.013043238034887057), (241, 0.012937383323696882), (242, 0.014130058991614677), (243, 0.02165019593921772), (244, 0.005253647968191942), (245, 0.018863809858528063), (246, 0.0), (247, 0.015026804214001611), (248, 0.01172514336673942), (249, 0.022945535900350388), (250, 0.02019182352486499), (251, 0.010863169780093345), (252, 0.0179576661271214), (253, 0.0), (254, 0.0), (255, 0.005623652189765231), (256, 0.0), (257, 0.0066345203266213685), (258, 0.02442457213934169), (259, 0.04405588648521018), (260, 0.028103224828455727), (261, 0.012512836473527935), (262, 0.0), (263, 0.007191024828922438), (264, 0.007609348102434481), (265, 0.0), (266, 0.023417546373191205), (267, 0.0), (268, 0.0), (269, 0.0), (270, 0.022376323606249707), (271, 0.02965173629896955), (272, 0.0), (273, 0.0507038954031329), (274, 0.0), (275, 0.0), (276, 0.005063647063935349), (277, 0.014345712472244471), (278, 0.014348787236567634), (279, 0.0), (280, 0.0), (281, 0.0), (282, 0.0), (283, 0.014150438046423219), (284, 0.012368503137244998), (285, 0.0), (286, 0.006520750814802961), (287, 0.037509639933407175), (288, 0.052369093012784265), (289, 0.010409112785341009), (290, 0.010583116801930692), (291, 0.0048951213925590405), (292, 0.007372559875495611), (293, 0.0), (294, 0.017270466923724994), (295, 0.010576590962611921), (296, 0.013524085914051166), (297, 0.025869351011732135), (298, 0.02554313458977004), (299, 0.019333303294230674), (300, 0.0072394811820710205), (301, 0.03386129283516033), (302, 0.05963362695356632), (303, 0.005827579007192331), (304, 0.004951179568199155), (305, 0.012956657209185752), (306, 0.019984700624968686), (307, 0.011888431282826349), (308, 0.0), (309, 0.026872255343813895), (310, 0.012460611456458342), (311, 0.011016967893103842), (312, 0.0), (313, 0.005565567776794548), (314, 0.0516928301298722), (315, 0.02175722747673469), (316, 0.012019834552949008), (317, 0.007636548364252119), (318, 0.0), (319, 0.0), (320, 0.013596364825497045), (321, 0.05307477744752031), (322, 0.07554527741902163), (323, 0.011601057674136817), (324, 0.008038253097753714), (325, 0.03192641670725979), (326, 0.0), (327, 0.011634155553891242), (328, 0.02140174060088695), (329, 0.017504719683204294), (330, 0.006026046435459959), (331, 0.0), (332, 0.004021142641810157), (333, 0.012534228742312695), (334, 0.012679976287968086), (335, 0.010851147945951024), (336, 0.02342574858711686), (337, 0.0), (338, 0.007956852678550562), (339, 0.0), (340, 0.020775759242108567), (341, 0.019429299663930043), (342, 0.0435475966122643), (343, 0.0), (344, 0.017725528145901944), (345, 0.02369895302160201), (346, 0.018273944711479726), (347, 0.018105757910675827), (348, 0.0), (349, 0.0), (350, 0.005846492350200139), (351, 0.012858134354176294), (352, 0.030284189011177905), (353, 0.0), (354, 0.027254568240032064), (355, 0.0), (356, 0.005122545309826372), (357, 0.015051827531238255), (358, 0.0), (359, 0.011631280996467978), (360, 0.03653491705947083), (361, 0.00806634619949643), (362, 0.06792773914747398), (363, 0.026719654949288088), (364, 0.006537364117454068), (365, 0.00843848698373628), (366, 0.02755248390903877), (367, 0.0), (368, 0.009121246341341697), (369, 0.0), (370, 0.005361655473154701), (371, 0.005909483244655671), (372, 0.0), (373, 0.0), (374, 0.011580559300439976), (375, 0.005307409542429772), (376, 0.05014999565015311), (377, 0.02582498984111416), (378, 0.0), (379, 0.04849300552847408), (380, 0.03421391719340092), (381, 0.01655822931837473), (382, 0.05337649121584027), (383, 0.0), (384, 0.009254696245219546), (385, 0.009654505885094299), (386, 0.0), (387, 0.0), (388, 0.0), (389, 0.0053464936266711125), (390, 0.05075968031148608), (391, 0.0), (392, 0.0), (393, 0.0), (394, 0.007453218355501663), (395, 0.01787466174516245), (396, 0.0), (397, 0.011858082036901484), (398, 0.0), (399, 0.0), (400, 0.0), (401, 0.007701584623145053), (402, 0.048732402383717406), (403, 0.0), (404, 0.0), (405, 0.00934961770286298), (406, 0.005479191788172205), (407, 0.009417804338886955), (408, 0.0), (409, 0.006996010212714627), (410, 0.00811376177721109), (411, 0.036692117182203554), (412, 0.0), (413, 0.0), (414, 0.0), (415, 0.0), (416, 0.0), (417, 0.012046746989628853), (418, 0.013718261646092753), (419, 0.046596312335776165), (420, 0.005774756166795798), (421, 0.005876890174026241), (422, 0.01574112251899329), (423, 0.0283772126514334), (424, 0.014725716263425453), (425, 0.014712940066759782), (426, 0.012130638661275447), (427, 0.0), (428, 0.04008667229994621), (429, 0.018911287285129884), (430, 0.030565218589769662), (431, 0.013842362341841887), (432, 0.0), (433, 0.03149559965221567), (434, 0.0), (435, 0.03676959077374578), (436, 0.038828735372608725), (437, 0.0), (438, 0.014751649161913995), (439, 0.032938117799229935), (440, 0.0), (441, 0.02071240422266142), (442, 0.004452952729129076), (443, 0.020871081731980393), (444, 0.0), (445, 0.0074660162077071), (446, 0.0), (447, 0.03751393959278118), (448, 0.02543505803953144), (449, 0.0), (450, 0.00589282750951731), (451, 0.01415249623948812), (452, 0.005723243727590648), (453, 0.0), (454, 0.01546215088744808), (455, 0.0), (456, 0.00924006779287564), (457, 0.037556064430976054), (458, 0.03789424542116367), (459, 0.018016906699172237), (460, 0.022120494072579423), (461, 0.028956829430909846), (462, 0.023753904528966786), (463, 0.013059711977548273), (464, 0.008620550982401037), (465, 0.0), (466, 0.008622249597037479), (467, 0.012784514331075065), (468, 0.012136146728099324), (469, 0.01792533634435174), (470, 0.005664027174260638), (471, 0.015558184548015788), (472, 0.01680165559781524), (473, 0.0), (474, 0.0), (475, 0.018293199112866917), (476, 0.0), (477, 0.03870163637011784), (478, 0.0), (479, 0.0), (480, 0.0), (481, 0.005840300738849951), (482, 0.018834487132770153), (483, 0.01239288581403642), (484, 0.0), (485, 0.009346157852516551), (486, 0.008375225081883812), (487, 0.011236088012423257), (488, 0.0), (489, 0.0), (490, 0.0), (491, 0.008883585834275), (492, 0.008142523948120385), (493, 0.005701925062237033), (494, 0.0), (495, 0.0), (496, 0.020711157375385585), (497, 0.01720727743085029), (498, 0.0072443731914134364), (499, 0.0), (500, 0.005236413908253015), (501, 0.0194775264524862), (502, 0.005622163483969233), (503, 0.011417867945975142), (504, 0.0), (505, 0.0), (506, 0.007067537716350087), (507, 0.01726811540197339), (508, 0.0), (509, 0.005507404771954762), (510, 0.006971249386205498), (511, 0.012833779751391806), (512, 0.10428245417865976), (513, 0.005837893167647838), (514, 0.0058239199637706), (515, 0.0), (516, 0.08909683506720878), (517, 0.09789001508714129), (518, 0.0), (519, 0.011451155777005216), (520, 0.007620209478651198), (521, 0.0), (522, 0.0), (523, 0.06598772477200128), (524, 0.0), (525, 0.0), (526, 0.0), (527, 0.0), (528, 0.016617563150045176), (529, 0.0), (530, 0.005286458610997688), (531, 0.014092557539333916), (532, 0.004986819183723343), (533, 0.00604029878923389), (534, 0.08665640938539516), (535, 0.008605321205446543), (536, 0.0), (537, 0.05466038118255683), (538, 0.0), (539, 0.0074358966184646155), (540, 0.011969756173949884), (541, 0.0), (542, 0.018769506989838064), (543, 0.005593295698693973), (544, 0.0), (545, 0.014336676337489295), (546, 0.007331729127289248), (547, 0.0), (548, 0.007125815604121143), (549, 0.0), (550, 0.014325159227713678), (551, 0.0), (552, 0.011785861088689597), (553, 0.020619496950071984), (554, 0.0), (555, 0.0), (556, 0.05893655003464677), (557, 0.0), (558, 0.0), (559, 0.004784469502982509), (560, 0.00538659590561699), (561, 0.006431100398670432), (562, 0.023089387817145493), (563, 0.02057087122686743), (564, 0.0), (565, 0.007097415669658297), (566, 0.021028122088431488), (567, 0.00741013517467789), (568, 0.007047744875653355), (569, 0.014953645363393483), (570, 0.01037900939310761), (571, 0.004140626865375322), (572, 0.025067337357502772), (573, 0.0), (574, 0.0), (575, 0.0), (576, 0.01899862962002417), (577, 0.007810936740578121), (578, 0.04595966085405949), (579, 0.0), (580, 0.018855939372942596), (581, 0.004839549342829641), (582, 0.0259602773466948), (583, 0.06667760710143925), (584, 0.005556824155890737), (585, 0.0), (586, 0.025471346792807298), (587, 0.0427699730225616), (588, 0.013170207765100217), (589, 0.0), (590, 0.004949660411491171), (591, 0.00834505173483297), (592, 0.007717954404426404), (593, 0.0), (594, 0.00679201738391683), (595, 0.005906269649619356), (596, 0.0), (597, 0.0), (598, 0.0), (599, 0.03917153895925935), (600, 0.031183104086930202), (601, 0.00648247168481661), (602, 0.006204234491359667), (603, 0.008082346508630963), (604, 0.004939066746184568), (605, 0.024987642600356602), (606, 0.035837010308206546), (607, 0.0), (608, 0.011756255716761019), (609, 0.0069197619168433365), (610, 0.007555226245541901), (611, 0.0), (612, 0.009259605017105635), (613, 0.007490036291040838), (614, 0.0), (615, 0.007871563804990381), (616, 0.020887334813844544), (617, 0.015234929325327967), (618, 0.0), (619, 0.017028599397666853), (620, 0.03285305594313739), (621, 0.02601868508339424), (622, 0.09129832772630109), (623, 0.035388823562450884), (624, 0.0), (625, 0.004621503900742607), (626, 0.02862159667570484), (627, 0.027451585884130672), (628, 0.005414511973467635), (629, 0.08462044028876411), (630, 0.0), (631, 0.007813093327022028), (632, 0.054614770871028), (633, 0.01767768823729224), (634, 0.005275630282720447), (635, 0.03255974525817271), (636, 0.0435368011222424), (637, 0.014592497938473465), (638, 0.01885609394317886), (639, 0.01095146338783384), (640, 0.01815831249203702), (641, 0.0054415505524826316), (642, 0.012171837643405922), (643, 0.005204017437726066), (644, 0.0051016069688392856), (645, 0.02759423506196396), (646, 0.0), (647, 0.014617641938813083), (648, 0.0), (649, 0.0), (650, 0.007114704609228385), (651, 0.0), (652, 0.01845691515025291), (653, 0.004672495381674002), (654, 0.019018488295527908), (655, 0.019979794324199846), (656, 0.009162445128850519), (657, 0.030375072525100057), (658, 0.017712143327604544), (659, 0.008123792049538047), (660, 0.018849087834340576), (661, 0.031184407397634985), (662, 0.008455852574250614), (663, 0.0), (664, 0.0), (665, 0.02050447490238548), (666, 0.014594053288143269), (667, 0.005646149963353085), (668, 0.004248693829637484), (669, 0.004941330770860212), (670, 0.029282491471941896), (671, 0.05200822216191235), (672, 0.0), (673, 0.018669182933674606), (674, 0.025762630896031914), (675, 0.09867787073812619), (676, 0.01749387488313434), (677, 0.00832777052791652), (678, 0.005854586665176489), (679, 0.035447124489013423), (680, 0.0), (681, 0.017206177491604416), (682, 0.02499447316390924), (683, 0.0), (684, 0.0), (685, 0.005516737283247437), (686, 0.008398366632806308), (687, 0.01898058352095293), (688, 0.015610285032715054), (689, 0.019355237397879328), (690, 0.013110940229035296), (691, 0.0), (692, 0.06604914917714137), (693, 0.0), (694, 0.005050131821792664), (695, 0.02743131621023021), (696, 0.014184009598776408), (697, 0.0), (698, 0.017399663694726317), (699, 0.05275000375198138), (700, 0.008337060477138024), (701, 0.056970468494036), (702, 0.023927526416321298), (703, 0.0), (704, 0.01269154071367663), (705, 0.0443792046917781), (706, 0.01750249087329707), (707, 0.0), (708, 0.0), (709, 0.014605883908193928), (710, 0.008102080758420553), (711, 0.0), (712, 0.007705186695871985), (713, 0.022772255988550715), (714, 0.029985502049616843), (715, 0.008385312795463458), (716, 0.031070485402577314), (717, 0.0), (718, 0.0), (719, 0.021503177517630315), (720, 0.007308397189241969), (721, 0.0), (722, 0.0), (723, 0.033502710562902285), (724, 0.0075464898567321765), (725, 0.006464217475111342), (726, 0.035030604539037065), (727, 0.034286716473774695), (728, 0.005792279750121534), (729, 0.033210501202571095), (730, 0.0), (731, 0.0), (732, 0.03532924360344261), (733, 0.012192458136802283), (734, 0.0), (735, 0.025112185406602816), (736, 0.0), (737, 0.0132386896334362), (738, 0.01879323958939504), (739, 0.014462526624904942), (740, 0.0058505853856980145), (741, 0.023799635017269262), (742, 0.027995187475180584), (743, 0.02654182509771333), (744, 0.016687441472383043), (745, 0.007025771980486167), (746, 0.0), (747, 0.014130579842364233), (748, 0.0134489998714872), (749, 0.022049312367770645), (750, 0.018383453297900636), (751, 0.009169670664931611), (752, 0.019244832424054316), (753, 0.01633505084417944), (754, 0.0), (755, 0.0), (756, 0.018061170258881293), (757, 0.013462276605416676), (758, 0.016984173977058883), (759, 0.0), (760, 0.034165541637653944), (761, 0.005371152102145653), (762, 0.06770548900370463), (763, 0.0686725268285194), (764, 0.017130257412635613), (765, 0.019070704719778182), (766, 0.0), (767, 0.040720370869624566), (768, 0.0), (769, 0.005300051131391249), (770, 0.0), (771, 0.0), (772, 0.0), (773, 0.04920619928175096), (774, 0.03544177578775165), (775, 0.009921922250822175), (776, 0.04119961194304045), (777, 0.014107204571944152), (778, 0.0), (779, 0.0045906247775412395), (780, 0.012058644931014856), (781, 0.018369292110057577), (782, 0.0), (783, 0.0), (784, 0.0), (785, 0.008726440490741852), (786, 0.007304535968764981), (787, 0.015525083956467064), (788, 0.0), (789, 0.0), (790, 0.040242253182045454), (791, 0.0), (792, 0.0), (793, 0.05385716615626715), (794, 0.012684733481981549), (795, 0.0), (796, 0.020809071622170057), (797, 0.026489137349260568), (798, 0.011201135073412902), (799, 0.005235276764257239), (800, 0.00482705015894217), (801, 0.09246929641326074), (802, 0.01541886561517923), (803, 0.004799872435165601), (804, 0.015387210901096963), (805, 0.0), (806, 0.02207972363893685), (807, 0.03337984309570555), (808, 0.045282447870323046), (809, 0.014466914032216786), (810, 0.02500714284172005), (811, 0.018294144630458378), (812, 0.0), (813, 0.014235045567523329), (814, 0.008958849080177462), (815, 0.0), (816, 0.010315749473330948), (817, 0.011358615767817696), (818, 0.0), (819, 0.0), (820, 0.007703836987413805), (821, 0.0069593440411382015), (822, 0.025488825273336926), (823, 0.0), (824, 0.040877980897219765), (825, 0.005208527519351373), (826, 0.008104149056913139), (827, 0.013368334768743417), (828, 0.0), (829, 0.01294497376970549), (830, 0.012338422578330854), (831, 0.0037912418997938803), (832, 0.01834751095478944), (833, 0.022846442457897468), (834, 0.024213083176461436), (835, 0.02308136448957897), (836, 0.0), (837, 0.009022719346506601), (838, 0.0), (839, 0.01326123874937094), (840, 0.0326983874795444), (841, 0.0), (842, 0.015858142592289296), (843, 0.0), (844, 0.0), (845, 0.032396623494384616), (846, 0.008930201941827908), (847, 0.0), (848, 0.0), (849, 0.012960689245129949), (850, 0.029106639314335315), (851, 0.0), (852, 0.028348074999336965), (853, 0.01763840979891947), (854, 0.008323175524623598), (855, 0.019534083887146884), (856, 0.006782886648838675), (857, 0.0), (858, 0.0), (859, 0.039429455920579976), (860, 0.019821869807981642), (861, 0.004624547559622039), (862, 0.0), (863, 0.004908950669872686), (864, 0.012806967398658222), (865, 0.043168247550755906), (866, 0.0049925099155601485), (867, 0.0), (868, 0.004986165214227265), (869, 0.040986534095060805), (870, 0.03003756869072781), (871, 0.007807717557220576), (872, 0.008135048215867309), (873, 0.0), (874, 0.034473797213552045), (875, 0.014234354334220687), (876, 0.006129795365345738), (877, 0.004294690175141093), (878, 0.028746095102987132), (879, 0.005602805495603895), (880, 0.02935452644424586), (881, 0.0), (882, 0.006735920588567815), (883, 0.0), (884, 0.0), (885, 0.01052801933140317), (886, 0.0), (887, 0.0), (888, 0.024416456687652667), (889, 0.0), (890, 0.0), (891, 0.01484368924880189), (892, 0.007555415330541905), (893, 0.0048425856962625875), (894, 0.00863934577985966), (895, 0.008125252116222115), (896, 0.15545783189002865), (897, 0.0), (898, 0.01269429990510466), (899, 0.04620962518878899), (900, 0.005021199625831711), (901, 0.0), (902, 0.02630522868236626), (903, 0.007122956008875105), (904, 0.026160757478545692), (905, 0.02570814924713953), (906, 0.0), (907, 0.0), (908, 0.11200057340060238), (909, 0.007680245899698516), (910, 0.12194327666550105), (911, 0.012286849477775535), (912, 0.007668918602238482), (913, 0.0), (914, 0.009408657623968269), (915, 0.024675644584327507), (916, 0.004976155130367587), (917, 0.0), (918, 0.022446912310678968), (919, 0.013179760779895869), (920, 0.03186490428303967), (921, 0.007072162676531198), (922, 0.02472304503036611), (923, 0.005171771108339664), (924, 0.0), (925, 0.021145931933985354), (926, 0.012728973815166373), (927, 0.017699900139265687), (928, 0.005604244925349912), (929, 0.006291218115645507), (930, 0.005700159702193496), (931, 0.0053666469065070145), (932, 0.016130597936801036), (933, 0.0), (934, 0.0), (935, 0.0070679272859983785), (936, 0.02821647283674145), (937, 0.06778629831645464), (938, 0.1168478248154891), (939, 0.00822601973340852), (940, 0.0), (941, 0.0), (942, 0.004365918430376453), (943, 0.0), (944, 0.0), (945, 0.06005688483166083), (946, 0.07988609253889968), (947, 0.023077352752111816), (948, 0.0), (949, 0.0), (950, 0.025745702212438062), (951, 0.0064148912831074), (952, 0.10854540934254925), (953, 0.011345955093501937), (954, 0.006791443879391808), (955, 0.013839409770465771), (956, 0.030740638476085016), (957, 0.0), (958, 0.0), (959, 0.0), (960, 0.04242585364859434), (961, 0.029381291647402073), (962, 0.0), (963, 0.005019972326403504), (964, 0.0), (965, 0.007582272215212399), (966, 0.007174695074455405), (967, 0.005929171612004991), (968, 0.0048647446940947164), (969, 0.0), (970, 0.004537350152801079), (971, 0.008976878015177648), (972, 0.0), (973, 0.0), (974, 0.0050273361714526016), (975, 0.0), (976, 0.03657885695103842), (977, 0.024866208369120617), (978, 0.008066750584260448), (979, 0.01595614251155515), (980, 0.01864962142353696), (981, 0.012686367612472254), (982, 0.02023025192829881), (983, 0.0), (984, 0.032137207619763734), (985, 0.0), (986, 0.005366255117682838), (987, 0.058132878992247464), (988, 0.017922991222570562), (989, 0.005282147618894389), (990, 0.0306180014236589), (991, 0.048675314735939265), (992, 0.01830238005687784), (993, 0.0), (994, 0.0), (995, 0.0), (996, 0.00757807702227004), (997, 0.004829915114155448), (998, 0.02084800204633241), (999, 0.0), (1000, 0.004830309641143808), (1001, 0.012360686207698094), (1002, 0.0), (1003, 0.005489283549140277), (1004, 0.0), (1005, 0.0), (1006, 0.0), (1007, 0.0929587259739871), (1008, 0.028270005445364187), (1009, 0.01250105240484042), (1010, 0.015554466319952503), (1011, 0.017163555237285168), (1012, 0.01284777450264336), (1013, 0.00802924846683194), (1014, 0.0), (1015, 0.005805203685645697), (1016, 0.006825638652415284), (1017, 0.056394327589083595), (1018, 0.004683092325629278), (1019, 0.0), (1020, 0.0), (1021, 0.0), (1022, 0.02949941353831286), (1023, 0.018944423521969202), (1024, 0.005593396764522347), (1025, 0.038724062161183084), (1026, 0.008557960399856356), (1027, 0.0), (1028, 0.0), (1029, 0.011107283137004886), (1030, 0.0051984547641496705), (1031, 0.09087981341739171), (1032, 0.0), (1033, 0.012148645381756999), (1034, 0.04678770842003438), (1035, 0.02509239026287286), (1036, 0.008225454292929379), (1037, 0.0), (1038, 0.010719862219470055), (1039, 0.0), (1040, 0.0), (1041, 0.03391215455787612), (1042, 0.007283866676808746), (1043, 0.0), (1044, 0.025021256806930032), (1045, 0.00779191716233636), (1046, 0.0), (1047, 0.04724503859619096), (1048, 0.04154098995792276), (1049, 0.0), (1050, 0.01727123573077372), (1051, 0.02479395861791664), (1052, 0.02259994865124232), (1053, 0.03362854305798585), (1054, 0.022436508755129682), (1055, 0.0), (1056, 0.012770581395038273), (1057, 0.0), (1058, 0.006582404689536533), (1059, 0.0), (1060, 0.0), (1061, 0.012686238157613789), (1062, 0.014584453819983637), (1063, 0.044725004770639516), (1064, 0.021861716964012977), (1065, 0.004908479653469865), (1066, 0.0), (1067, 0.007247535787933152), (1068, 0.0526526923182863), (1069, 0.008501944386797399), (1070, 0.0), (1071, 0.03178218517972651), (1072, 0.0), (1073, 0.015839094226533387), (1074, 0.0053868502919473225), (1075, 0.0), (1076, 0.008406799632587406), (1077, 0.022512334664771195), (1078, 0.0), (1079, 0.023027941915049553), (1080, 0.022563863824760222), (1081, 0.022459507339439855), (1082, 0.016802074660704786), (1083, 0.018774715736875367), (1084, 0.008545710137054869), (1085, 0.02473100992627282), (1086, 0.008145768741993785), (1087, 0.050341369134478405), (1088, 0.014406988880458277), (1089, 0.0), (1090, 0.014317803195097806), (1091, 0.008319080316645338), (1092, 0.02404275425066613), (1093, 0.0), (1094, 0.0), (1095, 0.019693019327785295), (1096, 0.08013321091501704), (1097, 0.012429793653015725), (1098, 0.0), (1099, 0.013752258937500803), (1100, 0.018086085042606306), (1101, 0.040632453305476886), (1102, 0.0), (1103, 0.012648139106008491), (1104, 0.047728503945236235), (1105, 0.0), (1106, 0.0), (1107, 0.004996619404241736), (1108, 0.007753437092678103), (1109, 0.0), (1110, 0.0), (1111, 0.0077651920284390755), (1112, 0.0506621473589238), (1113, 0.007335678681011593), (1114, 0.02234411170371504), (1115, 0.010421045607681438), (1116, 0.009239263258677306), (1117, 0.0), (1118, 0.015680872146291228), (1119, 0.015045157688308677), (1120, 0.004578585278505622), (1121, 0.0), (1122, 0.008879040224459364), (1123, 0.005103934079815199), (1124, 0.0), (1125, 0.0), (1126, 0.007503584183848907), (1127, 0.0052857516158375676), (1128, 0.0679143239973135), (1129, 0.005372382064608276), (1130, 0.03806810632561961), (1131, 0.034319522544541355), (1132, 0.0051037961945551245), (1133, 0.016624334662170417), (1134, 0.011690382989710119), (1135, 0.007051538514135223), (1136, 0.0), (1137, 0.044390730033503266), (1138, 0.05370957074658203), (1139, 0.0), (1140, 0.05927199176381297), (1141, 0.00573914817135791), (1142, 0.0), (1143, 0.013521812484024396), (1144, 0.0), (1145, 0.0), (1146, 0.05733285639024807), (1147, 0.0), (1148, 0.006063485554085267), (1149, 0.0), (1150, 0.013988469574171436), (1151, 0.0076195419445722135), (1152, 0.0), (1153, 0.01199500995308358), (1154, 0.004786757596804214), (1155, 0.0), (1156, 0.0), (1157, 0.023288280088215544), (1158, 0.005999988782227044), (1159, 0.016678971720782754), (1160, 0.0), (1161, 0.0), (1162, 0.06764765143261361), (1163, 0.0), (1164, 0.004366768522174383), (1165, 0.007871319946396376), (1166, 0.0), (1167, 0.049678990346389215), (1168, 0.0), (1169, 0.0), (1170, 0.0), (1171, 0.0), (1172, 0.0), (1173, 0.011736698896650834), (1174, 0.005490115641222851), (1175, 0.007668797854374659), (1176, 0.0), (1177, 0.01699811997812446), (1178, 0.015622615258193794), (1179, 0.03500045494525207), (1180, 0.00812345439359278), (1181, 0.0050561219902850885), (1182, 0.0), (1183, 0.0049847591651636545), (1184, 0.020585881764629676), (1185, 0.026029767999583245), (1186, 0.007657807429852961), (1187, 0.0), (1188, 0.005636734360887933), (1189, 0.01751319939711864), (1190, 0.0), (1191, 0.014147202490733332), (1192, 0.03636114681422684), (1193, 0.063195469241219), (1194, 0.006639165094702616), (1195, 0.037313110127280086), (1196, 0.011660917363122495), (1197, 0.061364729146076054), (1198, 0.0075218868647772595), (1199, 0.0), (1200, 0.0), (1201, 0.0), (1202, 0.028642822361855415), (1203, 0.0), (1204, 0.0), (1205, 0.0), (1206, 0.014207097784724933), (1207, 0.020721930252298782), (1208, 0.0), (1209, 0.0), (1210, 0.027656562985174833), (1211, 0.02087511001015923), (1212, 0.0), (1213, 0.0), (1214, 0.0), (1215, 0.012061916904577728), (1216, 0.0), (1217, 0.0), (1218, 0.0), (1219, 0.06301732826172467), (1220, 0.004847098675708656), (1221, 0.02081885214323985), (1222, 0.015416796539293552), (1223, 0.04987210564239238), (1224, 0.005605945418182356), (1225, 0.022882253725887543), (1226, 0.005316285546909401), (1227, 0.02201370548308214), (1228, 0.059844905185698336), (1229, 0.06272973675969445), (1230, 0.0051546612004554), (1231, 0.02490433597525725), (1232, 0.005411781595049244), (1233, 0.039873617385915126), (1234, 0.0), (1235, 0.0), (1236, 0.004883959511980169), (1237, 0.041162981295483694), (1238, 0.007547088712825358), (1239, 0.012559168906376083), (1240, 0.008421655742112063), (1241, 0.0), (1242, 0.006951533585969676), (1243, 0.018382449480205097), (1244, 0.007838113385673534), (1245, 0.0), (1246, 0.019867232468271538), (1247, 0.0), (1248, 0.0051597717330418335), (1249, 0.015122031382361133), (1250, 0.011963227408875097), (1251, 0.014913528620675433), (1252, 0.017877980757951197), (1253, 0.0), (1254, 0.00778798511484237), (1255, 0.025431725650843152), (1256, 0.008234484733301732), (1257, 0.013886012306304232), (1258, 0.00919263464438415), (1259, 0.0049085129383518965), (1260, 0.020514410864076887), (1261, 0.02749463118959991), (1262, 0.012934674764330484), (1263, 0.02922405820868881), (1264, 0.0), (1265, 0.0), (1266, 0.020983978448066154), (1267, 0.0), (1268, 0.0), (1269, 0.06142477574110409), (1270, 0.01291867682646998), (1271, 0.025612926126279453), (1272, 0.012778576761689161), (1273, 0.00723200061877138), (1274, 0.0), (1275, 0.006196599811536494), (1276, 0.004005639218270623), (1277, 0.0), (1278, 0.0), (1279, 0.027347888286968967), (1280, 0.013810246288878255), (1281, 0.004901658245736604), (1282, 0.0), (1283, 0.006682571287117601), (1284, 0.024707591535163366), (1285, 0.0), (1286, 0.0), (1287, 0.023372538833907087), (1288, 0.006913943740282782), (1289, 0.07022445895037219), (1290, 0.0), (1291, 0.0), (1292, 0.005281065576444479), (1293, 0.023502915411499264), (1294, 0.0), (1295, 0.04238271268784179), (1296, 0.007168025924740325), (1297, 0.01840584847248838), (1298, 0.0), (1299, 0.017691813352774952), (1300, 0.08156410327450091), (1301, 0.025890553273910943), (1302, 0.045991442895557386), (1303, 0.014548653049609197), (1304, 0.008724170491883202), (1305, 0.01393293698754805), (1306, 0.025430715478525302), (1307, 0.019078311187932767), (1308, 0.01497310555319166), (1309, 0.018563877414241092), (1310, 0.006858383208508813), (1311, 0.01890709618553502), (1312, 0.04109499214855361), (1313, 0.0), (1314, 0.017750842826715393), (1315, 0.028825536212432584), (1316, 0.0), (1317, 0.007066202319117497), (1318, 0.030131513865621427), (1319, 0.08386028230178996), (1320, 0.0), (1321, 0.008745523012214389), (1322, 0.0), (1323, 0.0), (1324, 0.008105776249763903), (1325, 0.0195582686571914), (1326, 0.006203223020600596), (1327, 0.0072259816343736615), (1328, 0.02740673453726026), (1329, 0.01644048192085667), (1330, 0.008561246089008078), (1331, 0.03373193294909892), (1332, 0.005983489524519474), (1333, 0.00810338852538645), (1334, 0.013010852008382817), (1335, 0.03648742140527211), (1336, 0.0), (1337, 0.005480479366397848), (1338, 0.0), (1339, 0.01770839536164733), (1340, 0.0), (1341, 0.006236748197206558), (1342, 0.0), (1343, 0.03257977572818106), (1344, 0.007052204164144329), (1345, 0.0), (1346, 0.026137811642057855), (1347, 0.005187222560715164), (1348, 0.050538270202605), (1349, 0.0), (1350, 0.0074019815055069715), (1351, 0.01039218122388769), (1352, 0.030576863841942532), (1353, 0.00810903316508746), (1354, 0.0339282494883745), (1355, 0.0), (1356, 0.015272784974566392), (1357, 0.008037064094657527), (1358, 0.029206942853013538), (1359, 0.0), (1360, 0.016422798643097834), (1361, 0.0), (1362, 0.0), (1363, 0.01599462256610422), (1364, 0.0), (1365, 0.007364614016730387), (1366, 0.022057073943997016), (1367, 0.05046345735805005), (1368, 0.007331709029166455), (1369, 0.004395475583189104), (1370, 0.014531819916600342), (1371, 0.0), (1372, 0.0), (1373, 0.0073617923620206225), (1374, 0.01520876447592563), (1375, 0.0441409145854991), (1376, 0.0), (1377, 0.004332100629660799), (1378, 0.012663539106374373), (1379, 0.021704779545350425), (1380, 0.013677792534177856), (1381, 0.029427466150959168), (1382, 0.009001961541691118), (1383, 0.006062209278101444), (1384, 0.012541704670642816), (1385, 0.012985554843872113), (1386, 0.007725477161896673), (1387, 0.03677050471887028), (1388, 0.020361467948886804), (1389, 0.027367563707006437), (1390, 0.0), (1391, 0.04064853407162286), (1392, 0.0), (1393, 0.0), (1394, 0.0251597474120148), (1395, 0.004322834135281039), (1396, 0.03279529557306264), (1397, 0.0065712519485969815), (1398, 0.022384173435938213), (1399, 0.0), (1400, 0.019021068142136114), (1401, 0.020418312375054565), (1402, 0.051063828258417814), (1403, 0.0), (1404, 0.07557475062654842), (1405, 0.007667298688406685), (1406, 0.005248653107512092), (1407, 0.005707097187413767), (1408, 0.014801564074528146), (1409, 0.0), (1410, 0.0), (1411, 0.008618081358045477), (1412, 0.020645393391271763), (1413, 0.005450262231301242), (1414, 0.016098059329678387), (1415, 0.0), (1416, 0.008334162910863138), (1417, 0.004192071120922687), (1418, 0.005840982546978445), (1419, 0.005376753678639879), (1420, 0.01797120674795517), (1421, 0.013584809842081953), (1422, 0.0), (1423, 0.0), (1424, 0.0), (1425, 0.008872071655063794), (1426, 0.025173741698437564), (1427, 0.0), (1428, 0.07695241497663421), (1429, 0.03580343648613672), (1430, 0.004993572715557545), (1431, 0.014429602021472632), (1432, 0.00559403521703107), (1433, 0.004996258658125096), (1434, 0.0), (1435, 0.014406788814539176), (1436, 0.04397359138174699), (1437, 0.008610573385706484), (1438, 0.0), (1439, 0.0), (1440, 0.007716198601237005), (1441, 0.0), (1442, 0.005316724080950755), (1443, 0.00554072842053544), (1444, 0.03354069461719311), (1445, 0.0), (1446, 0.0), (1447, 0.0), (1448, 0.00496224578925602), (1449, 0.0056536821088391635), (1450, 0.0), (1451, 0.005044445769948613), (1452, 0.005676399107384256), (1453, 0.020166890964629276), (1454, 0.005898633974079178), (1455, 0.0303978536805561), (1456, 0.00809498447382107), (1457, 0.008121907390787317), (1458, 0.020911163774562654), (1459, 0.016064300054133014), (1460, 0.008412373749995644), (1461, 0.05667425132241215), (1462, 0.020206845799500828), (1463, 0.008408689028811204), (1464, 0.0), (1465, 0.0), (1466, 0.008858525345761887), (1467, 0.0), (1468, 0.02150292789921401), (1469, 0.024598188523158107), (1470, 0.007865436521185019), (1471, 0.0039824447380449645), (1472, 0.014255458944916363), (1473, 0.0), (1474, 0.008474370454971129), (1475, 0.007921705000250093), (1476, 0.008835821735154426), (1477, 0.0), (1478, 0.0051426322803034405), (1479, 0.052831286062276286), (1480, 0.05025418491132584), (1481, 0.0051977671056948884), (1482, 0.007623123516937958), (1483, 0.005328700263983001), (1484, 0.005680758788538022), (1485, 0.0), (1486, 0.0), (1487, 0.0), (1488, 0.005383856966847692), (1489, 0.015834260507138712), (1490, 0.007260416975845214), (1491, 0.0), (1492, 0.01770485587646168), (1493, 0.005177507414643154), (1494, 0.0), (1495, 0.007730962005876661), (1496, 0.017281379615366018), (1497, 0.02514908448687938), (1498, 0.02006114920801233), (1499, 0.0), (1500, 0.0), (1501, 0.0), (1502, 0.09593481682843596), (1503, 0.006889666896534218), (1504, 0.0), (1505, 0.01690222407574801), (1506, 0.07395440355898587), (1507, 0.0), (1508, 0.011559267321581116), (1509, 0.0396363269603692), (1510, 0.005421568450885627), (1511, 0.013762813152097519), (1512, 0.0), (1513, 0.0), (1514, 0.0629573122533543), (1515, 0.007648402906566606), (1516, 0.0), (1517, 0.011685930242500572), (1518, 0.009392822684215315), (1519, 0.016686439322440016), (1520, 0.0), (1521, 0.01670020702860802), (1522, 0.007673432614064984), (1523, 0.007450816986496464), (1524, 0.07131866578630869), (1525, 0.018855741636129533), (1526, 0.017574044883474735), (1527, 0.0), (1528, 0.021321984031533032), (1529, 0.060316067134103764), (1530, 0.05155226583140744), (1531, 0.005674286403161827), (1532, 0.0), (1533, 0.0), (1534, 0.009076441169011736), (1535, 0.0), (1536, 0.0), (1537, 0.07123270413225403), (1538, 0.0), (1539, 0.01502801074451703), (1540, 0.0), (1541, 0.011453061193507325), (1542, 0.005560195649026076), (1543, 0.008035035374488533), (1544, 0.0), (1545, 0.0), (1546, 0.09095464377314821), (1547, 0.10840330910190345), (1548, 0.0), (1549, 0.0), (1550, 0.0), (1551, 0.005278197079227652), (1552, 0.050423585273328894), (1553, 0.035280647769147265), (1554, 0.04412924382032833), (1555, 0.004999407138828055), (1556, 0.037441751639642994), (1557, 0.008961632305088599), (1558, 0.010910963340067184), (1559, 0.004647825817390734), (1560, 0.0), (1561, 0.008382789772823024), (1562, 0.004974310869667304), (1563, 0.0), (1564, 0.0), (1565, 0.0), (1566, 0.024726615922536853), (1567, 0.0068834547920526585), (1568, 0.0413806559006654), (1569, 0.0), (1570, 0.007991542503015833), (1571, 0.007210427027502632), (1572, 0.050621135559701644), (1573, 0.021703501393580852), (1574, 0.0), (1575, 0.11554469084681766), (1576, 0.004301513706326725), (1577, 0.007665225029350716), (1578, 0.0), (1579, 0.007142719686392991), (1580, 0.0), (1581, 0.025531670758590058), (1582, 0.0), (1583, 0.0), (1584, 0.0), (1585, 0.0), (1586, 0.0), (1587, 0.022079092237977913), (1588, 0.005611297715693078), (1589, 0.020040685787609334), (1590, 0.004682276729830801), (1591, 0.0062196676589491105), (1592, 0.024286471234997234), (1593, 0.0), (1594, 0.0), (1595, 0.016329876769269176), (1596, 0.0), (1597, 0.008401112250241472), (1598, 0.007501203700468487), (1599, 0.028752059490581308), (1600, 0.03458500928119748), (1601, 0.0067449884260834024), (1602, 0.0), (1603, 0.09094140727165934), (1604, 0.00753410786073882), (1605, 0.0), (1606, 0.010919015552513695), (1607, 0.007400050690344247), (1608, 0.004740321626294117), (1609, 0.0), (1610, 0.008074651603616135), (1611, 0.04310129648633446), (1612, 0.0), (1613, 0.019128935625241678), (1614, 0.018301697163677227), (1615, 0.008998721485740793), (1616, 0.054309337055792134), (1617, 0.0), (1618, 0.0), (1619, 0.0), (1620, 0.0), (1621, 0.0052942139626326185), (1622, 0.029275917015135856), (1623, 0.053726653413303016), (1624, 0.0), (1625, 0.0), (1626, 0.0), (1627, 0.018997074286818953), (1628, 0.0), (1629, 0.028290197227288677), (1630, 0.005095658947465405), (1631, 0.005095148498721368), (1632, 0.005149025929958127), (1633, 0.005131471211977666), (1634, 0.00864383612030245), (1635, 0.005266779052729488), (1636, 0.0), (1637, 0.0), (1638, 0.0), (1639, 0.007383116156173455), (1640, 0.00820729839261002), (1641, 0.0), (1642, 0.031257936126225926), (1643, 0.017960833606928506), (1644, 0.0), (1645, 0.01958510739238419), (1646, 0.007017206835829462), (1647, 0.0), (1648, 0.0), (1649, 0.015209781616809852), (1650, 0.01409261809217287), (1651, 0.0), (1652, 0.0), (1653, 0.005237004498673861), (1654, 0.008324765651751385), (1655, 0.0), (1656, 0.0), (1657, 0.007876669370035788), (1658, 0.0), (1659, 0.005724174368534131), (1660, 0.0), (1661, 0.005783132682921563), (1662, 0.005005262512929659), (1663, 0.0), (1664, 0.007196856722376452), (1665, 0.016895371180710494), (1666, 0.0), (1667, 0.004949358515751241), (1668, 0.0), (1669, 0.0), (1670, 0.0), (1671, 0.056173255712935036), (1672, 0.0), (1673, 0.00811914015678449), (1674, 0.0), (1675, 0.011814942505374688), (1676, 0.0), (1677, 0.013722725021327428), (1678, 0.05669250607593847), (1679, 0.0), (1680, 0.004877336923966248), (1681, 0.00589597047051821), (1682, 0.008184177450581046), (1683, 0.0), (1684, 0.0), (1685, 0.023314497093925052), (1686, 0.007768720334971019), (1687, 0.005694012162049568), (1688, 0.0), (1689, 0.019294744280829845), (1690, 0.0), (1691, 0.018802458270758222), (1692, 0.016483986089556573), (1693, 0.0), (1694, 0.01973168271237652), (1695, 0.014117992810801049), (1696, 0.005266162610498981), (1697, 0.032792425322116965), (1698, 0.0075331686129125105), (1699, 0.0046463952922683426), (1700, 0.014483962246150114), (1701, 0.026664791781629178), (1702, 0.03663109685796239), (1703, 0.0), (1704, 0.029144568708701753), (1705, 0.02170923998952437), (1706, 0.028313239451061765), (1707, 0.0), (1708, 0.0), (1709, 0.0), (1710, 0.0), (1711, 0.0), (1712, 0.0), (1713, 0.014726939203155556), (1714, 0.04452221287194534), (1715, 0.0), (1716, 0.006022809527153363), (1717, 0.0), (1718, 0.0), (1719, 0.0), (1720, 0.0), (1721, 0.0), (1722, 0.0), (1723, 0.005041458639029794), (1724, 0.023928962638469838), (1725, 0.008400781875997888), (1726, 0.0), (1727, 0.0), (1728, 0.013019049189924716), (1729, 0.09037097639347358), (1730, 0.0), (1731, 0.008146889483518103), (1732, 0.005739786080031154), (1733, 0.024161650112854708), (1734, 0.0), (1735, 0.0), (1736, 0.023068661485866986), (1737, 0.047265263871351174), (1738, 0.03927599620335457), (1739, 0.04861431075568256), (1740, 0.005478306406621393), (1741, 0.0169897993352076), (1742, 0.0), (1743, 0.018756872350395113), (1744, 0.008319921114660154), (1745, 0.013968788106768625), (1746, 0.0), (1747, 0.0), (1748, 0.0), (1749, 0.005036931566360932), (1750, 0.0), (1751, 0.0), (1752, 0.0), (1753, 0.004616186733931924), (1754, 0.0), (1755, 0.007230999932411834), (1756, 0.011951941819788288), (1757, 0.02670788911760434), (1758, 0.008787020301516887), (1759, 0.0), (1760, 0.016683451219494983), (1761, 0.035662977982281865), (1762, 0.01486256818184643), (1763, 0.0), (1764, 0.014146509162850852), (1765, 0.0), (1766, 0.10536192496925453), (1767, 0.01675573167890929), (1768, 0.008966693802739168), (1769, 0.05192339563320235), (1770, 0.0), (1771, 0.0162426019601285), (1772, 0.02143964918000744), (1773, 0.005261662023715084), (1774, 0.030603342551629314), (1775, 0.0), (1776, 0.0), (1777, 0.01791968791726991), (1778, 0.0), (1779, 0.019211522525147018), (1780, 0.031442566919682335), (1781, 0.004569442564570886), (1782, 0.01523756877606522), (1783, 0.008205972839974722), (1784, 0.054273330818315715), (1785, 0.0), (1786, 0.0), (1787, 0.024222673446035504), (1788, 0.01934111489190307), (1789, 0.011975975646369269), (1790, 0.0), (1791, 0.005717254042222902), (1792, 0.0), (1793, 0.0), (1794, 0.016827843534694353), (1795, 0.07229208436794007), (1796, 0.01646407488973429), (1797, 0.00666191088351237), (1798, 0.016315363993067974), (1799, 0.005881845513868103), (1800, 0.0), (1801, 0.027982762481304938), (1802, 0.020662239172943023), (1803, 0.0), (1804, 0.01844626544568218), (1805, 0.0), (1806, 0.012814232580853908), (1807, 0.0), (1808, 0.019762646542895338), (1809, 0.01172093209069847), (1810, 0.007264944212645164), (1811, 0.07784226401087618), (1812, 0.027393488055736877), (1813, 0.0), (1814, 0.0), (1815, 0.03172535124141304), (1816, 0.05447223844304), (1817, 0.075120867258175), (1818, 0.008264487491135135), (1819, 0.05776714333809467), (1820, 0.0), (1821, 0.0), (1822, 0.0), (1823, 0.010859853615258102), (1824, 0.008197853344662054), (1825, 0.0), (1826, 0.0), (1827, 0.007886487955060343), (1828, 0.0), (1829, 0.019641678048371778), (1830, 0.0), (1831, 0.0), (1832, 0.005484800010228365), (1833, 0.027410397752759923), (1834, 0.0), (1835, 0.025613924918620138), (1836, 0.013032272924627325), (1837, 0.021819783866682978), (1838, 0.014743319085544833), (1839, 0.0), (1840, 0.057128173118525784), (1841, 0.007903423773263928), (1842, 0.0), (1843, 0.0), (1844, 0.008342732715591503), (1845, 0.011916529130755821), (1846, 0.021129898164804106), (1847, 0.0), (1848, 0.0), (1849, 0.018104515968241114), (1850, 0.01407660339242885), (1851, 0.0), (1852, 0.017794389411738405), (1853, 0.0056844477242224975), (1854, 0.0), (1855, 0.018962350432370073), (1856, 0.0), (1857, 0.026350018607604324), (1858, 0.0), (1859, 0.06117951671176463), (1860, 0.0), (1861, 0.0), (1862, 0.013145559173743097), (1863, 0.046572026072675514), (1864, 0.0051653100653767286), (1865, 0.004871946919153648), (1866, 0.00586401348523865), (1867, 0.02020495610668325), (1868, 0.0), (1869, 0.04840464606102034), (1870, 0.0), (1871, 0.07461629424949498), (1872, 0.0), (1873, 0.01806251749501579), (1874, 0.0), (1875, 0.0), (1876, 0.039803074344900546), (1877, 0.0), (1878, 0.008280772548701337), (1879, 0.0), (1880, 0.0162433052964349), (1881, 0.00561706096219037), (1882, 0.0), (1883, 0.024432372333527443), (1884, 0.0), (1885, 0.0), (1886, 0.006039761849404111), (1887, 0.038273514565802295), (1888, 0.0), (1889, 0.007714745557978648), (1890, 0.05530846067981106), (1891, 0.008645600878056202), (1892, 0.016385375235542038), (1893, 0.0), (1894, 0.008234440021744371), (1895, 0.015373902245687732), (1896, 0.0), (1897, 0.019564811702953943), (1898, 0.0071053972539811185), (1899, 0.04539721577966589), (1900, 0.06103005839439831), (1901, 0.013291675857367891), (1902, 0.014811761987523351), (1903, 0.0), (1904, 0.013715555762616703), (1905, 0.0), (1906, 0.0), (1907, 0.043029495944159786), (1908, 0.007639273723838245), (1909, 0.0), (1910, 0.004536875595852173), (1911, 0.007891225983071407), (1912, 0.018512890159718246), (1913, 0.008606529931893698), (1914, 0.0050471843442469345), (1915, 0.01658802681697629), (1916, 0.017556393643770353), (1917, 0.0), (1918, 0.02728281229589108), (1919, 0.023614198843217526), (1920, 0.042946355749257564), (1921, 0.0), (1922, 0.0), (1923, 0.05408223142345585), (1924, 0.02061498417909412), (1925, 0.030161205213802098), (1926, 0.027616141930357073), (1927, 0.0217032682479901), (1928, 0.020791101004401517), (1929, 0.0), (1930, 0.014245216964006787), (1931, 0.013250900859034447), (1932, 0.01694651762725455), (1933, 0.005234805063892789), (1934, 0.018365286634005922), (1935, 0.0), (1936, 0.0077663911787518355), (1937, 0.005275073619467335), (1938, 0.0), (1939, 0.01721167054937152), (1940, 0.05098052125438577), (1941, 0.006427664640235775), (1942, 0.1375776683985885), (1943, 0.024717506701343022), (1944, 0.027834719352343128), (1945, 0.06472203360517088), (1946, 0.0), (1947, 0.0), (1948, 0.005206902750141209), (1949, 0.01870726663755847), (1950, 0.04646901278358305), (1951, 0.0), (1952, 0.01943100725655232), (1953, 0.005218026029466696), (1954, 0.007725538075058796), (1955, 0.02548170879501587), (1956, 0.0), (1957, 0.0), (1958, 0.05499405973318342), (1959, 0.0), (1960, 0.005946010657620367), (1961, 0.033649259520303156), (1962, 0.005982683956286265), (1963, 0.007056169272989328), (1964, 0.02419525001688335), (1965, 0.007937183655727523), (1966, 0.011405237781337297), (1967, 0.005217144843674481), (1968, 0.030332933836238873), (1969, 0.0), (1970, 0.01838509985522297), (1971, 0.00739213452097367), (1972, 0.0), (1973, 0.01585427863309324), (1974, 0.0), (1975, 0.019006390932306976), (1976, 0.0248262742270531), (1977, 0.0), (1978, 0.022794281199482982), (1979, 0.09416073963064885), (1980, 0.0), (1981, 0.024368593788751326), (1982, 0.01771112694364141), (1983, 0.018793199592337387), (1984, 0.02303698636499072), (1985, 0.005426589668423507), (1986, 0.0), (1987, 0.014980794161826662), (1988, 0.0), (1989, 0.010416725403166398), (1990, 0.004892698972146438), (1991, 0.0183053454220575), (1992, 0.08785759997881627), (1993, 0.02843531959112075), (1994, 0.0), (1995, 0.0), (1996, 0.028616327438887815), (1997, 0.005834706295738736), (1998, 0.01826238735993432), (1999, 0.021842433040052123), (2000, 0.0), (2001, 0.0), (2002, 0.023063737864628873), (2003, 0.0), (2004, 0.0), (2005, 0.007842069805396637), (2006, 0.006480479597543071), (2007, 0.007960515549679631), (2008, 0.08968868675986108), (2009, 0.013901786412977646), (2010, 0.006000952761678939), (2011, 0.0), (2012, 0.027325434501195844), (2013, 0.01728182900498197), (2014, 0.025848915134985696), (2015, 0.03114066916181455), (2016, 0.021046118887748315), (2017, 0.0), (2018, 0.0), (2019, 0.01920379624499589), (2020, 0.0), (2021, 0.0), (2022, 0.0069165767122916725), (2023, 0.037644611962346725), (2024, 0.005142625833463374), (2025, 0.007194301605945311), (2026, 0.0), (2027, 0.0), (2028, 0.006172122992730385), (2029, 0.0), (2030, 0.0), (2031, 0.004846109694227162), (2032, 0.0), (2033, 0.0), (2034, 0.013445742215441273), (2035, 0.014776523265559945), (2036, 0.0), (2037, 0.04941762669171723), (2038, 0.0), (2039, 0.05028061707380118), (2040, 0.05009634569890038), (2041, 0.0), (2042, 0.0), (2043, 0.007897565866277703), (2044, 0.07409686966609046), (2045, 0.013180369918232784), (2046, 0.0), (2047, 0.007706681617294535), (2048, 0.007821195788791747), (2049, 0.0), (2050, 0.007245740166309543), (2051, 0.0), (2052, 0.0343017651631111), (2053, 0.005544461278801484), (2054, 0.04652638014170353), (2055, 0.07686379885940484), (2056, 0.011310735183374358), (2057, 0.016591062862032727), (2058, 0.0), (2059, 0.0), (2060, 0.0), (2061, 0.005439364227013608), (2062, 0.023007286762159344), (2063, 0.0), (2064, 0.008645406859681504), (2065, 0.006826998098694714), (2066, 0.014589764018687333), (2067, 0.007644576046685168), (2068, 0.0), (2069, 0.005276463622127865), (2070, 0.012053218299507649), (2071, 0.0), (2072, 0.0), (2073, 0.0), (2074, 0.034567568246088524), (2075, 0.04775298239669442), (2076, 0.0), (2077, 0.0), (2078, 0.011207168478827335), (2079, 0.1255399111501348), (2080, 0.0), (2081, 0.035281166979213865), (2082, 0.03370076906840325), (2083, 0.0), (2084, 0.005795756658579307), (2085, 0.0), (2086, 0.0), (2087, 0.0), (2088, 0.005626555699579784), (2089, 0.09406946553514642), (2090, 0.0), (2091, 0.005445102147124126), (2092, 0.0), (2093, 0.02006055561703433), (2094, 0.005081956578546273), (2095, 0.014677598611708456), (2096, 0.00572410035784397), (2097, 0.013792164374902728), (2098, 0.0), (2099, 0.017189161074423774), (2100, 0.015693203100102276), (2101, 0.0), (2102, 0.05105039326804358), (2103, 0.018828395626561217), (2104, 0.02926919573621192), (2105, 0.0), (2106, 0.0), (2107, 0.0), (2108, 0.0), (2109, 0.0), (2110, 0.0049273694449193115), (2111, 0.0), (2112, 0.07366377909920026), (2113, 0.0), (2114, 0.007342269664280591), (2115, 0.024621085936221525), (2116, 0.0), (2117, 0.0072889561006064035), (2118, 0.00542405407691298), (2119, 0.01673938850750241), (2120, 0.008126767126375778), (2121, 0.005112660379092153), (2122, 0.040356152625348266), (2123, 0.0), (2124, 0.06643768382086186), (2125, 0.006949844104050424), (2126, 0.0), (2127, 0.006379220884404898), (2128, 0.0), (2129, 0.018957257680566348), (2130, 1.0), (2131, 0.008378001483381713), (2132, 0.007286031310434521), (2133, 0.0), (2134, 0.0), (2135, 0.040406849950396714), (2136, 0.014055895753470937), (2137, 0.04675966700147748), (2138, 0.0), (2139, 0.012172094015317204), (2140, 0.0), (2141, 0.0), (2142, 0.0), (2143, 0.008338353333291445), (2144, 0.0), (2145, 0.0), (2146, 0.0), (2147, 0.009257054467798545), (2148, 0.0), (2149, 0.01556637039382323), (2150, 0.007358631606455037), (2151, 0.0), (2152, 0.05403252270674468), (2153, 0.036387670172743934), (2154, 0.058083151905235365), (2155, 0.0), (2156, 0.0), (2157, 0.02279721465578393), (2158, 0.05616291399769151), (2159, 0.0), (2160, 0.0), (2161, 0.0), (2162, 0.035428862174752065), (2163, 0.007781860895699924), (2164, 0.008505398658227229), (2165, 0.0), (2166, 0.0), (2167, 0.0), (2168, 0.0), (2169, 0.0), (2170, 0.010976567494316527), (2171, 0.00820917834712376), (2172, 0.02484306050252552), (2173, 0.0), (2174, 0.005323179907803911), (2175, 0.0), (2176, 0.012957286663272026), (2177, 0.006532791111732743), (2178, 0.013706623457170016), (2179, 0.0172763792281022), (2180, 0.0), (2181, 0.04549457813541733), (2182, 0.018933150020428516), (2183, 0.022675054245208), (2184, 0.0), (2185, 0.021905651251427526), (2186, 0.0), (2187, 0.010009322004822187), (2188, 0.01719769352205066), (2189, 0.0), (2190, 0.0), (2191, 0.031124037754773543), (2192, 0.060854932188214333), (2193, 0.0), (2194, 0.0), (2195, 0.01170658518872219), (2196, 0.014901846249152365), (2197, 0.004542149755274541), (2198, 0.015226734275600416), (2199, 0.0), (2200, 0.0), (2201, 0.0), (2202, 0.0), (2203, 0.007980324783853169), (2204, 0.0099499828280577), (2205, 0.05744588189585606), (2206, 0.005133206492698881), (2207, 0.015429482897838697), (2208, 0.022989309630922432), (2209, 0.0), (2210, 0.01834652448264413), (2211, 0.0), (2212, 0.0), (2213, 0.0), (2214, 0.005839064970755803), (2215, 0.011017199477689497), (2216, 0.02235786647653666), (2217, 0.012287776466500522), (2218, 0.008447912718568294), (2219, 0.0), (2220, 0.0), (2221, 0.009757876250372973), (2222, 0.0), (2223, 0.0), (2224, 0.043028900461564636), (2225, 0.0), (2226, 0.0), (2227, 0.0), (2228, 0.02852040461312676), (2229, 0.005868899278111246), (2230, 0.03779513042136411), (2231, 0.01994053065485115), (2232, 0.016713858147692037), (2233, 0.02683409443466281), (2234, 0.0), (2235, 0.018542042424547232), (2236, 0.0), (2237, 0.006667905229267737), (2238, 0.0), (2239, 0.008507168913035209), (2240, 0.007653351958556849), (2241, 0.0), (2242, 0.0), (2243, 0.01972602788390201), (2244, 0.018535620632351), (2245, 0.013610644991186461), (2246, 0.018010751244128525), (2247, 0.02168894544117198), (2248, 0.0), (2249, 0.007946774548307651), (2250, 0.07786267992954206), (2251, 0.0), (2252, 0.029528909417826845), (2253, 0.020084491354270533), (2254, 0.0193636448758346), (2255, 0.0069286601409553825), (2256, 0.0), (2257, 0.0), (2258, 0.0), (2259, 0.015799199377885955), (2260, 0.0), (2261, 0.0), (2262, 0.0), (2263, 0.0), (2264, 0.00774806989444437), (2265, 0.0), (2266, 0.0), (2267, 0.02096900313326441), (2268, 0.02420675921010702), (2269, 0.010122032192693768), (2270, 0.01588967487479279), (2271, 0.019361717796869946), (2272, 0.0), (2273, 0.045445493854005425), (2274, 0.023353975528097107), (2275, 0.048924639576359244), (2276, 0.005516357267183827), (2277, 0.020550683150043696), (2278, 0.02410531570634959), (2279, 0.00849754098854575), (2280, 0.02182343721130267), (2281, 0.0115704110534149), (2282, 0.0), (2283, 0.03178128967245935), (2284, 0.005399330107391351), (2285, 0.03622883523838176), (2286, 0.0), (2287, 0.09854308690338354), (2288, 0.0), (2289, 0.0), (2290, 0.0), (2291, 0.0), (2292, 0.0), (2293, 0.0), (2294, 0.0), (2295, 0.005455737600174693), (2296, 0.006383315972401825), (2297, 0.011505036844622979), (2298, 0.007498558044141878), (2299, 0.0), (2300, 0.0), (2301, 0.01541661708428422), (2302, 0.0), (2303, 0.0), (2304, 0.0446649634426438), (2305, 0.0), (2306, 0.0), (2307, 0.0), (2308, 0.02301506915962958), (2309, 0.016099323696230555), (2310, 0.0), (2311, 0.0), (2312, 0.0), (2313, 0.011916778668492669), (2314, 0.019850354404941165), (2315, 0.008038588076574774), (2316, 0.029854357227353724), (2317, 0.00806952564257549), (2318, 0.014125495942778166), (2319, 0.01219346380122881), (2320, 0.0136451498607273), (2321, 0.0), (2322, 0.008495398657301464), (2323, 0.023079225741037324), (2324, 0.009804326014046735), (2325, 0.022876261502196193), (2326, 0.011065164820914051), (2327, 0.00813122925245305), (2328, 0.006591397102268839), (2329, 0.00745341330510986), (2330, 0.022933332809829003), (2331, 0.007155683620853551), (2332, 0.007830735078203276), (2333, 0.0), (2334, 0.051134205452722306), (2335, 0.0), (2336, 0.005340211441948835), (2337, 0.02047198339471039), (2338, 0.0), (2339, 0.06863330835691353), (2340, 0.0), (2341, 0.0), (2342, 0.043845026439031355), (2343, 0.0), (2344, 0.01808216511862113), (2345, 0.012236166788831646), (2346, 0.0), (2347, 0.0), (2348, 0.02075094366282244), (2349, 0.0), (2350, 0.0), (2351, 0.014010143323879301), (2352, 0.013947653309559133), (2353, 0.019908473380717537), (2354, 0.025089470979870708), (2355, 0.014262769564243886), (2356, 0.03312857556665027), (2357, 0.043930062490303075), (2358, 0.0), (2359, 0.01057867317284256), (2360, 0.010373341556390227), (2361, 0.0), (2362, 0.0), (2363, 0.0), (2364, 0.006109656504775581), (2365, 0.01033073313489733), (2366, 0.02535542498118659), (2367, 0.0), (2368, 0.06209324930779111), (2369, 0.02816937382036013), (2370, 0.01735702842909402), (2371, 0.0), (2372, 0.01305174802765617), (2373, 0.0), (2374, 0.018287590704319814), (2375, 0.009581168997542544), (2376, 0.0), (2377, 0.0), (2378, 0.0), (2379, 0.0), (2380, 0.0), (2381, 0.02897636261463932), (2382, 0.010054637386294878), (2383, 0.024495590302032962), (2384, 0.0), (2385, 0.0), (2386, 0.0), (2387, 0.0), (2388, 0.0), (2389, 0.006778194729133292), (2390, 0.0), (2391, 0.009314786493857415), (2392, 0.0), (2393, 0.00930713974926178), (2394, 0.0), (2395, 0.0), (2396, 0.008800537156560252), (2397, 0.00886980368625028), (2398, 0.008861811058914202), (2399, 0.015557040551560384), (2400, 0.009864221731720076), (2401, 0.008475911687966148), (2402, 0.007898178139664772), (2403, 0.013528163396035893), (2404, 0.0), (2405, 0.009070665003249214), (2406, 0.0165523294457778), (2407, 0.0), (2408, 0.011622755037183085), (2409, 0.0), (2410, 0.009567497390621144), (2411, 0.0), (2412, 0.03082334410852001), (2413, 0.013604009287537785), (2414, 0.026197622696350314), (2415, 0.0), (2416, 0.0), (2417, 0.0), (2418, 0.0), (2419, 0.03593623799915275), (2420, 0.0), (2421, 0.02095648451287014), (2422, 0.0), (2423, 0.0), (2424, 0.03623379473920183), (2425, 0.0), (2426, 0.006849187342006793), (2427, 0.015064682996850636), (2428, 0.014312671034395624), (2429, 0.004978175425924216), (2430, 0.0), (2431, 0.0), (2432, 0.005176467314972148), (2433, 0.006654413214896987), (2434, 0.028064010444396603), (2435, 0.0), (2436, 0.0), (2437, 0.0), (2438, 0.0), (2439, 0.0), (2440, 0.0), (2441, 0.013490984209685952), (2442, 0.027735744116184284), (2443, 0.0035269463651321467), (2444, 0.007751151311435462), (2445, 0.0188301851072272), (2446, 0.015653399901586224), (2447, 0.02704604084230227), (2448, 0.0), (2449, 0.042702927865698535), (2450, 0.007064036768575495), (2451, 0.008161327311189745), (2452, 0.0), (2453, 0.0), (2454, 0.0), (2455, 0.0), (2456, 0.0), (2457, 0.00784514596546466), (2458, 0.01279123048033722), (2459, 0.006536598493836819), (2460, 0.007600473362483212), (2461, 0.024796857500311915), (2462, 0.0), (2463, 0.01807702942404092), (2464, 0.0), (2465, 0.02736920381696519), (2466, 0.0), (2467, 0.017743134955020088), (2468, 0.05804641151007183), (2469, 0.0), (2470, 0.0), (2471, 0.0), (2472, 0.015246004243177961), (2473, 0.007236944471372223), (2474, 0.023840468105361487), (2475, 0.0), (2476, 0.006106494508463648), (2477, 0.019495871160401777), (2478, 0.0), (2479, 0.00848546622685802), (2480, 0.005324197237726313), (2481, 0.0), (2482, 0.0), (2483, 0.02906104350898035), (2484, 0.0), (2485, 0.0), (2486, 0.020602225416445824), (2487, 0.10614739507678202), (2488, 0.010658354240556433), (2489, 0.0), (2490, 0.0), (2491, 0.0), (2492, 0.018505547286222383), (2493, 0.02257954697777368), (2494, 0.022057453912400007), (2495, 0.0), (2496, 0.005022220880479146), (2497, 0.0), (2498, 0.039376368431260765), (2499, 0.06412159925423286), (2500, 0.04702844398026012), (2501, 0.013031621374430879), (2502, 0.01805061389314333), (2503, 0.0), (2504, 0.007419205804448244), (2505, 0.013035342152711061), (2506, 0.013011355513318303), (2507, 0.0), (2508, 0.0), (2509, 0.013690932841190624), (2510, 0.0), (2511, 0.00903984139868858), (2512, 0.036515054988962896), (2513, 0.0), (2514, 0.0), (2515, 0.0), (2516, 0.017857274625667528), (2517, 0.0), (2518, 0.0), (2519, 0.0), (2520, 0.0), (2521, 0.01528119573426901), (2522, 0.026331805120422214), (2523, 0.0), (2524, 0.04210282944827998), (2525, 0.031066237444472483), (2526, 0.0), (2527, 0.0), (2528, 0.046414534852119084), (2529, 0.0), (2530, 0.009658126324772986), (2531, 0.009089134098443898), (2532, 0.008578654252341661), (2533, 0.0), (2534, 0.011181012733653007), (2535, 0.0), (2536, 0.0), (2537, 0.0), (2538, 0.0), (2539, 0.014167441544530406), (2540, 0.005118363176495558), (2541, 0.021918694915158174), (2542, 0.0), (2543, 0.0), (2544, 0.0034351734009786575), (2545, 0.0), (2546, 0.0), (2547, 0.0), (2548, 0.0), (2549, 0.04590702507660115), (2550, 0.008777088223632299), (2551, 0.03011115138150741), (2552, 0.0), (2553, 0.0), (2554, 0.007665819130214557), (2555, 0.03566108691936587), (2556, 0.0), (2557, 0.0), (2558, 0.005371061708475799), (2559, 0.05834022432025746), (2560, 0.0), (2561, 0.0), (2562, 0.00572140790648384), (2563, 0.03644972066682601), (2564, 0.0), (2565, 0.03628529753659275), (2566, 0.0), (2567, 0.015390197157850503), (2568, 0.0), (2569, 0.040108152821210864), (2570, 0.0), (2571, 0.008426022293264135), (2572, 0.0), (2573, 0.004402132230378618), (2574, 0.02716945747670574), (2575, 0.03934369618321666), (2576, 0.006075483717158988), (2577, 0.057537458685142165), (2578, 0.033265129536447946), (2579, 0.0), (2580, 0.05921819054474259), (2581, 0.042120801368235275), (2582, 0.0), (2583, 0.0), (2584, 0.02205479632464476), (2585, 0.0), (2586, 0.0), (2587, 0.0), (2588, 0.012572323034161672), (2589, 0.0), (2590, 0.007073816224475176), (2591, 0.0), (2592, 0.0), (2593, 0.0), (2594, 0.0), (2595, 0.019946824471508452), (2596, 0.0), (2597, 0.0), (2598, 0.017072215921221552), (2599, 0.0058043491086968435), (2600, 0.0), (2601, 0.0), (2602, 0.0044560491278625184), (2603, 0.045236855902480784), (2604, 0.0), (2605, 0.00793242333998508), (2606, 0.005407444123213388), (2607, 0.004813692490134453), (2608, 0.0), (2609, 0.02608138493181368), (2610, 0.0), (2611, 0.0), (2612, 0.008422904058838783), (2613, 0.013827796615103673), (2614, 0.0), (2615, 0.007058845481510453), (2616, 0.007429834403228225), (2617, 0.047668540929462884), (2618, 0.005114712311135237), (2619, 0.020062989666119847), (2620, 0.0), (2621, 0.004672290373429933), (2622, 0.019354761503059037), (2623, 0.0), (2624, 0.0), (2625, 0.0), (2626, 0.005893982465799039), (2627, 0.02109313791028316), (2628, 0.0), (2629, 0.014387418422097557), (2630, 0.005719760198218351), (2631, 0.022293124324116915), (2632, 0.01762050859890371), (2633, 0.0), (2634, 0.0), (2635, 0.0), (2636, 0.006547611723302072), (2637, 0.09296525245822135), (2638, 0.0205023951450274), (2639, 0.0), (2640, 0.007950798816713556), (2641, 0.0072816780797608106), (2642, 0.007321202580173812), (2643, 0.0), (2644, 0.0), (2645, 0.0069113908700340915), (2646, 0.012211449983004373), (2647, 0.013135618141180225), (2648, 0.0), (2649, 0.056466818855134306), (2650, 0.009061163538945004), (2651, 0.01594534470870298), (2652, 0.0), (2653, 0.0), (2654, 0.016760221527220925), (2655, 0.007116921037272385), (2656, 0.0232196679014622), (2657, 0.0), (2658, 0.0), (2659, 0.0), (2660, 0.01335915267243971), (2661, 0.009362307378675138), (2662, 0.04056140239693472), (2663, 0.0), (2664, 0.0), (2665, 0.0), (2666, 0.023041041408609884), (2667, 0.0), (2668, 0.04072048801241082), (2669, 0.027197023821968085), (2670, 0.0), (2671, 0.0064056262630486785), (2672, 0.029129902034882513), (2673, 0.0), (2674, 0.0), (2675, 0.04407190575623881), (2676, 0.0), (2677, 0.01642070604131883), (2678, 0.0), (2679, 0.020852021699819093), (2680, 0.01729684088912141), (2681, 0.05020373129971305), (2682, 0.005010483540141359), (2683, 0.020211998420566764), (2684, 0.01699790168932406), (2685, 0.0), (2686, 0.02109506961492836), (2687, 0.0), (2688, 0.10676726753466556), (2689, 0.005692869929146342), (2690, 0.037960424282217145), (2691, 0.06400853074813428), (2692, 0.004663428752584404), (2693, 0.0), (2694, 0.0), (2695, 0.0580916091740267), (2696, 0.0), (2697, 0.004396492322275392), (2698, 0.012348616466685535), (2699, 0.008136386641807745), (2700, 0.00603304272667142), (2701, 0.02727648376381502), (2702, 0.0), (2703, 0.0), (2704, 0.01960265059580712), (2705, 0.0), (2706, 0.024130045637991277), (2707, 0.008918497421716296), (2708, 0.01874537579492585), (2709, 0.01174263801998095), (2710, 0.008543988680694139), (2711, 0.02170689129150608), (2712, 0.0), (2713, 0.007444221787975758), (2714, 0.005683637625024727), (2715, 0.032190696160348566), (2716, 0.005172834602622832), (2717, 0.0), (2718, 0.006631334513355018), (2719, 0.0), (2720, 0.02397820018458261), (2721, 0.0), (2722, 0.0), (2723, 0.0), (2724, 0.004772084262571273), (2725, 0.008126752060424285), (2726, 0.0), (2727, 0.0907773089832324), (2728, 0.007938336548921888), (2729, 0.008106949906673403), (2730, 0.0), (2731, 0.02262252427224111), (2732, 0.0), (2733, 0.0059655675885227355), (2734, 0.006931700931530642), (2735, 0.0), (2736, 0.0171817953758513), (2737, 0.036843809858484546), (2738, 0.019660744387905604), (2739, 0.043869453278798744), (2740, 0.01711171830491283), (2741, 0.006841953887083083), (2742, 0.036744251098871916), (2743, 0.03427341701756076), (2744, 0.0), (2745, 0.0), (2746, 0.0), (2747, 0.0), (2748, 0.0), (2749, 0.025535277570132686), (2750, 0.04035162505731512), (2751, 0.005092689643385334), (2752, 0.05435398641850023), (2753, 0.029064275752868463), (2754, 0.02997476661163131), (2755, 0.008035161569544624), (2756, 0.010498911257012156), (2757, 0.035930345941122384), (2758, 0.0), (2759, 0.005232955883451122), (2760, 0.013387851108124238), (2761, 0.0), (2762, 0.028197520708209273), (2763, 0.00742106695311134), (2764, 0.0), (2765, 0.0), (2766, 0.01321948704461317), (2767, 0.0), (2768, 0.007633915627488684), (2769, 0.021706755042424572), (2770, 0.0), (2771, 0.004556903588517178), (2772, 0.0), (2773, 0.01682576663855179), (2774, 0.019539377260171784), (2775, 0.0), (2776, 0.08871273062117921), (2777, 0.04099939828272932), (2778, 0.006493695640896188), (2779, 0.0), (2780, 0.03593408615330741), (2781, 0.010510284162856896), (2782, 0.0), (2783, 0.05118961044188437), (2784, 0.005489118484544665), (2785, 0.01451138062189967), (2786, 0.03616775037699729), (2787, 0.0051065786320041275), (2788, 0.005467355249108082), (2789, 0.08604789437967715), (2790, 0.014816196261615589), (2791, 0.004925177589033562), (2792, 0.0), (2793, 0.0), (2794, 0.01903916374408097), (2795, 0.028065759339184683), (2796, 0.0), (2797, 0.0), (2798, 0.008856182218254027), (2799, 0.0), (2800, 0.0), (2801, 0.053523023868838254), (2802, 0.0), (2803, 0.011802545165312373), (2804, 0.02599728563071975), (2805, 0.0), (2806, 0.00841560010732459), (2807, 0.0), (2808, 0.048138954764446004), (2809, 0.017739666819259176), (2810, 0.0), (2811, 0.012853688832197395), (2812, 0.0), (2813, 0.01176256557512293), (2814, 0.0), (2815, 0.040211274622521186), (2816, 0.0), (2817, 0.02181536635000661), (2818, 0.025753267652374227), (2819, 0.005689035563551908), (2820, 0.004697269130283692), (2821, 0.019523442328267485), (2822, 0.028629681656209164), (2823, 0.0), (2824, 0.0), (2825, 0.016458242827820317), (2826, 0.019439674093826437), (2827, 0.01179008818663857), (2828, 0.012251057596268981), (2829, 0.017619517191599987), (2830, 0.021520258767979493), (2831, 0.04478042136688955), (2832, 0.0), (2833, 0.05386372763628165), (2834, 0.0), (2835, 0.0), (2836, 0.0), (2837, 0.06900635185472126), (2838, 0.0), (2839, 0.0), (2840, 0.0059896472574294994), (2841, 0.04346227058667111), (2842, 0.029210704605692993), (2843, 0.01687660366715646), (2844, 0.0), (2845, 0.02336136626139508), (2846, 0.027468259921782593), (2847, 0.029444380506456636), (2848, 0.0), (2849, 0.0), (2850, 0.0809776257726332), (2851, 0.010730145913209144), (2852, 0.0), (2853, 0.0), (2854, 0.028685769192228587), (2855, 0.0), (2856, 0.0), (2857, 0.010765426074183458), (2858, 0.0), (2859, 0.0), (2860, 0.008244491495170782), (2861, 0.0), (2862, 0.0), (2863, 0.017377191184536785), (2864, 0.019157261331782787), (2865, 0.05021650753436418), (2866, 0.015502915954254856), (2867, 0.005926074431837778), (2868, 0.008068791951984157), (2869, 0.0), (2870, 0.0), (2871, 0.015211766649050957), (2872, 0.0), (2873, 0.0), (2874, 0.04886476236501905), (2875, 0.0), (2876, 0.0), (2877, 0.014643776979928896), (2878, 0.0), (2879, 0.0219755906212197), (2880, 0.0), (2881, 0.057801748727942824), (2882, 0.0), (2883, 0.0), (2884, 0.010067686568981367), (2885, 0.005402762255467236), (2886, 0.012091993374951671), (2887, 0.0263339849861637), (2888, 0.008231383967098344), (2889, 0.01744748796881173), (2890, 0.0), (2891, 0.031213805753091097), (2892, 0.029196160095615018), (2893, 0.0), (2894, 0.0), (2895, 0.031108471539554393), (2896, 0.0), (2897, 0.0), (2898, 0.00828088433780266), (2899, 0.020891264619929354), (2900, 0.0), (2901, 0.0), (2902, 0.0), (2903, 0.00602248743930967), (2904, 0.01220831578689087), (2905, 0.0), (2906, 0.025825749911445435), (2907, 0.0), (2908, 0.0043156443805148674), (2909, 0.0), (2910, 0.05676785089311249), (2911, 0.019139825915148064), (2912, 0.0), (2913, 0.0), (2914, 0.0), (2915, 0.0), (2916, 0.0), (2917, 0.014213006994290303), (2918, 0.005173918879104851), (2919, 0.005547857992696748), (2920, 0.00695269850374104), (2921, 0.05470698577536656), (2922, 0.0), (2923, 0.0), (2924, 0.0), (2925, 0.04583193099922274), (2926, 0.0), (2927, 0.03591213342707745), (2928, 0.0), (2929, 0.023871918655935635), (2930, 0.024228205876207876), (2931, 0.04248845789069158), (2932, 0.02385794197746794), (2933, 0.037629199892081806), (2934, 0.0), (2935, 0.01957086827698776), (2936, 0.0), (2937, 0.02776630353031874), (2938, 0.0), (2939, 0.07770992548759506), (2940, 0.008121997965222236), (2941, 0.02363371277201404), (2942, 0.0), (2943, 0.0), (2944, 0.04378714733217345), (2945, 0.0), (2946, 0.0), (2947, 0.005504339694897567), (2948, 0.02869661576612207), (2949, 0.03792916708152828), (2950, 0.007221258450915474), (2951, 0.0), (2952, 0.009981111997545982), (2953, 0.0), (2954, 0.0), (2955, 0.007759806482548535), (2956, 0.021642956840705455), (2957, 0.0), (2958, 0.0), (2959, 0.018996043938964983), (2960, 0.030219892221895573), (2961, 0.005286140747542961), (2962, 0.0), (2963, 0.015045981545910869), (2964, 0.0), (2965, 0.008284572783837615), (2966, 0.0), (2967, 0.0), (2968, 0.0), (2969, 0.009734976760154878), (2970, 0.03920445557800377), (2971, 0.0), (2972, 0.0), (2973, 0.0), (2974, 0.0), (2975, 0.007661976801923629), (2976, 0.0), (2977, 0.0), (2978, 0.005839439575043581), (2979, 0.0), (2980, 0.0), (2981, 0.030314778531449378), (2982, 0.009925128939501102), (2983, 0.0), (2984, 0.05326778634916182), (2985, 0.007274514772966618), (2986, 0.0), (2987, 0.0), (2988, 0.06475892210342762), (2989, 0.016355233680768817), (2990, 0.0), (2991, 0.005441870603183951), (2992, 0.0050073597278474736), (2993, 0.014157325060493858), (2994, 0.0), (2995, 0.0), (2996, 0.05301377631496615), (2997, 0.0), (2998, 0.011407913365581479), (2999, 0.0), (3000, 0.0), (3001, 0.009664699008338332), (3002, 0.0960479564926735), (3003, 0.0), (3004, 0.0), (3005, 0.0054279217322280434), (3006, 0.0), (3007, 0.0), (3008, 0.0), (3009, 0.0), (3010, 0.0), (3011, 0.0421207960531125), (3012, 0.006020978403768286), (3013, 0.0), (3014, 0.011080560142133615), (3015, 0.0), (3016, 0.0), (3017, 0.0), (3018, 0.0640913281070365), (3019, 0.006251765337633285), (3020, 0.0), (3021, 0.011077620534261921), (3022, 0.006247688810494866), (3023, 0.0), (3024, 0.007214502586686468), (3025, 0.01445758039179605), (3026, 0.012968055083417742), (3027, 0.01140509696408559), (3028, 0.0), (3029, 0.0), (3030, 0.0), (3031, 0.0), (3032, 0.0060111750311269765), (3033, 0.0), (3034, 0.016963107011925656), (3035, 0.005112535242145575), (3036, 0.07601255065485722), (3037, 0.0), (3038, 0.0), (3039, 0.0), (3040, 0.016391683041857764), (3041, 0.0), (3042, 0.022835350439035517), (3043, 0.051333221970368575), (3044, 0.012794440532716283), (3045, 0.01819297070799126), (3046, 0.0), (3047, 0.02995901440739384), (3048, 0.0), (3049, 0.0066680167170049985), (3050, 0.0), (3051, 0.0), (3052, 0.0), (3053, 0.0), (3054, 0.0), (3055, 0.0), (3056, 0.024173501573811346), (3057, 0.0), (3058, 0.02423326450226332), (3059, 0.0), (3060, 0.01773024295139679), (3061, 0.0), (3062, 0.00842459347630013), (3063, 0.015425067793058418), (3064, 0.0), (3065, 0.011016011668638715), (3066, 0.05903987263359531), (3067, 0.0), (3068, 0.0), (3069, 0.022924579668049522), (3070, 0.004797208864014155), (3071, 0.03194244240736842), (3072, 0.0), (3073, 0.0), (3074, 0.0), (3075, 0.0), (3076, 0.0), (3077, 0.0), (3078, 0.0), (3079, 0.01663003188835029), (3080, 0.0), (3081, 0.0), (3082, 0.007756730917090516), (3083, 0.0), (3084, 0.012448950257755139), (3085, 0.0051303699931905655), (3086, 0.07661303316311847), (3087, 0.0), (3088, 0.0), (3089, 0.0), (3090, 0.017152182393305602), (3091, 0.006360379990087974), (3092, 0.0), (3093, 0.0), (3094, 0.0), (3095, 0.04868302275303653), (3096, 0.006605486301516326), (3097, 0.0), (3098, 0.020018523543879032), (3099, 0.04555737409304378), (3100, 0.01211465437187485), (3101, 0.0), (3102, 0.0), (3103, 0.0), (3104, 0.018347377703561554), (3105, 0.007256143351311234), (3106, 0.0), (3107, 0.0), (3108, 0.016195491668176302), (3109, 0.009288330766389113), (3110, 0.03350322091560083), (3111, 0.03595296504385257), (3112, 0.018396298150434885), (3113, 0.0), (3114, 0.08604341333386398), (3115, 0.05135958226639263), (3116, 0.0), (3117, 0.01615451812144262), (3118, 0.05384203831444799), (3119, 0.0), (3120, 0.0108668960750282), (3121, 0.015241379710382714), (3122, 0.017214058158851166), (3123, 0.02201005251249575), (3124, 0.013464955001850064), (3125, 0.005396880826190313), (3126, 0.005143014049067511), (3127, 0.0), (3128, 0.0), (3129, 0.011142604893247265), (3130, 0.0), (3131, 0.02643299494538185), (3132, 0.008056484437619022), (3133, 0.02038770200759472), (3134, 0.013536169733822564), (3135, 0.012147183806878934), (3136, 0.012096076924574085), (3137, 0.0), (3138, 0.0), (3139, 0.0), (3140, 0.0), (3141, 0.00732101038401503), (3142, 0.012057981927743116), (3143, 0.004987689254290811), (3144, 0.006493666551529362), (3145, 0.0), (3146, 0.0), (3147, 0.008119039903138054), (3148, 0.0), (3149, 0.01973386530384303), (3150, 0.0), (3151, 0.0), (3152, 0.0059297976814273205), (3153, 0.06872610199849986), (3154, 0.006573017097301006), (3155, 0.01696872744641107), (3156, 0.012491336533927946), (3157, 0.0), (3158, 0.020224555048352882), (3159, 0.0), (3160, 0.015027428214195683), (3161, 0.03784461276529825), (3162, 0.0), (3163, 0.03224967901243603), (3164, 0.0), (3165, 0.0), (3166, 0.02337771791021212), (3167, 0.018321935837288514), (3168, 0.0060471988892071005), (3169, 0.0), (3170, 0.0), (3171, 0.01205633511311181), (3172, 0.00884816695975019), (3173, 0.0), (3174, 0.0), (3175, 0.0), (3176, 0.0), (3177, 0.027159388819065308), (3178, 0.03484019505293809), (3179, 0.017566962143827997), (3180, 0.049025758069269995), (3181, 0.012790358841162214), (3182, 0.0), (3183, 0.0), (3184, 0.0), (3185, 0.008148757504893253), (3186, 0.0), (3187, 0.01753197271579457), (3188, 0.025352503962657025), (3189, 0.04655317334776948), (3190, 0.03290608668800175), (3191, 0.005528778537419292), (3192, 0.0), (3193, 0.007138207460783203), (3194, 0.0), (3195, 0.00528493894320645), (3196, 0.00602205253563327), (3197, 0.016713338126087676), (3198, 0.0), (3199, 0.013507382136416866), (3200, 0.0), (3201, 0.0), (3202, 0.008261955794672406), (3203, 0.0), (3204, 0.024618055280955037), (3205, 0.0056523565057311), (3206, 0.009193883131686625), (3207, 0.018520525885108562), (3208, 0.0171559021330287), (3209, 0.02772774120039104), (3210, 0.005417016384766331), (3211, 0.0), (3212, 0.0), (3213, 0.004501700866362731), (3214, 0.0), (3215, 0.025433821676296906), (3216, 0.0), (3217, 0.0), (3218, 0.0), (3219, 0.011397380456819569), (3220, 0.03343010972707593), (3221, 0.033696893974132974), (3222, 0.020897925351375114), (3223, 0.0), (3224, 0.017546508543641287), (3225, 0.0225814024974584), (3226, 0.0), (3227, 0.005414859331206219), (3228, 0.04802805576627975), (3229, 0.0), (3230, 0.0), (3231, 0.006804738162131365), (3232, 0.01896444230145777), (3233, 0.005524801606700876), (3234, 0.0), (3235, 0.0), (3236, 0.0), (3237, 0.008614067311583535), (3238, 0.0), (3239, 0.0), (3240, 0.04654771469854959), (3241, 0.0), (3242, 0.009156420424010367), (3243, 0.0), (3244, 0.04059007107074474), (3245, 0.031386852854081444), (3246, 0.008360771492652358), (3247, 0.012744766781613107), (3248, 0.0), (3249, 0.0), (3250, 0.015806357345543497), (3251, 0.0), (3252, 0.0), (3253, 0.025059006380975885), (3254, 0.00713090217385569), (3255, 0.02146913093552282), (3256, 0.021437730742903886), (3257, 0.0), (3258, 0.0), (3259, 0.00919761297417745), (3260, 0.00855674733611239), (3261, 0.0), (3262, 0.0), (3263, 0.00585053498250777), (3264, 0.0), (3265, 0.012096051668997722), (3266, 0.0), (3267, 0.0), (3268, 0.0), (3269, 0.009433889556366563), (3270, 0.0), (3271, 0.0), (3272, 0.016610247278922408), (3273, 0.0), (3274, 0.0), (3275, 0.006276853583104828), (3276, 0.044735152810785044), (3277, 0.0), (3278, 0.011524541276728207), (3279, 0.014659532251153198), (3280, 0.0), (3281, 0.02711844999307058), (3282, 0.0), (3283, 0.011955546960194855), (3284, 0.02787422741081633), (3285, 0.012524688658766627), (3286, 0.007377608852297311), (3287, 0.007855628137410543), (3288, 0.0), (3289, 0.008937793684208752), (3290, 0.01714509474774683), (3291, 0.0), (3292, 0.015322390173836067), (3293, 0.0), (3294, 0.0), (3295, 0.07275811812017789), (3296, 0.0), (3297, 0.054948726298074936), (3298, 0.0), (3299, 0.0), (3300, 0.025478164984802185), (3301, 0.01725608182170275), (3302, 0.0), (3303, 0.02321526841490505), (3304, 0.0), (3305, 0.012368713472533623), (3306, 0.022978653556825008), (3307, 0.0), (3308, 0.0), (3309, 0.0), (3310, 0.05948759774877445), (3311, 0.0), (3312, 0.006237554717711904), (3313, 0.0), (3314, 0.0), (3315, 0.008331273960106484), (3316, 0.01414649238009392), (3317, 0.004398608863044616), (3318, 0.012700313095811502), (3319, 0.0), (3320, 0.0), (3321, 0.008069399956617526), (3322, 0.0), (3323, 0.0), (3324, 0.0), (3325, 0.03223955031851759), (3326, 0.0), (3327, 0.014638619417026839), (3328, 0.0049946452482285955), (3329, 0.015230820131470209), (3330, 0.02667477747719752), (3331, 0.004476677666512661), (3332, 0.012826080501427257), (3333, 0.0), (3334, 0.005650359203392731), (3335, 0.039097770644822796), (3336, 0.0), (3337, 0.0), (3338, 0.032512899097092096), (3339, 0.019125399246210317), (3340, 0.0), (3341, 0.08571518319439113), (3342, 0.027197644784754484), (3343, 0.0), (3344, 0.02584716524214408), (3345, 0.0), (3346, 0.04744780255164402), (3347, 0.0), (3348, 0.02475017210258422), (3349, 0.005571640786736882), (3350, 0.018143036482477712), (3351, 0.0), (3352, 0.016207223084124284), (3353, 0.0), (3354, 0.0), (3355, 0.013503642582008544), (3356, 0.006577865286799882), (3357, 0.015754283700940622), (3358, 0.0), (3359, 0.0), (3360, 0.013499777220485568), (3361, 0.0360035452902204), (3362, 0.0), (3363, 0.10660197343009484), (3364, 0.0), (3365, 0.0), (3366, 0.00733886491356474), (3367, 0.012989643439102867), (3368, 0.0), (3369, 0.0), (3370, 0.025071554906980174), (3371, 0.0), (3372, 0.0), (3373, 0.0), (3374, 0.0053296541409694935), (3375, 0.0), (3376, 0.0), (3377, 0.015176239567725933), (3378, 0.0), (3379, 0.04867889880961461), (3380, 0.0), (3381, 0.011597379057725989), (3382, 0.0), (3383, 0.0), (3384, 0.006296037023892897), (3385, 0.020224048048072214), (3386, 0.02473515383257985), (3387, 0.032932731272182575), (3388, 0.009188821216706887), (3389, 0.026117581026022983), (3390, 0.008309528630873387), (3391, 0.0), (3392, 0.028454400508968025), (3393, 0.0), (3394, 0.00662698712901227), (3395, 0.0069806821135896795), (3396, 0.0), (3397, 0.006819544260479234), (3398, 0.0055386832835953885), (3399, 0.0), (3400, 0.0), (3401, 0.0), (3402, 0.03214952766582995), (3403, 0.01580914392941236), (3404, 0.013195220223572758), (3405, 0.0810309850614161), (3406, 0.0), (3407, 0.0), (3408, 0.01357357194880493), (3409, 0.03219726210815203), (3410, 0.0), (3411, 0.0), (3412, 0.0), (3413, 0.0), (3414, 0.01313892368698734), (3415, 0.0), (3416, 0.017091878253798563), (3417, 0.0), (3418, 0.0), (3419, 0.008769359669223376), (3420, 0.0), (3421, 0.006033670753884278), (3422, 0.012380444204246893), (3423, 0.0), (3424, 0.0), (3425, 0.0), (3426, 0.023854664195857286), (3427, 0.05670360801708157), (3428, 0.01899963388296594), (3429, 0.003651317157129562), (3430, 0.0), (3431, 0.0), (3432, 0.03445059401128199), (3433, 0.025805686211709027), (3434, 0.0), (3435, 0.016941607279188996), (3436, 0.005404882947660643), (3437, 0.005622053984546033), (3438, 0.013845458407689217), (3439, 0.025080279078138333), (3440, 0.00623969024477841), (3441, 0.011641128951578346), (3442, 0.0), (3443, 0.030019248869351933), (3444, 0.008376246125266011), (3445, 0.0), (3446, 0.005515314620784201), (3447, 0.0), (3448, 0.01573290740658471), (3449, 0.0), (3450, 0.006237119222333491), (3451, 0.005756137338524353), (3452, 0.005007745938885941), (3453, 0.0), (3454, 0.0074331831578110805), (3455, 0.0), (3456, 0.036926099124196435), (3457, 0.0), (3458, 0.028802899742403416), (3459, 0.015138412289035013), (3460, 0.03191289082230558), (3461, 0.02606458786449708), (3462, 0.011883279669642808), (3463, 0.007838718243097774), (3464, 0.00924300464755883), (3465, 0.01624975567412511), (3466, 0.005055694085770888), (3467, 0.007696024152339434), (3468, 0.005787880809880568), (3469, 0.008509805461509784), (3470, 0.006027945168605324), (3471, 0.004269988729945515), (3472, 0.0), (3473, 0.020887917845323716), (3474, 0.004879865577772566), (3475, 0.019079691207651663), (3476, 0.0), (3477, 0.03350183763777757), (3478, 0.0), (3479, 0.0), (3480, 0.0), (3481, 0.0), (3482, 0.007645413080086656), (3483, 0.005686065410292827), (3484, 0.011718989952593557), (3485, 0.0), (3486, 0.013241964709737465), (3487, 0.005163419155904226), (3488, 0.01881203887645871), (3489, 0.0), (3490, 0.0), (3491, 0.0), (3492, 0.007589539062132336), (3493, 0.019248509131391252), (3494, 0.02857996437326355), (3495, 0.004775395917024927), (3496, 0.0), (3497, 0.00952890734923955), (3498, 0.005131151786526504), (3499, 0.005275769543252142), (3500, 0.0), (3501, 0.005458923007017629), (3502, 0.00650020696514416), (3503, 0.0), (3504, 0.017283578049091048), (3505, 0.0), (3506, 0.010058631933613733), (3507, 0.005567154422057289), (3508, 0.05573624414785543), (3509, 0.0), (3510, 0.0), (3511, 0.0), (3512, 0.0), (3513, 0.005626660567208655), (3514, 0.005606468002545161), (3515, 0.0), (3516, 0.015325627792677104), (3517, 0.0), (3518, 0.0), (3519, 0.0), (3520, 0.09965842717917493), (3521, 0.00661602252267267), (3522, 0.0), (3523, 0.0), (3524, 0.0), (3525, 0.03227033513314155), (3526, 0.0), (3527, 0.0), (3528, 0.0), (3529, 0.050484243992798064), (3530, 0.018852655723283675), (3531, 0.0), (3532, 0.028153262409518133), (3533, 0.0), (3534, 0.0), (3535, 0.006359207892308167), (3536, 0.012178771068067976), (3537, 0.0), (3538, 0.0), (3539, 0.012504970038655893), (3540, 0.0), (3541, 0.0), (3542, 0.0), (3543, 0.0), (3544, 0.0), (3545, 0.0), (3546, 0.005669354069828819), (3547, 0.013632265253366839), (3548, 0.013859395096400473), (3549, 0.0), (3550, 0.011773098887602562), (3551, 0.0), (3552, 0.0), (3553, 0.005322511719733132), (3554, 0.0), (3555, 0.012569742462516256), (3556, 0.02579158615034985), (3557, 0.0), (3558, 0.0), (3559, 0.0), (3560, 0.03329761524665151), (3561, 0.044723339631125056), (3562, 0.0), (3563, 0.015897300787504887), (3564, 0.008755109117437463), (3565, 0.0), (3566, 0.0071378910440426015), (3567, 0.007280431704978126), (3568, 0.007287604749827805), (3569, 0.0), (3570, 0.0), (3571, 0.005491502079044673), (3572, 0.012995075961643692), (3573, 0.0), (3574, 0.03874046859886031), (3575, 0.0), (3576, 0.005454362347665038), (3577, 0.01450565003082004), (3578, 0.05081860125562347), (3579, 0.007444302113691775), (3580, 0.011499755351532234), (3581, 0.0), (3582, 0.012493920801712317), (3583, 0.005214558126080378), (3584, 0.005767560412906322), (3585, 0.0), (3586, 0.02181794876668767), (3587, 0.07279520172533929), (3588, 0.02706765089661186), (3589, 0.0), (3590, 0.0), (3591, 0.0), (3592, 0.0), (3593, 0.0), (3594, 0.025281160063680294), (3595, 0.0), (3596, 0.008631161044459162), (3597, 0.024827495502643446), (3598, 0.006726720802694015), (3599, 0.0), (3600, 0.006852082517036892), (3601, 0.0), (3602, 0.00528045822753401), (3603, 0.017175088339899346), (3604, 0.019819436394779226), (3605, 0.036987329116607785), (3606, 0.0), (3607, 0.0), (3608, 0.0), (3609, 0.0), (3610, 0.1375667627514671), (3611, 0.01914929099925675), (3612, 0.0), (3613, 0.0), (3614, 0.0), (3615, 0.0), (3616, 0.031168690279541115), (3617, 0.019529958574629535), (3618, 0.005692504997020206), (3619, 0.015831597164352812), (3620, 0.0), (3621, 0.0), (3622, 0.0), (3623, 0.005539973030073613), (3624, 0.016949359308094214), (3625, 0.0), (3626, 0.01338205513787357), (3627, 0.01086020680458689), (3628, 0.02652809834397437), (3629, 0.013052059691268322), (3630, 0.013117226860032392), (3631, 0.019402671432816165), (3632, 0.0), (3633, 0.0), (3634, 0.0), (3635, 0.01753452353669479), (3636, 0.0), (3637, 0.004696471476336455), (3638, 0.030803742841086827), (3639, 0.0), (3640, 0.05057099663392245), (3641, 0.045946231194285966), (3642, 0.058629693974265325), (3643, 0.0), (3644, 0.0), (3645, 0.0787203482148124), (3646, 0.00824653574027944), (3647, 0.0), (3648, 0.03487583481569772), (3649, 0.0), (3650, 0.0), (3651, 0.013427272901392997), (3652, 0.005933941324719178), (3653, 0.0054743591698722125), (3654, 0.0), (3655, 0.007589888035849391), (3656, 0.0), (3657, 0.006412588804082183), (3658, 0.007328549099144577), (3659, 0.06129066516682047), (3660, 0.005178819390253439), (3661, 0.006124865486309493), (3662, 0.0), (3663, 0.0), (3664, 0.0601260828450361), (3665, 0.048054485865010536), (3666, 0.00557610543365445), (3667, 0.01940515333226508), (3668, 0.0), (3669, 0.0), (3670, 0.030036803346410554), (3671, 0.0), (3672, 0.0), (3673, 0.0), (3674, 0.014441208836170158), (3675, 0.020393340918372506), (3676, 0.0), (3677, 0.0), (3678, 0.0), (3679, 0.011286498105208743), (3680, 0.0060728219831942265), (3681, 0.0), (3682, 0.018712768709942526), (3683, 0.0), (3684, 0.012229545236348819), (3685, 0.01601070961107472), (3686, 0.0), (3687, 0.0), (3688, 0.06275469828753558), (3689, 0.0), (3690, 0.0077656891972606125), (3691, 0.0), (3692, 0.0057822914022215505), (3693, 0.013924647460245146), (3694, 0.019528468360998936), (3695, 0.008311644116646555), (3696, 0.005179044767314493), (3697, 0.00837145182539033), (3698, 0.005723882534572351), (3699, 0.03468794637362441), (3700, 0.007217840841084787), (3701, 0.0), (3702, 0.0), (3703, 0.0), (3704, 0.019500017009382108), (3705, 0.016328321299459728), (3706, 0.0), (3707, 0.0), (3708, 0.006200632995981298), (3709, 0.06279749649009012), (3710, 0.005709306165763454), (3711, 0.01662547433018527), (3712, 0.0), (3713, 0.004477518679491788), (3714, 0.0), (3715, 0.006929829528102963), (3716, 0.0), (3717, 0.0), (3718, 0.026885925841408826), (3719, 0.0), (3720, 0.021446514806287415), (3721, 0.06015493785323455), (3722, 0.017328120589944464), (3723, 0.005068205133639965), (3724, 0.09063240447200392), (3725, 0.020518171761844166), (3726, 0.006854126843314944), (3727, 0.005324658471554583), (3728, 0.035279055312749205), (3729, 0.0), (3730, 0.0), (3731, 0.0), (3732, 0.008125269501253191), (3733, 0.0), (3734, 0.0050651791106078635), (3735, 0.008408730039383956), (3736, 0.01582732130994594), (3737, 0.02798758797651204), (3738, 0.020155707360129095), (3739, 0.008817153356590885), (3740, 0.01485463616618871), (3741, 0.025815044848800674), (3742, 0.03779055273415102), (3743, 0.007862591357549699), (3744, 0.015783773337005126), (3745, 0.0), (3746, 0.0), (3747, 0.05591935282052091), (3748, 0.046657146786992315), (3749, 0.018375852056702092), (3750, 0.0058976084428723945), (3751, 0.02398381903853719), (3752, 0.0), (3753, 0.0), (3754, 0.0), (3755, 0.0), (3756, 0.037091935087291465), (3757, 0.0), (3758, 0.0), (3759, 0.09623265602800074), (3760, 0.0), (3761, 0.0), (3762, 0.0), (3763, 0.0), (3764, 0.0), (3765, 0.0), (3766, 0.006404317243188278), (3767, 0.0), (3768, 0.005770731305719683), (3769, 0.018867078028527214), (3770, 0.0), (3771, 0.005816765081488899), (3772, 0.01335727774679163), (3773, 0.01982823165186295), (3774, 0.015089571224650787), (3775, 0.004983683931763486), (3776, 0.004599384334688851), (3777, 0.018075633353345485), (3778, 0.0), (3779, 0.0), (3780, 0.015045953984178824), (3781, 0.019704521506486924), (3782, 0.013891987136142356), (3783, 0.007166996986965031), (3784, 0.017504643461481752), (3785, 0.006716168786393599), (3786, 0.08314808498870992), (3787, 0.01419857172771543), (3788, 0.00501999967784971), (3789, 0.01990366005269104), (3790, 0.04037873568770317), (3791, 0.0), (3792, 0.008869105083702068), (3793, 0.0052795301274452915), (3794, 0.005086575134322981), (3795, 0.006797419365589241), (3796, 0.0), (3797, 0.00594280769480431), (3798, 0.025163240307069866), (3799, 0.0), (3800, 0.0), (3801, 0.040769841618860894), (3802, 0.00588043435450861), (3803, 0.0066484756014873825), (3804, 0.0), (3805, 0.007576790053550299), (3806, 0.004530561134173375), (3807, 0.03059054781392819), (3808, 0.0), (3809, 0.0), (3810, 0.005472304788593318), (3811, 0.0), (3812, 0.008876713999055744), (3813, 0.009515808152721255), (3814, 0.005282266515447703), (3815, 0.005475234898285191), (3816, 0.012853956882824558), (3817, 0.0169061339979309), (3818, 0.0), (3819, 0.013305150319234228), (3820, 0.0), (3821, 0.0), (3822, 0.0), (3823, 0.005049350457943084), (3824, 0.059180895668581396), (3825, 0.0), (3826, 0.007305380829976152), (3827, 0.0), (3828, 0.00679187785040102), (3829, 0.015666275882552694), (3830, 0.022361355094734834), (3831, 0.0), (3832, 0.0), (3833, 0.005453821885485449), (3834, 0.008130532155072959), (3835, 0.0), (3836, 0.0), (3837, 0.0), (3838, 0.0), (3839, 0.03073360181550266), (3840, 0.0077898549358898445), (3841, 0.004816048419717416), (3842, 0.0), (3843, 0.026298903413446723), (3844, 0.027606867427610798), (3845, 0.0), (3846, 0.008097765157867653), (3847, 0.01745521366549576), (3848, 0.0), (3849, 0.022528733151497594), (3850, 0.005739211295622818), (3851, 0.0), (3852, 0.004679322024957497), (3853, 0.05478426727937918), (3854, 0.004966221648796139), (3855, 0.035672817095497994), (3856, 0.0), (3857, 0.0), (3858, 0.08275490365820101), (3859, 0.0), (3860, 0.004869149877038303), (3861, 0.0), (3862, 0.005608772812150914), (3863, 0.0), (3864, 0.0), (3865, 0.006776766047974484), (3866, 0.03295658136998743), (3867, 0.0), (3868, 0.0455169182521081), (3869, 0.008329971600977934), (3870, 0.007944192911124576), (3871, 0.007931176500035397), (3872, 0.0), (3873, 0.0), (3874, 0.014353091058411996), (3875, 0.0), (3876, 0.012935190665407308), (3877, 0.008460549976836743), (3878, 0.0), (3879, 0.0), (3880, 0.0), (3881, 0.054919879244073516), (3882, 0.0), (3883, 0.00612158115570657), (3884, 0.0136564088836057), (3885, 0.030311580363850198), (3886, 0.016429880369930424), (3887, 0.0), (3888, 0.0), (3889, 0.0), (3890, 0.0), (3891, 0.0), (3892, 0.0), (3893, 0.0), (3894, 0.0), (3895, 0.014584188265609092), (3896, 0.0), (3897, 0.005693901268691164), (3898, 0.0), (3899, 0.0), (3900, 0.012187506667882837), (3901, 0.021761865010684334), (3902, 0.0), (3903, 0.033944393619020415), (3904, 0.0), (3905, 0.0), (3906, 0.0), (3907, 0.013455522923992186), (3908, 0.07913938520633639), (3909, 0.0), (3910, 0.039810650492662206), (3911, 0.0), (3912, 0.008910048430291813), (3913, 0.0), (3914, 0.0), (3915, 0.027224308083990713), (3916, 0.0), (3917, 0.007309749940037959), (3918, 0.0), (3919, 0.019224665760951085), (3920, 0.0), (3921, 0.0), (3922, 0.0), (3923, 0.006982181862299033), (3924, 0.0), (3925, 0.0), (3926, 0.008735286461387572), (3927, 0.0), (3928, 0.0), (3929, 0.0), (3930, 0.0), (3931, 0.0), (3932, 0.0), (3933, 0.01485033142977877), (3934, 0.0), (3935, 0.0), (3936, 0.0), (3937, 0.007499553759979811), (3938, 0.0058228164602906266), (3939, 0.0), (3940, 0.024344768969343473), (3941, 0.0), (3942, 0.020868772883031662), (3943, 0.019767555807258082), (3944, 0.004328992221604778), (3945, 0.0), (3946, 0.004164654397879913), (3947, 0.020852501869904304), (3948, 0.0), (3949, 0.0), (3950, 0.0), (3951, 0.0), (3952, 0.0), (3953, 0.051883350565820094), (3954, 0.0), (3955, 0.0), (3956, 0.0), (3957, 0.004426508528295673), (3958, 0.0), (3959, 0.05252848816545105), (3960, 0.025194876857127405), (3961, 0.0059275538650335816), (3962, 0.020654354194630308), (3963, 0.007542007835112916), (3964, 0.0), (3965, 0.007257262674342872), (3966, 0.0581539111101859), (3967, 0.0), (3968, 0.08556007645392326), (3969, 0.0), (3970, 0.005136338063720249), (3971, 0.0), (3972, 0.05324641352942297), (3973, 0.0), (3974, 0.012683291369894153), (3975, 0.038819277923312474), (3976, 0.0), (3977, 0.05159204428067394), (3978, 0.005122355748573876), (3979, 0.008067770234036454), (3980, 0.006096038229033259), (3981, 0.0), (3982, 0.0075969841798090975), (3983, 0.006533682375076163), (3984, 0.0), (3985, 0.046552097583251933), (3986, 0.0), (3987, 0.0), (3988, 0.0), (3989, 0.0043263803206635325), (3990, 0.0), (3991, 0.007166179498889318), (3992, 0.0), (3993, 0.01301966796245893), (3994, 0.0), (3995, 0.0055678085196454), (3996, 0.0), (3997, 0.019210211941930233), (3998, 0.0), (3999, 0.0), (4000, 0.005326827535669497), (4001, 0.0), (4002, 0.019572540348582818), (4003, 0.031582844898995), (4004, 0.06288250046980774), (4005, 0.023746798616799954), (4006, 0.0), (4007, 0.0), (4008, 0.03126714962401625), (4009, 0.022593576462012294), (4010, 0.0), (4011, 0.008190596720124028), (4012, 0.0), (4013, 0.0058468761992444655), (4014, 0.0), (4015, 0.013902468581382901), (4016, 0.007577968410218142), (4017, 0.0), (4018, 0.0), (4019, 0.021847530293207348), (4020, 0.01634437356362108), (4021, 0.0), (4022, 0.011125573689616218), (4023, 0.0), (4024, 0.0), (4025, 0.0), (4026, 0.0), (4027, 0.0), (4028, 0.02048425860750508), (4029, 0.0), (4030, 0.0), (4031, 0.008882975124104915), (4032, 0.0), (4033, 0.009200683810020737), (4034, 0.04561099559174309), (4035, 0.0075884808290962846), (4036, 0.007424799000326146), (4037, 0.0), (4038, 0.005741360542782923), (4039, 0.005235077822502651), (4040, 0.0), (4041, 0.024732193601630127), (4042, 0.0), (4043, 0.020112854317307013), (4044, 0.004872742631511822), (4045, 0.018427366922284295), (4046, 0.005887360530399407), (4047, 0.006787811320669375), (4048, 0.0), (4049, 0.0), (4050, 0.02433623445188747), (4051, 0.0), (4052, 0.0), (4053, 0.015117306608559993), (4054, 0.0), (4055, 0.006853891775733257), (4056, 0.02016364419437784), (4057, 0.0), (4058, 0.04574942192211008), (4059, 0.008155842901510297), (4060, 0.011661445215319304), (4061, 0.0), (4062, 0.0), (4063, 0.0), (4064, 0.0), (4065, 0.04996047127865069), (4066, 0.0), (4067, 0.0), (4068, 0.005455888103483202), (4069, 0.0), (4070, 0.01632316586676899), (4071, 0.005081302490194105), (4072, 0.0), (4073, 0.008500402065859596), (4074, 0.00683846686543309), (4075, 0.0), (4076, 0.05724741630437791), (4077, 0.052634747647022424), (4078, 0.0), (4079, 0.0), (4080, 0.0), (4081, 0.011802499098647343), (4082, 0.0), (4083, 0.017393400927007054), (4084, 0.0), (4085, 0.0), (4086, 0.017660217689667933), (4087, 0.013777896486096971), (4088, 0.028086045147708825), (4089, 0.032019450222412274), (4090, 0.005786901999154832), (4091, 0.03276855632605049), (4092, 0.006077423804422608), (4093, 0.0), (4094, 0.0), (4095, 0.004557589673878467), (4096, 0.03351943441580518), (4097, 0.009550694793045138), (4098, 0.022780375141930213), (4099, 0.0244458704824036), (4100, 0.0), (4101, 0.013833350443844443), (4102, 0.0), (4103, 0.013039424919749267), (4104, 0.0), (4105, 0.0), (4106, 0.004808010449640219), (4107, 0.0), (4108, 0.013133773782035172), (4109, 0.007891245075451648), (4110, 0.007740250569537937), (4111, 0.0), (4112, 0.007417227873703348), (4113, 0.0), (4114, 0.017755940761673798), (4115, 0.0), (4116, 0.018651485010943682), (4117, 0.0), (4118, 0.028026304749295877), (4119, 0.030460751153729093), (4120, 0.005986157452689403), (4121, 0.031171167093025545), (4122, 0.0), (4123, 0.005670402384731926), (4124, 0.03703889078907504), (4125, 0.01750435476080624), (4126, 0.0), (4127, 0.0), (4128, 0.016260565614665514), (4129, 0.0), (4130, 0.008305538159907378), (4131, 0.0), (4132, 0.019795257092061248), (4133, 0.00585577435466789), (4134, 0.007369994937990616), (4135, 0.016896467476031605), (4136, 0.0), (4137, 0.06978466066198172), (4138, 0.0), (4139, 0.0), (4140, 0.01841435053002634), (4141, 0.01130049445047698), (4142, 0.04176023879155703), (4143, 0.0), (4144, 0.016258404299561838), (4145, 0.0), (4146, 0.0), (4147, 0.0), (4148, 0.04200735029643738), (4149, 0.0), (4150, 0.0), (4151, 0.0), (4152, 0.015570756472295565), (4153, 0.00692472286054578), (4154, 0.016305384915587244), (4155, 0.00833180519813581), (4156, 0.0), (4157, 0.0), (4158, 0.004611144298492275), (4159, 0.00817352886411068), (4160, 0.00851978981028541), (4161, 0.0126272657810616), (4162, 0.006181217540923536), (4163, 0.006226298257081531), (4164, 0.041411911350435794), (4165, 0.04181707674635441), (4166, 0.0), (4167, 0.0), (4168, 0.020734147004149266), (4169, 0.0363266649106611), (4170, 0.0), (4171, 0.0678234788884224), (4172, 0.0), (4173, 0.029007442726397988), (4174, 0.00802722484260442), (4175, 0.017739982187045186), (4176, 0.03599339194750323), (4177, 0.015312969008626644), (4178, 0.023132472523149955), (4179, 0.0), (4180, 0.0), (4181, 0.008376059174689273), (4182, 0.0), (4183, 0.0), (4184, 0.0), (4185, 0.0), (4186, 0.007983410640859197), (4187, 0.023213840900254877), (4188, 0.007550234379076904), (4189, 0.08336038198266968), (4190, 0.0), (4191, 0.01996048382300581), (4192, 0.01227326332317768), (4193, 0.011794443001394268), (4194, 0.009307215852750149), (4195, 0.007594271756279838), (4196, 0.06056680418079344), (4197, 0.008890856604606992), (4198, 0.0), (4199, 0.020246256560474032), (4200, 0.0), (4201, 0.0), (4202, 0.0), (4203, 0.03291708185375898), (4204, 0.013970238749145056), (4205, 0.0), (4206, 0.0), (4207, 0.027545596228765696), (4208, 0.006719803523954114), (4209, 0.014382949897291298), (4210, 0.024802122369651604), (4211, 0.012730944073154789), (4212, 0.0), (4213, 0.0), (4214, 0.011889114302579188), (4215, 0.013846492804410544), (4216, 0.0438222190013094), (4217, 0.022673435658955663), (4218, 0.015963747702693862), (4219, 0.04486333956694734), (4220, 0.0), (4221, 0.0), (4222, 0.0), (4223, 0.0), (4224, 0.007431580538930397), (4225, 0.0), (4226, 0.0), (4227, 0.005928451917816524), (4228, 0.0), (4229, 0.0), (4230, 0.0), (4231, 0.005728735084013107), (4232, 0.0), (4233, 0.0), (4234, 0.0), (4235, 0.0049206098113857046), (4236, 0.007027608500755963), (4237, 0.0), (4238, 0.028533850225126153), (4239, 0.0), (4240, 0.015383228032125693), (4241, 0.0), (4242, 0.0066717351238587), (4243, 0.0), (4244, 0.0061523840851821325), (4245, 0.0), (4246, 0.0), (4247, 0.007665332574333897), (4248, 0.005338551892892409), (4249, 0.005541085604499201), (4250, 0.0), (4251, 0.00550589384494735), (4252, 0.008391018924469683), (4253, 0.0), (4254, 0.0), (4255, 0.005444047029501666), (4256, 0.0), (4257, 0.0), (4258, 0.0), (4259, 0.0), (4260, 0.01943759848388721), (4261, 0.0), (4262, 0.018108742014709477), (4263, 0.01834966143057704), (4264, 0.017782036760095748), (4265, 0.005683512956564156), (4266, 0.012789249307294224), (4267, 0.0), (4268, 0.06941632206108106), (4269, 0.031787465217583556), (4270, 0.014178085217956035), (4271, 0.026474437884519787), (4272, 0.007208975889529233), (4273, 0.0), (4274, 0.028197701980038663), (4275, 0.018709531578086018), (4276, 0.0), (4277, 0.024833122753600296), (4278, 0.021848171342421705), (4279, 0.0), (4280, 0.03365512554670811), (4281, 0.006206886951472404), (4282, 0.0049434529034565735), (4283, 0.07134669786018409), (4284, 0.017705168176169236), (4285, 0.006302215629071071), (4286, 0.00922074884476556), (4287, 0.009010161870476496), (4288, 0.01865862274211413), (4289, 0.008087842676819052), (4290, 0.004847026087428914), (4291, 0.0), (4292, 0.024160821801376582), (4293, 0.0), (4294, 0.0077827470396212356), (4295, 0.0), (4296, 0.0), (4297, 0.0), (4298, 0.0), (4299, 0.029073709483258364), (4300, 0.01948756773542868), (4301, 0.0), (4302, 0.0), (4303, 0.02495666708205503), (4304, 0.0), (4305, 0.0), (4306, 0.0), (4307, 0.0060294280797980005), (4308, 0.0), (4309, 0.005241625166070244), (4310, 0.014105903329490986), (4311, 0.0), (4312, 0.005769831221288044), (4313, 0.0), (4314, 0.017732754586519187), (4315, 0.0), (4316, 0.0), (4317, 0.0), (4318, 0.0), (4319, 0.018902383733768978), (4320, 0.0), (4321, 0.0541621477652133), (4322, 0.0049171422919957125), (4323, 0.008004070011790692), (4324, 0.018683423814849918), (4325, 0.004981184613576907), (4326, 0.0), (4327, 0.0), (4328, 0.016857123280732557), (4329, 0.008954898354880614), (4330, 0.0), (4331, 0.006186073074089052), (4332, 0.0), (4333, 0.009813603836242525), (4334, 0.0), (4335, 0.0), (4336, 0.0), (4337, 0.005962958315497223), (4338, 0.02489957841861437), (4339, 0.004905633214274002), (4340, 0.0), (4341, 0.00901392021600289), (4342, 0.016946671738459738), (4343, 0.0), (4344, 0.0045906595801615815), (4345, 0.011133572523835475), (4346, 0.021335962481722252), (4347, 0.008131551027357258), (4348, 0.0), (4349, 0.0), (4350, 0.0), (4351, 0.008149025130014295), (4352, 0.06355244690072465), (4353, 0.007573797106371587), (4354, 0.007949248753971233), (4355, 0.0), (4356, 0.0081108605539421), (4357, 0.02671773645315972), (4358, 0.0), (4359, 0.0), (4360, 0.005399004568306665), (4361, 0.0), (4362, 0.005258404169759294), (4363, 0.013274486783857996), (4364, 0.007606106451289495), (4365, 0.0158938209611555), (4366, 0.04466962291715806), (4367, 0.016332060105841407), (4368, 0.0), (4369, 0.01916716564402307), (4370, 0.0), (4371, 0.03816325694440887), (4372, 0.0), (4373, 0.0), (4374, 0.024518035390861226), (4375, 0.005452847190681288), (4376, 0.005505951421564724), (4377, 0.03056401060249888), (4378, 0.0), (4379, 0.06011427783734259), (4380, 0.018363647343769728), (4381, 0.03230274838810112), (4382, 0.011349781495090562), (4383, 0.005389111494601528), (4384, 0.005688113646491105), (4385, 0.0), (4386, 0.0), (4387, 0.029676224561395133), (4388, 0.02788064808896655), (4389, 0.01938351527522423), (4390, 0.0), (4391, 0.0), (4392, 0.018014573819640525), (4393, 0.0), (4394, 0.0), (4395, 0.0), (4396, 0.0), (4397, 0.0), (4398, 0.0), (4399, 0.016484463302855745), (4400, 0.04205674278900825), (4401, 0.008490001758391175), (4402, 0.013030088659069966), (4403, 0.022999297284777523), (4404, 0.0), (4405, 0.006906108225671401), (4406, 0.0), (4407, 0.011407648351668366), (4408, 0.0), (4409, 0.0), (4410, 0.0), (4411, 0.0), (4412, 0.006290921820990326), (4413, 0.0), (4414, 0.0), (4415, 0.0), (4416, 0.0), (4417, 0.0), (4418, 0.009980058100675383), (4419, 0.007921851191266161), (4420, 0.01336444129761386), (4421, 0.0), (4422, 0.0), (4423, 0.015220352547669522), (4424, 0.0), (4425, 0.0), (4426, 0.004633772452663727), (4427, 0.008711484205748035), (4428, 0.007215538309699287), (4429, 0.0), (4430, 0.005622718504397268), (4431, 0.048494519999443694), (4432, 0.004700527950366257), (4433, 0.0), (4434, 0.011243909818965276), (4435, 0.011793530203750078), (4436, 0.005790936703120111), (4437, 0.007844902574659087), (4438, 0.08595439137230186), (4439, 0.006984049606487216), (4440, 0.0), (4441, 0.005101474559691864), (4442, 0.0), (4443, 0.006578802850526507), (4444, 0.007034868855172097), (4445, 0.01964142884803918), (4446, 0.0), (4447, 0.0), (4448, 0.012257923071367012), (4449, 0.0), (4450, 0.004760573359759288), (4451, 0.0), (4452, 0.0), (4453, 0.01881754513736626), (4454, 0.008766702927809091), (4455, 0.009144511216816918), (4456, 0.019913484700497433), (4457, 0.00757088045418928), (4458, 0.0), (4459, 0.0), (4460, 0.05022621583827748), (4461, 0.0), (4462, 0.05124405088732768), (4463, 0.0), (4464, 0.02294374967380494), (4465, 0.01909379043431746), (4466, 0.013504749454957768), (4467, 0.025058409228496357), (4468, 0.026849945563045062), (4469, 0.0), (4470, 0.005536779456732113), (4471, 0.0), (4472, 0.00843043840887141), (4473, 0.007595658947578816), (4474, 0.005654550895015502), (4475, 0.07672488318225287), (4476, 0.0), (4477, 0.0), (4478, 0.008124187930204176), (4479, 0.0), (4480, 0.0), (4481, 0.0051310857198800935), (4482, 0.007536735488241839), (4483, 0.020104515592466107), (4484, 0.0), (4485, 0.011881175302703743), (4486, 0.0), (4487, 0.01156395347145448), (4488, 0.014831909600549718), (4489, 0.013442282478467465), (4490, 0.016711595255758344), (4491, 0.00826822099856009), (4492, 0.026267446192970424), (4493, 0.07421121775910997), (4494, 0.020385192406419075), (4495, 0.03663777856864456), (4496, 0.0), (4497, 0.018261514851966486), (4498, 0.0), (4499, 0.016013436921332), (4500, 0.0), (4501, 0.007677240446032284), (4502, 0.011575796684043384), (4503, 0.02699421624164105), (4504, 0.011328483647446128), (4505, 0.0), (4506, 0.019890700798870595), (4507, 0.013481874800209256), (4508, 0.0), (4509, 0.007521844599631469), (4510, 0.018158316273828447), (4511, 0.0), (4512, 0.019169035430998294), (4513, 0.03200545533664304), (4514, 0.006495820655067627), (4515, 0.015680696896350665), (4516, 0.008713646981008296), (4517, 0.005402838874600765), (4518, 0.02076797779490471), (4519, 0.006096300756561917), (4520, 0.0), (4521, 0.0), (4522, 0.005852477500859275), (4523, 0.012406476383927183), (4524, 0.006408618467568449), (4525, 0.022952329205700922), (4526, 0.008667157820164258), (4527, 0.0061749684972514625), (4528, 0.01274697077918941), (4529, 0.0), (4530, 0.032965093586652755), (4531, 0.005951621910418709), (4532, 0.0), (4533, 0.013273310872217232), (4534, 0.04912590269758535), (4535, 0.008505207133842304), (4536, 0.01210894025756103), (4537, 0.035675230188369066), (4538, 0.0), (4539, 0.0), (4540, 0.0), (4541, 0.0), (4542, 0.04201375356962003), (4543, 0.005172737928395619), (4544, 0.0), (4545, 0.012701845721518076), (4546, 0.0069417421275202165), (4547, 0.013540540360464391), (4548, 0.04250728689143398), (4549, 0.013020849186165502), (4550, 0.06264751854489672), (4551, 0.014026564800790646), (4552, 0.022835275227328474), (4553, 0.004695834353798406), (4554, 0.10911499066650095), (4555, 0.01769016631678772), (4556, 0.012242724414204754), (4557, 0.021504913715513115), (4558, 0.0), (4559, 0.0), (4560, 0.0), (4561, 0.0), (4562, 0.014581429391613715), (4563, 0.0), (4564, 0.007316674229513317), (4565, 0.010693934699964536), (4566, 0.0), (4567, 0.0), (4568, 0.0), (4569, 0.026338319385844036), (4570, 0.009083649222852047), (4571, 0.018651209655275676), (4572, 0.0), (4573, 0.0), (4574, 0.009338053010681984), (4575, 0.0), (4576, 0.00521612254297898), (4577, 0.05235783970360094), (4578, 0.0), (4579, 0.005788571598540971), (4580, 0.018591042500742297), (4581, 0.019516529513539237), (4582, 0.019650958354633083), (4583, 0.04038955938044715), (4584, 0.09026300256012416), (4585, 0.00502512909750873), (4586, 0.005592093204846359), (4587, 0.021742446599150877), (4588, 0.056620856358137094), (4589, 0.008894185031452976), (4590, 0.012618238766956811), (4591, 0.04398066389532486), (4592, 0.07970318097168523), (4593, 0.05675060358391192), (4594, 0.0), (4595, 0.005811044206901955), (4596, 0.0), (4597, 0.0), (4598, 0.006842093066788966), (4599, 0.0), (4600, 0.007981193792924666), (4601, 0.00587809207258324), (4602, 0.0), (4603, 0.0), (4604, 0.0), (4605, 0.020427784908466303), (4606, 0.0), (4607, 0.0), (4608, 0.0), (4609, 0.007651125411588614), (4610, 0.0), (4611, 0.0), (4612, 0.07381724315689778), (4613, 0.01608853902286845), (4614, 0.05541944874381892), (4615, 0.012346345500519275), (4616, 0.0), (4617, 0.0), (4618, 0.0), (4619, 0.0), (4620, 0.015222146165012896), (4621, 0.00561185113864742), (4622, 0.0), (4623, 0.04518199209844153), (4624, 0.005631436342891795), (4625, 0.0), (4626, 0.0061436396374203485), (4627, 0.0), (4628, 0.012114952642995638), (4629, 0.005602303685275837), (4630, 0.05085207413995549), (4631, 0.0), (4632, 0.0), (4633, 0.021612823158606204), (4634, 0.0), (4635, 0.0), (4636, 0.0), (4637, 0.021411797346895987), (4638, 0.0), (4639, 0.028007533458902174), (4640, 0.018424458379823892), (4641, 0.011466159938180336), (4642, 0.021294985965885253), (4643, 0.030483453481028155), (4644, 0.0), (4645, 0.0), (4646, 0.006847202528451722), (4647, 0.0), (4648, 0.017229867928479095), (4649, 0.0), (4650, 0.0), (4651, 0.0), (4652, 0.0), (4653, 0.006565974012884894), (4654, 0.0), (4655, 0.0), (4656, 0.0), (4657, 0.0), (4658, 0.00516296458826686), (4659, 0.009411280766316588), (4660, 0.006622301605860419), (4661, 0.0047603621722568535), (4662, 0.0178321902697333), (4663, 0.020744698827459624), (4664, 0.05445867771741291), (4665, 0.005326369713506363), (4666, 0.007270551872557124), (4667, 0.0), (4668, 0.012488444601686558), (4669, 0.06217132189081635), (4670, 0.03871935150268632), (4671, 0.0), (4672, 0.0), (4673, 0.043919461559214196), (4674, 0.0043133016546348275), (4675, 0.018321303891977676), (4676, 0.008248140533521204), (4677, 0.005427982192068995), (4678, 0.0928505433700884), (4679, 0.012388773624997185), (4680, 0.0), (4681, 0.0), (4682, 0.0), (4683, 0.0), (4684, 0.01438031716033833), (4685, 0.0), (4686, 0.0), (4687, 0.0), (4688, 0.0), (4689, 0.004900352958623718), (4690, 0.0), (4691, 0.02444168526241278), (4692, 0.0), (4693, 0.0), (4694, 0.038764055559815463), (4695, 0.018029754752021586), (4696, 0.015377133523621737), (4697, 0.004991946893191776), (4698, 0.006479332355985834), (4699, 0.03019951757576561), (4700, 0.024901027655916164), (4701, 0.02150626396059344), (4702, 0.0), (4703, 0.03361096933962589), (4704, 0.0), (4705, 0.0), (4706, 0.0), (4707, 0.0), (4708, 0.0139839939790305), (4709, 0.052143436682337264), (4710, 0.00678825339032379), (4711, 0.0), (4712, 0.021147244832697587), (4713, 0.0), (4714, 0.021054642354092448), (4715, 0.03051335412526949), (4716, 0.0), (4717, 0.0), (4718, 0.0), (4719, 0.0), (4720, 0.0), (4721, 0.02245827128171217), (4722, 0.0), (4723, 0.0), (4724, 0.006620069007285008), (4725, 0.01064634487426416), (4726, 0.019785409640823585), (4727, 0.0), (4728, 0.0), (4729, 0.0), (4730, 0.021907422809262726), (4731, 0.006080373047316134), (4732, 0.0), (4733, 0.0044809560409578095), (4734, 0.0), (4735, 0.0063549109914918375), (4736, 0.041699216212305504), (4737, 0.0), (4738, 0.0), (4739, 0.01778449964265952), (4740, 0.0), (4741, 0.0), (4742, 0.008436121262120753), (4743, 0.039004781662491654), (4744, 0.0), (4745, 0.005945264703780251), (4746, 0.006091147955726634), (4747, 0.006180580849011456), (4748, 0.0), (4749, 0.0), (4750, 0.0), (4751, 0.0), (4752, 0.006247106082995849), (4753, 0.0), (4754, 0.03155987171569944), (4755, 0.0), (4756, 0.018104707742670794), (4757, 0.0147982682703724), (4758, 0.0), (4759, 0.0)]\n"
          ]
        }
      ]
    },
    {
      "cell_type": "code",
      "source": [
        "len(Recommendation_Score)"
      ],
      "metadata": {
        "id": "HEy2RoU6F8z4",
        "colab": {
          "base_uri": "https://localhost:8080/"
        },
        "outputId": "d148cd15-70e5-4e11-c8a2-c8aa2b28f8b2"
      },
      "execution_count": null,
      "outputs": [
        {
          "output_type": "execute_result",
          "data": {
            "text/plain": [
              "4760"
            ]
          },
          "metadata": {},
          "execution_count": 30
        }
      ]
    },
    {
      "cell_type": "markdown",
      "source": [
        "**Get All Movies Sort Based on Recommendation Score wrt Favourite Movie**"
      ],
      "metadata": {
        "id": "SjMkleqpGTca"
      }
    },
    {
      "cell_type": "code",
      "source": [
        "#sorting the movies based on their similarity score\n",
        "Sorted_Similar_Movies = sorted (Recommendation_Score, key = lambda x:x[1], reverse  =True)\n",
        "print(Sorted_Similar_Movies)"
      ],
      "metadata": {
        "id": "I59EFQ1tGUgL",
        "colab": {
          "base_uri": "https://localhost:8080/"
        },
        "outputId": "9e829f64-eee4-456d-b81e-62ddb6d3d952"
      },
      "execution_count": null,
      "outputs": [
        {
          "output_type": "stream",
          "name": "stdout",
          "text": [
            "[(2130, 1.0), (896, 0.15545783189002865), (1942, 0.1375776683985885), (3610, 0.1375667627514671), (2079, 0.1255399111501348), (6, 0.12405263847907821), (910, 0.12194327666550105), (938, 0.1168478248154891), (1575, 0.11554469084681766), (908, 0.11200057340060238), (4554, 0.10911499066650095), (952, 0.10854540934254925), (1547, 0.10840330910190345), (2688, 0.10676726753466556), (3363, 0.10660197343009484), (2487, 0.10614739507678202), (1766, 0.10536192496925453), (512, 0.10428245417865976), (124, 0.10234978471340622), (3520, 0.09965842717917493), (675, 0.09867787073812619), (2287, 0.09854308690338354), (517, 0.09789001508714129), (3759, 0.09623265602800074), (3002, 0.0960479564926735), (1502, 0.09593481682843596), (1979, 0.09416073963064885), (2089, 0.09406946553514642), (2637, 0.09296525245822135), (1007, 0.0929587259739871), (4678, 0.0928505433700884), (801, 0.09246929641326074), (622, 0.09129832772630109), (1546, 0.09095464377314821), (1603, 0.09094140727165934), (1031, 0.09087981341739171), (2727, 0.0907773089832324), (3724, 0.09063240447200392), (1729, 0.09037097639347358), (4584, 0.09026300256012416), (2008, 0.08968868675986108), (516, 0.08909683506720878), (2776, 0.08871273062117921), (1992, 0.08785759997881627), (534, 0.08665640938539516), (2789, 0.08604789437967715), (3114, 0.08604341333386398), (4438, 0.08595439137230186), (3341, 0.08571518319439113), (3968, 0.08556007645392326), (629, 0.08462044028876411), (1319, 0.08386028230178996), (4189, 0.08336038198266968), (3786, 0.08314808498870992), (3858, 0.08275490365820101), (1300, 0.08156410327450091), (3405, 0.0810309850614161), (2850, 0.0809776257726332), (1096, 0.08013321091501704), (946, 0.07988609253889968), (4592, 0.07970318097168523), (3908, 0.07913938520633639), (3645, 0.0787203482148124), (2250, 0.07786267992954206), (1811, 0.07784226401087618), (2939, 0.07770992548759506), (1428, 0.07695241497663421), (2055, 0.07686379885940484), (4475, 0.07672488318225287), (3086, 0.07661303316311847), (3036, 0.07601255065485722), (1404, 0.07557475062654842), (322, 0.07554527741902163), (1817, 0.075120867258175), (1871, 0.07461629424949498), (4493, 0.07421121775910997), (2044, 0.07409686966609046), (1506, 0.07395440355898587), (4612, 0.07381724315689778), (2112, 0.07366377909920026), (3587, 0.07279520172533929), (3295, 0.07275811812017789), (1795, 0.07229208436794007), (4283, 0.07134669786018409), (1524, 0.07131866578630869), (1537, 0.07123270413225403), (1289, 0.07022445895037219), (4137, 0.06978466066198172), (4268, 0.06941632206108106), (74, 0.06917226251211897), (2837, 0.06900635185472126), (3153, 0.06872610199849986), (763, 0.0686725268285194), (2339, 0.06863330835691353), (362, 0.06792773914747398), (1128, 0.0679143239973135), (4171, 0.0678234788884224), (937, 0.06778629831645464), (762, 0.06770548900370463), (1162, 0.06764765143261361), (583, 0.06667760710143925), (2124, 0.06643768382086186), (692, 0.06604914917714137), (523, 0.06598772477200128), (2988, 0.06475892210342762), (1945, 0.06472203360517088), (2499, 0.06412159925423286), (3018, 0.0640913281070365), (2691, 0.06400853074813428), (4352, 0.06355244690072465), (1193, 0.063195469241219), (1219, 0.06301732826172467), (1514, 0.0629573122533543), (4004, 0.06288250046980774), (3709, 0.06279749649009012), (3688, 0.06275469828753558), (1229, 0.06272973675969445), (4550, 0.06264751854489672), (4669, 0.06217132189081635), (2368, 0.06209324930779111), (181, 0.061580700865829424), (1269, 0.06142477574110409), (1197, 0.061364729146076054), (3659, 0.06129066516682047), (1859, 0.06117951671176463), (1900, 0.06103005839439831), (2192, 0.060854932188214333), (4196, 0.06056680418079344), (1529, 0.060316067134103764), (3721, 0.06015493785323455), (3664, 0.0601260828450361), (4379, 0.06011427783734259), (945, 0.06005688483166083), (94, 0.05986445092008028), (1228, 0.059844905185698336), (18, 0.059688675093812066), (302, 0.05963362695356632), (3310, 0.05948759774877445), (1140, 0.05927199176381297), (2580, 0.05921819054474259), (3824, 0.059180895668581396), (3066, 0.05903987263359531), (556, 0.05893655003464677), (3642, 0.058629693974265325), (2559, 0.05834022432025746), (168, 0.0583007598477505), (3966, 0.0581539111101859), (987, 0.058132878992247464), (2695, 0.0580916091740267), (2154, 0.058083151905235365), (2468, 0.05804641151007183), (2881, 0.057801748727942824), (1819, 0.05776714333809467), (2577, 0.057537458685142165), (2205, 0.05744588189585606), (1146, 0.05733285639024807), (4076, 0.05724741630437791), (1840, 0.057128173118525784), (701, 0.056970468494036), (2910, 0.05676785089311249), (4593, 0.05675060358391192), (3427, 0.05670360801708157), (1678, 0.05669250607593847), (1461, 0.05667425132241215), (4588, 0.056620856358137094), (2649, 0.056466818855134306), (1017, 0.056394327589083595), (1671, 0.056173255712935036), (2158, 0.05616291399769151), (3747, 0.05591935282052091), (3508, 0.05573624414785543), (4614, 0.05541944874381892), (1890, 0.05530846067981106), (136, 0.05519948808072177), (1958, 0.05499405973318342), (3297, 0.054948726298074936), (3881, 0.054919879244073516), (3853, 0.05478426727937918), (2921, 0.05470698577536656), (537, 0.05466038118255683), (632, 0.054614770871028), (1816, 0.05447223844304), (4664, 0.05445867771741291), (2752, 0.05435398641850023), (1616, 0.054309337055792134), (1784, 0.054273330818315715), (4321, 0.0541621477652133), (1923, 0.05408223142345585), (2152, 0.05403252270674468), (2833, 0.05386372763628165), (793, 0.05385716615626715), (3118, 0.05384203831444799), (1623, 0.053726653413303016), (1138, 0.05370957074658203), (2801, 0.053523023868838254), (382, 0.05337649121584027), (2984, 0.05326778634916182), (3972, 0.05324641352942297), (321, 0.05307477744752031), (2996, 0.05301377631496615), (1479, 0.052831286062276286), (699, 0.05275000375198138), (1068, 0.0526526923182863), (4077, 0.052634747647022424), (3959, 0.05252848816545105), (288, 0.052369093012784265), (4577, 0.05235783970360094), (4709, 0.052143436682337264), (671, 0.05200822216191235), (1769, 0.05192339563320235), (3953, 0.051883350565820094), (314, 0.0516928301298722), (3977, 0.05159204428067394), (1530, 0.05155226583140744), (3115, 0.05135958226639263), (3043, 0.051333221970368575), (4462, 0.05124405088732768), (2783, 0.05118961044188437), (2334, 0.051134205452722306), (89, 0.05112816865436821), (1402, 0.051063828258417814), (2102, 0.05105039326804358), (1940, 0.05098052125438577), (4630, 0.05085207413995549), (3578, 0.05081860125562347), (390, 0.05075968031148608), (273, 0.0507038954031329), (1112, 0.0506621473589238), (1572, 0.050621135559701644), (3640, 0.05057099663392245), (1348, 0.050538270202605), (3529, 0.050484243992798064), (1367, 0.05046345735805005), (1552, 0.050423585273328894), (1087, 0.050341369134478405), (2039, 0.05028061707380118), (1480, 0.05025418491132584), (4460, 0.05022621583827748), (2865, 0.05021650753436418), (2681, 0.05020373129971305), (376, 0.05014999565015311), (2040, 0.05009634569890038), (4065, 0.04996047127865069), (1223, 0.04987210564239238), (1167, 0.049678990346389215), (162, 0.04957886457422328), (2037, 0.04941762669171723), (773, 0.04920619928175096), (4534, 0.04912590269758535), (3180, 0.049025758069269995), (2275, 0.048924639576359244), (2874, 0.04886476236501905), (402, 0.048732402383717406), (3095, 0.04868302275303653), (3379, 0.04867889880961461), (991, 0.048675314735939265), (1739, 0.04861431075568256), (4431, 0.048494519999443694), (379, 0.04849300552847408), (1869, 0.04840464606102034), (71, 0.04825293804977883), (2808, 0.048138954764446004), (3665, 0.048054485865010536), (3228, 0.04802805576627975), (2075, 0.04775298239669442), (1104, 0.047728503945236235), (2617, 0.047668540929462884), (214, 0.047476027493740275), (3346, 0.04744780255164402), (1737, 0.047265263871351174), (1047, 0.04724503859619096), (2500, 0.04702844398026012), (1034, 0.04678770842003438), (2137, 0.04675966700147748), (3748, 0.046657146786992315), (419, 0.046596312335776165), (1863, 0.046572026072675514), (3189, 0.04655317334776948), (3985, 0.046552097583251933), (3240, 0.04654771469854959), (2054, 0.04652638014170353), (1950, 0.04646901278358305), (2528, 0.046414534852119084), (899, 0.04620962518878899), (1302, 0.045991442895557386), (578, 0.04595966085405949), (3641, 0.045946231194285966), (2549, 0.04590702507660115), (11, 0.04588435691860451), (207, 0.04587443316805987), (2925, 0.04583193099922274), (4058, 0.04574942192211008), (4034, 0.04561099559174309), (3099, 0.04555737409304378), (3868, 0.0455169182521081), (2181, 0.04549457813541733), (2273, 0.045445493854005425), (1899, 0.04539721577966589), (808, 0.045282447870323046), (2603, 0.045236855902480784), (4623, 0.04518199209844153), (4219, 0.04486333956694734), (2831, 0.04478042136688955), (3276, 0.044735152810785044), (1063, 0.044725004770639516), (3561, 0.044723339631125056), (4366, 0.04466962291715806), (2304, 0.0446649634426438), (1714, 0.04452221287194534), (1137, 0.044390730033503266), (705, 0.0443792046917781), (1375, 0.0441409145854991), (1554, 0.04412924382032833), (2675, 0.04407190575623881), (259, 0.04405588648521018), (4591, 0.04398066389532486), (1436, 0.04397359138174699), (2357, 0.043930062490303075), (4673, 0.043919461559214196), (2739, 0.043869453278798744), (2342, 0.043845026439031355), (4216, 0.0438222190013094), (2944, 0.04378714733217345), (342, 0.0435475966122643), (636, 0.0435368011222424), (2841, 0.04346227058667111), (865, 0.043168247550755906), (1611, 0.04310129648633446), (1907, 0.043029495944159786), (2224, 0.043028900461564636), (1920, 0.042946355749257564), (587, 0.0427699730225616), (2449, 0.042702927865698535), (4548, 0.04250728689143398), (2931, 0.04248845789069158), (960, 0.04242585364859434), (1295, 0.04238271268784179), (2581, 0.042120801368235275), (3011, 0.0421207960531125), (2524, 0.04210282944827998), (4400, 0.04205674278900825), (4542, 0.04201375356962003), (4148, 0.04200735029643738), (4165, 0.04181707674635441), (4142, 0.04176023879155703), (4736, 0.041699216212305504), (122, 0.04158200920298282), (1048, 0.04154098995792276), (4164, 0.041411911350435794), (1568, 0.0413806559006654), (776, 0.04119961194304045), (1237, 0.041162981295483694), (1312, 0.04109499214855361), (2777, 0.04099939828272932), (869, 0.040986534095060805), (824, 0.040877980897219765), (3801, 0.040769841618860894), (2668, 0.04072048801241082), (767, 0.040720370869624566), (1391, 0.04064853407162286), (1101, 0.040632453305476886), (3244, 0.04059007107074474), (2662, 0.04056140239693472), (2135, 0.040406849950396714), (4583, 0.04038955938044715), (3790, 0.04037873568770317), (2122, 0.040356152625348266), (2750, 0.04035162505731512), (790, 0.040242253182045454), (2815, 0.040211274622521186), (2569, 0.040108152821210864), (428, 0.04008667229994621), (1233, 0.039873617385915126), (3910, 0.039810650492662206), (1876, 0.039803074344900546), (1509, 0.0396363269603692), (859, 0.039429455920579976), (2498, 0.039376368431260765), (2575, 0.03934369618321666), (1738, 0.03927599620335457), (2970, 0.03920445557800377), (599, 0.03917153895925935), (3335, 0.039097770644822796), (4743, 0.039004781662491654), (436, 0.038828735372608725), (3975, 0.038819277923312474), (4694, 0.038764055559815463), (3574, 0.03874046859886031), (1025, 0.038724062161183084), (4670, 0.03871935150268632), (477, 0.03870163637011784), (167, 0.03861856668486078), (78, 0.03835809706558665), (1887, 0.038273514565802295), (148, 0.03826991659928215), (4371, 0.03816325694440887), (1130, 0.03806810632561961), (2690, 0.037960424282217145), (2949, 0.03792916708152828), (458, 0.03789424542116367), (3161, 0.03784461276529825), (2230, 0.03779513042136411), (3742, 0.03779055273415102), (2023, 0.037644611962346725), (2933, 0.037629199892081806), (457, 0.037556064430976054), (447, 0.03751393959278118), (287, 0.037509639933407175), (1556, 0.037441751639642994), (1195, 0.037313110127280086), (3756, 0.037091935087291465), (4124, 0.03703889078907504), (139, 0.03701571047345663), (3605, 0.036987329116607785), (3456, 0.036926099124196435), (2737, 0.036843809858484546), (1387, 0.03677050471887028), (435, 0.03676959077374578), (2742, 0.036744251098871916), (411, 0.036692117182203554), (4495, 0.03663777856864456), (1702, 0.03663109685796239), (976, 0.03657885695103842), (130, 0.03655162132916615), (360, 0.03653491705947083), (2512, 0.036515054988962896), (1335, 0.03648742140527211), (2563, 0.03644972066682601), (2153, 0.036387670172743934), (1192, 0.03636114681422684), (4169, 0.0363266649106611), (2565, 0.03628529753659275), (2424, 0.03623379473920183), (2285, 0.03622883523838176), (2786, 0.03616775037699729), (3361, 0.0360035452902204), (4176, 0.03599339194750323), (3111, 0.03595296504385257), (2419, 0.03593623799915275), (2780, 0.03593408615330741), (2757, 0.035930345941122384), (2927, 0.03591213342707745), (606, 0.035837010308206546), (1429, 0.03580343648613672), (4537, 0.035675230188369066), (3855, 0.035672817095497994), (1761, 0.035662977982281865), (2555, 0.03566108691936587), (679, 0.035447124489013423), (774, 0.03544177578775165), (2162, 0.035428862174752065), (623, 0.035388823562450884), (732, 0.03532924360344261), (2081, 0.035281166979213865), (1553, 0.035280647769147265), (3728, 0.035279055312749205), (97, 0.03508112141925977), (726, 0.035030604539037065), (1179, 0.03500045494525207), (3648, 0.03487583481569772), (3178, 0.03484019505293809), (3699, 0.03468794637362441), (1600, 0.03458500928119748), (2074, 0.034567568246088524), (67, 0.034488690097995434), (874, 0.034473797213552045), (3432, 0.03445059401128199), (1131, 0.034319522544541355), (2052, 0.0343017651631111), (727, 0.034286716473774695), (2743, 0.03427341701756076), (380, 0.03421391719340092), (760, 0.034165541637653944), (3903, 0.033944393619020415), (1354, 0.0339282494883745), (1041, 0.03391215455787612), (301, 0.03386129283516033), (1331, 0.03373193294909892), (2082, 0.03370076906840325), (3221, 0.033696893974132974), (4280, 0.03365512554670811), (1961, 0.033649259520303156), (1053, 0.03362854305798585), (4703, 0.03361096933962589), (1444, 0.03354069461719311), (4096, 0.03351943441580518), (3110, 0.03350322091560083), (723, 0.033502710562902285), (3477, 0.03350183763777757), (3220, 0.03343010972707593), (807, 0.03337984309570555), (3560, 0.03329761524665151), (2578, 0.033265129536447946), (729, 0.033210501202571095), (2356, 0.03312857556665027), (4530, 0.032965093586652755), (3866, 0.03295658136998743), (439, 0.032938117799229935), (3387, 0.032932731272182575), (4203, 0.03291708185375898), (3190, 0.03290608668800175), (620, 0.03285305594313739), (1396, 0.03279529557306264), (1697, 0.032792425322116965), (4091, 0.03276855632605049), (840, 0.0326983874795444), (1343, 0.03257977572818106), (635, 0.03255974525817271), (3338, 0.032512899097092096), (845, 0.032396623494384616), (4381, 0.03230274838810112), (3525, 0.03227033513314155), (3163, 0.03224967901243603), (3325, 0.03223955031851759), (3409, 0.03219726210815203), (2715, 0.032190696160348566), (3402, 0.03214952766582995), (984, 0.032137207619763734), (4089, 0.032019450222412274), (4513, 0.03200545533664304), (3071, 0.03194244240736842), (325, 0.03192641670725979), (3460, 0.03191289082230558), (920, 0.03186490428303967), (4269, 0.031787465217583556), (1071, 0.03178218517972651), (2283, 0.03178128967245935), (1815, 0.03172535124141304), (4003, 0.031582844898995), (4754, 0.03155987171569944), (433, 0.03149559965221567), (1780, 0.031442566919682335), (3245, 0.031386852854081444), (4008, 0.03126714962401625), (1642, 0.031257936126225926), (2891, 0.031213805753091097), (661, 0.031184407397634985), (600, 0.031183104086930202), (4121, 0.031171167093025545), (3616, 0.031168690279541115), (2015, 0.03114066916181455), (2191, 0.031124037754773543), (2895, 0.031108471539554393), (716, 0.031070485402577314), (2525, 0.031066237444472483), (2412, 0.03082334410852001), (3638, 0.030803742841086827), (956, 0.030740638476085016), (3839, 0.03073360181550266), (15, 0.030733538230232556), (990, 0.0306180014236589), (1774, 0.030603342551629314), (3807, 0.03059054781392819), (1352, 0.030576863841942532), (430, 0.030565218589769662), (4377, 0.03056401060249888), (4715, 0.03051335412526949), (4643, 0.030483453481028155), (4119, 0.030460751153729093), (1455, 0.0303978536805561), (657, 0.030375072525100057), (1968, 0.030332933836238873), (2981, 0.030314778531449378), (3885, 0.030311580363850198), (352, 0.030284189011177905), (2960, 0.030219892221895573), (4699, 0.03019951757576561), (1925, 0.030161205213802098), (1318, 0.030131513865621427), (2551, 0.03011115138150741), (870, 0.03003756869072781), (3670, 0.030036803346410554), (3443, 0.030019248869351933), (714, 0.029985502049616843), (2754, 0.02997476661163131), (3047, 0.02995901440739384), (2316, 0.029854357227353724), (4387, 0.029676224561395133), (271, 0.02965173629896955), (2252, 0.029528909417826845), (1022, 0.02949941353831286), (2847, 0.029444380506456636), (1381, 0.029427466150959168), (961, 0.029381291647402073), (880, 0.02935452644424586), (670, 0.029282491471941896), (1622, 0.029275917015135856), (2104, 0.02926919573621192), (1263, 0.02922405820868881), (2842, 0.029210704605692993), (1358, 0.029206942853013538), (2892, 0.029196160095615018), (1704, 0.029144568708701753), (2672, 0.029129902034882513), (850, 0.029106639314335315), (4299, 0.029073709483258364), (81, 0.02906449041192575), (2753, 0.029064275752868463), (2483, 0.02906104350898035), (4173, 0.029007442726397988), (2381, 0.02897636261463932), (461, 0.028956829430909846), (1315, 0.028825536212432584), (3458, 0.028802899742403416), (1599, 0.028752059490581308), (878, 0.028746095102987132), (2948, 0.02869661576612207), (2854, 0.028685769192228587), (195, 0.028664425407503837), (1202, 0.028642822361855415), (2822, 0.028629681656209164), (626, 0.02862159667570484), (1996, 0.028616327438887815), (3494, 0.02857996437326355), (4238, 0.028533850225126153), (2228, 0.02852040461312676), (3392, 0.028454400508968025), (1993, 0.02843531959112075), (423, 0.0283772126514334), (852, 0.028348074999336965), (1706, 0.028313239451061765), (1629, 0.028290197227288677), (1008, 0.028270005445364187), (936, 0.02821647283674145), (4274, 0.028197701980038663), (2762, 0.028197520708209273), (2369, 0.02816937382036013), (3532, 0.028153262409518133), (260, 0.028103224828455727), (4088, 0.028086045147708825), (2795, 0.028065759339184683), (2434, 0.028064010444396603), (4118, 0.028026304749295877), (4639, 0.028007533458902174), (742, 0.027995187475180584), (3737, 0.02798758797651204), (1801, 0.027982762481304938), (4388, 0.02788064808896655), (3284, 0.02787422741081633), (1944, 0.027834719352343128), (2937, 0.02776630353031874), (2442, 0.027735744116184284), (3209, 0.02772774120039104), (1210, 0.027656562985174833), (65, 0.027639594452503715), (1926, 0.027616141930357073), (3844, 0.027606867427610798), (645, 0.02759423506196396), (366, 0.02755248390903877), (4207, 0.027545596228765696), (1261, 0.02749463118959991), (2846, 0.027468259921782593), (627, 0.027451585884130672), (695, 0.02743131621023021), (1833, 0.027410397752759923), (1328, 0.02740673453726026), (1812, 0.027393488055736877), (2465, 0.02736920381696519), (1389, 0.027367563707006437), (1279, 0.027347888286968967), (2012, 0.027325434501195844), (1918, 0.02728281229589108), (2701, 0.02727648376381502), (354, 0.027254568240032064), (3915, 0.027224308083990713), (3342, 0.027197644784754484), (2669, 0.027197023821968085), (2574, 0.02716945747670574), (3177, 0.027159388819065308), (3281, 0.02711844999307058), (192, 0.02710897558516134), (3588, 0.02706765089661186), (2447, 0.02704604084230227), (4503, 0.02699421624164105), (19, 0.02689167858686601), (3718, 0.026885925841408826), (309, 0.026872255343813895), (4468, 0.026849945563045062), (2233, 0.02683409443466281), (363, 0.026719654949288088), (4357, 0.02671773645315972), (1757, 0.02670788911760434), (3330, 0.02667477747719752), (1701, 0.026664791781629178), (743, 0.02654182509771333), (3628, 0.02652809834397437), (797, 0.026489137349260568), (4271, 0.026474437884519787), (3131, 0.02643299494538185), (1857, 0.026350018607604324), (4569, 0.026338319385844036), (2887, 0.0263339849861637), (2522, 0.026331805120422214), (902, 0.02630522868236626), (3843, 0.026298903413446723), (96, 0.026282767318364198), (4492, 0.026267446192970424), (211, 0.0261986511371673), (2414, 0.026197622696350314), (904, 0.026160757478545692), (1346, 0.026137811642057855), (187, 0.02612338136608091), (3389, 0.026117581026022983), (2609, 0.02608138493181368), (3461, 0.02606458786449708), (1185, 0.026029767999583245), (621, 0.02601868508339424), (2804, 0.02599728563071975), (216, 0.025985257391304396), (582, 0.0259602773466948), (1301, 0.025890553273910943), (297, 0.025869351011732135), (2014, 0.025848915134985696), (3344, 0.02584716524214408), (2906, 0.025825749911445435), (377, 0.02582498984111416), (3741, 0.025815044848800674), (3433, 0.025805686211709027), (3556, 0.02579158615034985), (674, 0.025762630896031914), (2818, 0.025753267652374227), (950, 0.025745702212438062), (905, 0.02570814924713953), (1835, 0.025613924918620138), (1271, 0.025612926126279453), (298, 0.02554313458977004), (2749, 0.025535277570132686), (1581, 0.025531670758590058), (822, 0.025488825273336926), (1955, 0.02548170879501587), (3300, 0.025478164984802185), (586, 0.025471346792807298), (448, 0.02543505803953144), (3215, 0.025433821676296906), (1255, 0.025431725650843152), (1306, 0.025430715478525302), (2366, 0.02535542498118659), (3188, 0.025352503962657025), (3594, 0.025281160063680294), (107, 0.025205424654408243), (3960, 0.025194876857127405), (1426, 0.025173741698437564), (3798, 0.025163240307069866), (1394, 0.0251597474120148), (1497, 0.02514908448687938), (735, 0.025112185406602816), (1035, 0.02509239026287286), (2354, 0.025089470979870708), (3439, 0.025080279078138333), (3370, 0.025071554906980174), (572, 0.025067337357502772), (3253, 0.025059006380975885), (4467, 0.025058409228496357), (1044, 0.025021256806930032), (810, 0.02500714284172005), (682, 0.02499447316390924), (109, 0.024988541453115753), (605, 0.024987642600356602), (4303, 0.02495666708205503), (1231, 0.02490433597525725), (4700, 0.024901027655916164), (4338, 0.02489957841861437), (977, 0.024866208369120617), (2172, 0.02484306050252552), (4277, 0.024833122753600296), (3597, 0.024827495502643446), (1976, 0.0248262742270531), (4210, 0.024802122369651604), (2461, 0.024796857500311915), (1051, 0.02479395861791664), (3348, 0.02475017210258422), (3386, 0.02473515383257985), (4041, 0.024732193601630127), (1085, 0.02473100992627282), (1566, 0.024726615922536853), (922, 0.02472304503036611), (1943, 0.024717506701343022), (1284, 0.024707591535163366), (915, 0.024675644584327507), (2115, 0.024621085936221525), (3204, 0.024618055280955037), (1469, 0.024598188523158107), (4374, 0.024518035390861226), (2383, 0.024495590302032962), (4099, 0.0244458704824036), (4691, 0.02444168526241278), (1883, 0.024432372333527443), (258, 0.02442457213934169), (888, 0.024416456687652667), (1981, 0.024368593788751326), (3940, 0.024344768969343473), (4050, 0.02433623445188747), (1592, 0.024286471234997234), (3058, 0.02423326450226332), (2930, 0.024228205876207876), (1787, 0.024222673446035504), (834, 0.024213083176461436), (2268, 0.02420675921010702), (1964, 0.02419525001688335), (3056, 0.024173501573811346), (1733, 0.024161650112854708), (4292, 0.024160821801376582), (90, 0.024160032253984456), (2706, 0.024130045637991277), (222, 0.024122042938594036), (2278, 0.02410531570634959), (102, 0.024068626101671733), (1092, 0.02404275425066613), (3751, 0.02398381903853719), (2720, 0.02397820018458261), (1724, 0.023928962638469838), (702, 0.023927526416321298), (2929, 0.023871918655935635), (2932, 0.02385794197746794), (3426, 0.023854664195857286), (2474, 0.023840468105361487), (741, 0.023799635017269262), (462, 0.023753904528966786), (4005, 0.023746798616799954), (345, 0.02369895302160201), (2941, 0.02363371277201404), (1919, 0.023614198843217526), (1293, 0.023502915411499264), (336, 0.02342574858711686), (266, 0.023417546373191205), (3166, 0.02337771791021212), (1287, 0.023372538833907087), (2845, 0.02336136626139508), (2274, 0.023353975528097107), (1685, 0.023314497093925052), (1157, 0.023288280088215544), (2656, 0.0232196679014622), (3303, 0.02321526841490505), (4187, 0.023213840900254877), (178, 0.023181092426819677), (4178, 0.023132472523149955), (34, 0.023125390286916545), (185, 0.02311723041231414), (562, 0.023089387817145493), (835, 0.02308136448957897), (2323, 0.023079225741037324), (947, 0.023077352752111816), (1736, 0.023068661485866986), (2002, 0.023063737864628873), (2666, 0.023041041408609884), (1984, 0.02303698636499072), (1079, 0.023027941915049553), (2308, 0.02301506915962958), (2062, 0.023007286762159344), (4403, 0.022999297284777523), (2208, 0.022989309630922432), (3306, 0.022978653556825008), (4525, 0.022952329205700922), (249, 0.022945535900350388), (4464, 0.02294374967380494), (2330, 0.022933332809829003), (3069, 0.022924579668049522), (1225, 0.022882253725887543), (2325, 0.022876261502196193), (833, 0.022846442457897468), (3042, 0.022835350439035517), (4552, 0.022835275227328474), (2157, 0.02279721465578393), (1978, 0.022794281199482982), (4098, 0.022780375141930213), (713, 0.022772255988550715), (153, 0.0227264203345693), (2183, 0.022675054245208), (4217, 0.022673435658955663), (2731, 0.02262252427224111), (1052, 0.02259994865124232), (4009, 0.022593576462012294), (3225, 0.0225814024974584), (2493, 0.02257954697777368), (1080, 0.022563863824760222), (3849, 0.022528733151497594), (1077, 0.022512334664771195), (1081, 0.022459507339439855), (4721, 0.02245827128171217), (918, 0.022446912310678968), (1054, 0.022436508755129682), (1398, 0.022384173435938213), (270, 0.022376323606249707), (3830, 0.022361355094734834), (2216, 0.02235786647653666), (1114, 0.02234411170371504), (2631, 0.022293124324116915), (460, 0.022120494072579423), (806, 0.02207972363893685), (1587, 0.022079092237977913), (2494, 0.022057453912400007), (1366, 0.022057073943997016), (2584, 0.02205479632464476), (749, 0.022049312367770645), (1227, 0.02201370548308214), (3123, 0.02201005251249575), (2879, 0.0219755906212197), (2541, 0.021918694915158174), (4730, 0.021907422809262726), (2185, 0.021905651251427526), (1064, 0.021861716964012977), (4278, 0.021848171342421705), (4019, 0.021847530293207348), (1999, 0.021842433040052123), (2280, 0.02182343721130267), (1837, 0.021819783866682978), (3586, 0.02181794876668767), (2817, 0.02181536635000661), (3901, 0.021761865010684334), (315, 0.02175722747673469), (4587, 0.021742446599150877), (1705, 0.02170923998952437), (2711, 0.02170689129150608), (2769, 0.021706755042424572), (1379, 0.021704779545350425), (1573, 0.021703501393580852), (1927, 0.0217032682479901), (2247, 0.02168894544117198), (243, 0.02165019593921772), (2956, 0.021642956840705455), (4633, 0.021612823158606204), (2830, 0.021520258767979493), (4701, 0.02150626396059344), (4557, 0.021504913715513115), (719, 0.021503177517630315), (1468, 0.02150292789921401), (3255, 0.02146913093552282), (3720, 0.021446514806287415), (1772, 0.02143964918000744), (3256, 0.021437730742903886), (4637, 0.021411797346895987), (328, 0.02140174060088695), (4346, 0.021335962481722252), (1528, 0.021321984031533032), (4642, 0.021294985965885253), (4712, 0.021147244832697587), (925, 0.021145931933985354), (1846, 0.021129898164804106), (2686, 0.02109506961492836), (2627, 0.02109313791028316), (4714, 0.021054642354092448), (2016, 0.021046118887748315), (566, 0.021028122088431488), (1266, 0.020983978448066154), (2267, 0.02096900313326441), (2421, 0.02095648451287014), (1458, 0.020911163774562654), (3222, 0.020897925351375114), (2899, 0.020891264619929354), (3473, 0.020887917845323716), (616, 0.020887334813844544), (1211, 0.02087511001015923), (443, 0.020871081731980393), (3942, 0.020868772883031662), (3947, 0.020852501869904304), (2679, 0.020852021699819093), (998, 0.02084800204633241), (1221, 0.02081885214323985), (796, 0.020809071622170057), (1928, 0.020791101004401517), (340, 0.020775759242108567), (4518, 0.02076797779490471), (2348, 0.02075094366282244), (4663, 0.020744698827459624), (4168, 0.020734147004149266), (1207, 0.020721930252298782), (441, 0.02071240422266142), (496, 0.020711157375385585), (1802, 0.020662239172943023), (3962, 0.020654354194630308), (1412, 0.020645393391271763), (553, 0.020619496950071984), (1924, 0.02061498417909412), (2486, 0.020602225416445824), (1184, 0.020585881764629676), (563, 0.02057087122686743), (2277, 0.020550683150043696), (5, 0.020519679512881032), (3725, 0.020518171761844166), (1260, 0.020514410864076887), (665, 0.02050447490238548), (2638, 0.0205023951450274), (4028, 0.02048425860750508), (2337, 0.02047198339471039), (4605, 0.020427784908466303), (1401, 0.020418312375054565), (3675, 0.020393340918372506), (3133, 0.02038770200759472), (4494, 0.020385192406419075), (1388, 0.020361467948886804), (163, 0.020344902534911866), (4199, 0.020246256560474032), (982, 0.02023025192829881), (3158, 0.020224555048352882), (3385, 0.020224048048072214), (2683, 0.020211998420566764), (1462, 0.020206845799500828), (1867, 0.02020495610668325), (250, 0.02019182352486499), (1453, 0.020166890964629276), (4056, 0.02016364419437784), (3738, 0.020155707360129095), (4043, 0.020112854317307013), (4483, 0.020104515592466107), (2253, 0.020084491354270533), (2619, 0.020062989666119847), (1498, 0.02006114920801233), (2093, 0.02006055561703433), (1589, 0.020040685787609334), (3098, 0.020018523543879032), (306, 0.019984700624968686), (655, 0.019979794324199846), (4191, 0.01996048382300581), (2595, 0.019946824471508452), (2231, 0.01994053065485115), (4456, 0.019913484700497433), (2353, 0.019908473380717537), (3789, 0.01990366005269104), (4506, 0.019890700798870595), (1246, 0.019867232468271538), (2314, 0.019850354404941165), (3773, 0.01982823165186295), (860, 0.019821869807981642), (3604, 0.019819436394779226), (4132, 0.019795257092061248), (4726, 0.019785409640823585), (3943, 0.019767555807258082), (1808, 0.019762646542895338), (3149, 0.01973386530384303), (1694, 0.01973168271237652), (2243, 0.01972602788390201), (3781, 0.019704521506486924), (1095, 0.019693019327785295), (2738, 0.019660744387905604), (4582, 0.019650958354633083), (1829, 0.019641678048371778), (4445, 0.01964142884803918), (2704, 0.01960265059580712), (1645, 0.01958510739238419), (4002, 0.019572540348582818), (2935, 0.01957086827698776), (1897, 0.019564811702953943), (1325, 0.0195582686571914), (2774, 0.019539377260171784), (855, 0.019534083887146884), (3617, 0.019529958574629535), (3694, 0.019528468360998936), (155, 0.019523824819869355), (2821, 0.019523442328267485), (4581, 0.019516529513539237), (3704, 0.019500017009382108), (2477, 0.019495871160401777), (4300, 0.01948756773542868), (501, 0.0194775264524862), (2826, 0.019439674093826437), (4260, 0.01943759848388721), (1952, 0.01943100725655232), (341, 0.019429299663930043), (3667, 0.01940515333226508), (3631, 0.019402671432816165), (4389, 0.01938351527522423), (225, 0.019382654546450565), (2254, 0.0193636448758346), (2271, 0.019361717796869946), (689, 0.019355237397879328), (2622, 0.019354761503059037), (1788, 0.01934111489190307), (299, 0.019333303294230674), (1689, 0.019294744280829845), (3493, 0.019248509131391252), (752, 0.019244832424054316), (3919, 0.019224665760951085), (1779, 0.019211522525147018), (3997, 0.019210211941930233), (2019, 0.01920379624499589), (4512, 0.019169035430998294), (4369, 0.01916716564402307), (2864, 0.019157261331782787), (3611, 0.01914929099925675), (2911, 0.019139825915148064), (1613, 0.019128935625241678), (3339, 0.019125399246210317), (4465, 0.01909379043431746), (3475, 0.019079691207651663), (1307, 0.019078311187932767), (765, 0.019070704719778182), (2794, 0.01903916374408097), (1400, 0.019021068142136114), (654, 0.019018488295527908), (1975, 0.019006390932306976), (3428, 0.01899963388296594), (576, 0.01899862962002417), (1627, 0.018997074286818953), (2959, 0.018996043938964983), (687, 0.01898058352095293), (3232, 0.01896444230145777), (1855, 0.018962350432370073), (2129, 0.018957257680566348), (1023, 0.018944423521969202), (2182, 0.018933150020428516), (429, 0.018911287285129884), (1311, 0.01890709618553502), (4319, 0.018902383733768978), (3769, 0.018867078028527214), (245, 0.018863809858528063), (638, 0.01885609394317886), (580, 0.018855939372942596), (1525, 0.018855741636129533), (3530, 0.018852655723283675), (660, 0.018849087834340576), (482, 0.018834487132770153), (2445, 0.0188301851072272), (2103, 0.018828395626561217), (4453, 0.01881754513736626), (3488, 0.01881203887645871), (1691, 0.018802458270758222), (738, 0.01879323958939504), (1983, 0.018793199592337387), (1083, 0.018774715736875367), (542, 0.018769506989838064), (1743, 0.018756872350395113), (2708, 0.01874537579492585), (3682, 0.018712768709942526), (4275, 0.018709531578086018), (1949, 0.01870726663755847), (4324, 0.018683423814849918), (673, 0.018669182933674606), (4288, 0.01865862274211413), (4116, 0.018651485010943682), (4571, 0.018651209655275676), (980, 0.01864962142353696), (4580, 0.018591042500742297), (1309, 0.018563877414241092), (2235, 0.018542042424547232), (2244, 0.018535620632351), (3207, 0.018520525885108562), (1912, 0.018512890159718246), (2492, 0.018505547286222383), (652, 0.01845691515025291), (1804, 0.01844626544568218), (4045, 0.018427366922284295), (4640, 0.018424458379823892), (4140, 0.01841435053002634), (1297, 0.01840584847248838), (3112, 0.018396298150434885), (145, 0.018395246743868828), (161, 0.018389455758244945), (1970, 0.01838509985522297), (750, 0.018383453297900636), (1243, 0.018382449480205097), (3749, 0.018375852056702092), (781, 0.018369292110057577), (1934, 0.018365286634005922), (4380, 0.018363647343769728), (4263, 0.01834966143057704), (832, 0.01834751095478944), (3104, 0.018347377703561554), (2210, 0.01834652448264413), (44, 0.018338821356911207), (53, 0.018323005720725795), (3167, 0.018321935837288514), (4675, 0.018321303891977676), (1991, 0.0183053454220575), (992, 0.01830238005687784), (1614, 0.018301697163677227), (811, 0.018294144630458378), (475, 0.018293199112866917), (2374, 0.018287590704319814), (346, 0.018273944711479726), (1998, 0.01826238735993432), (4497, 0.018261514851966486), (3045, 0.01819297070799126), (30, 0.018183299465281702), (50, 0.01816153786191211), (4510, 0.018158316273828447), (640, 0.01815831249203702), (3350, 0.018143036482477712), (4262, 0.018108742014709477), (347, 0.018105757910675827), (4756, 0.018104707742670794), (1849, 0.018104515968241114), (1100, 0.018086085042606306), (2344, 0.01808216511862113), (2463, 0.01807702942404092), (3777, 0.018075633353345485), (1873, 0.01806251749501579), (756, 0.018061170258881293), (2502, 0.01805061389314333), (4695, 0.018029754752021586), (459, 0.018016906699172237), (4392, 0.018014573819640525), (2246, 0.018010751244128525), (180, 0.01800962814143944), (1420, 0.01797120674795517), (1643, 0.017960833606928506), (252, 0.0179576661271214), (469, 0.01792533634435174), (988, 0.017922991222570562), (1777, 0.01791968791726991), (1252, 0.017877980757951197), (395, 0.01787466174516245), (2516, 0.017857274625667528), (115, 0.01783537964042734), (4662, 0.0178321902697333), (1852, 0.017794389411738405), (4739, 0.01778449964265952), (4264, 0.017782036760095748), (4114, 0.017755940761673798), (1314, 0.017750842826715393), (2467, 0.017743134955020088), (4175, 0.017739982187045186), (2809, 0.017739666819259176), (4314, 0.017732754586519187), (3060, 0.01773024295139679), (344, 0.017725528145901944), (658, 0.017712143327604544), (1982, 0.01771112694364141), (1339, 0.01770839536164733), (4284, 0.017705168176169236), (1492, 0.01770485587646168), (927, 0.017699900139265687), (1299, 0.017691813352774952), (4555, 0.01769016631678772), (633, 0.01767768823729224), (84, 0.01766790429744981), (4086, 0.017660217689667933), (853, 0.01763840979891947), (2632, 0.01762050859890371), (2829, 0.017619517191599987), (1526, 0.017574044883474735), (3179, 0.017566962143827997), (1916, 0.017556393643770353), (3224, 0.017546508543641287), (3635, 0.01753452353669479), (3187, 0.01753197271579457), (1189, 0.01751319939711864), (329, 0.017504719683204294), (3784, 0.017504643461481752), (4125, 0.01750435476080624), (706, 0.01750249087329707), (676, 0.01749387488313434), (3847, 0.01745521366549576), (2889, 0.01744748796881173), (87, 0.017419366950746144), (698, 0.017399663694726317), (4083, 0.017393400927007054), (2863, 0.017377191184536785), (2370, 0.01735702842909402), (3722, 0.017328120589944464), (2680, 0.01729684088912141), (3504, 0.017283578049091048), (2013, 0.01728182900498197), (1496, 0.017281379615366018), (2179, 0.0172763792281022), (1050, 0.01727123573077372), (294, 0.017270466923724994), (507, 0.01726811540197339), (3301, 0.01725608182170275), (4648, 0.017229867928479095), (3122, 0.017214058158851166), (1939, 0.01721167054937152), (497, 0.01720727743085029), (681, 0.017206177491604416), (2188, 0.01719769352205066), (2099, 0.017189161074423774), (2736, 0.0171817953758513), (3603, 0.017175088339899346), (1011, 0.017163555237285168), (3208, 0.0171559021330287), (3090, 0.017152182393305602), (3290, 0.01714509474774683), (764, 0.017130257412635613), (2740, 0.01711171830491283), (135, 0.01709317499844218), (3416, 0.017091878253798563), (2598, 0.017072215921221552), (116, 0.017030619226998937), (619, 0.017028599397666853), (1177, 0.01699811997812446), (2684, 0.01699790168932406), (1741, 0.0169897993352076), (758, 0.016984173977058883), (3155, 0.01696872744641107), (3034, 0.016963107011925656), (236, 0.016949630726389938), (3624, 0.016949359308094214), (4342, 0.016946671738459738), (1932, 0.01694651762725455), (3435, 0.016941607279188996), (3817, 0.0169061339979309), (1505, 0.01690222407574801), (4135, 0.016896467476031605), (1665, 0.016895371180710494), (2843, 0.01687660366715646), (114, 0.016869468784162078), (4328, 0.016857123280732557), (101, 0.016850909463029102), (1794, 0.016827843534694353), (2773, 0.01682576663855179), (1082, 0.016802074660704786), (472, 0.01680165559781524), (2654, 0.016760221527220925), (1767, 0.01675573167890929), (2119, 0.01673938850750241), (2232, 0.016713858147692037), (3197, 0.016713338126087676), (4490, 0.016711595255758344), (1521, 0.01670020702860802), (744, 0.016687441472383043), (1519, 0.016686439322440016), (1760, 0.016683451219494983), (1159, 0.016678971720782754), (3079, 0.01663003188835029), (3711, 0.01662547433018527), (1133, 0.016624334662170417), (528, 0.016617563150045176), (3272, 0.016610247278922408), (2057, 0.016591062862032727), (1915, 0.01658802681697629), (54, 0.016573882153638645), (381, 0.01655822931837473), (2406, 0.0165523294457778), (4399, 0.016484463302855745), (1692, 0.016483986089556573), (1796, 0.01646407488973429), (2825, 0.016458242827820317), (1329, 0.01644048192085667), (3886, 0.016429880369930424), (1360, 0.016422798643097834), (2677, 0.01642070604131883), (3040, 0.016391683041857764), (1892, 0.016385375235542038), (2989, 0.016355233680768817), (4020, 0.01634437356362108), (753, 0.01633505084417944), (4367, 0.016332060105841407), (1595, 0.016329876769269176), (3705, 0.016328321299459728), (4070, 0.01632316586676899), (1798, 0.016315363993067974), (4154, 0.016305384915587244), (4128, 0.016260565614665514), (4144, 0.016258404299561838), (3465, 0.01624975567412511), (1880, 0.0162433052964349), (1771, 0.0162426019601285), (3352, 0.016207223084124284), (3108, 0.016195491668176302), (3117, 0.01615451812144262), (932, 0.016130597936801036), (2309, 0.016099323696230555), (1414, 0.016098059329678387), (4613, 0.01608853902286845), (1459, 0.016064300054133014), (4499, 0.016013436921332), (3685, 0.01601070961107472), (1363, 0.01599462256610422), (4218, 0.015963747702693862), (979, 0.01595614251155515), (2651, 0.01594534470870298), (200, 0.01594437225522722), (3563, 0.015897300787504887), (4365, 0.0158938209611555), (2270, 0.01588967487479279), (29, 0.015865251949029463), (842, 0.015858142592289296), (1973, 0.01585427863309324), (1073, 0.015839094226533387), (1489, 0.015834260507138712), (3619, 0.015831597164352812), (3736, 0.01582732130994594), (3403, 0.01580914392941236), (3250, 0.015806357345543497), (2259, 0.015799199377885955), (3744, 0.015783773337005126), (3357, 0.015754283700940622), (422, 0.01574112251899329), (3448, 0.01573290740658471), (2100, 0.015693203100102276), (1118, 0.015680872146291228), (4515, 0.015680696896350665), (3829, 0.015666275882552694), (2446, 0.015653399901586224), (1178, 0.015622615258193794), (147, 0.015611552182683558), (688, 0.015610285032715054), (4152, 0.015570756472295565), (2149, 0.01556637039382323), (471, 0.015558184548015788), (2399, 0.015557040551560384), (1010, 0.015554466319952503), (787, 0.015525083956467064), (2866, 0.015502915954254856), (170, 0.015500750989672058), (45, 0.015489026229489123), (454, 0.01546215088744808), (2207, 0.015429482897838697), (3063, 0.015425067793058418), (802, 0.01541886561517923), (1222, 0.015416796539293552), (2301, 0.01541661708428422), (2567, 0.015390197157850503), (804, 0.015387210901096963), (4240, 0.015383228032125693), (4696, 0.015377133523621737), (1895, 0.015373902245687732), (3516, 0.015325627792677104), (3292, 0.015322390173836067), (4177, 0.015312969008626644), (2521, 0.01528119573426901), (1356, 0.015272784974566392), (2472, 0.015246004243177961), (3121, 0.015241379710382714), (1782, 0.01523756877606522), (617, 0.015234929325327967), (3329, 0.015230820131470209), (2198, 0.015226734275600416), (4620, 0.015222146165012896), (4423, 0.015220352547669522), (2871, 0.015211766649050957), (1649, 0.015209781616809852), (1374, 0.01520876447592563), (3377, 0.015176239567725933), (3459, 0.015138412289035013), (1249, 0.015122031382361133), (4053, 0.015117306608559993), (9, 0.015102750238311652), (3774, 0.015089571224650787), (2427, 0.015064682996850636), (357, 0.015051827531238255), (2963, 0.015045981545910869), (3780, 0.015045953984178824), (1119, 0.015045157688308677), (1539, 0.01502801074451703), (3160, 0.015027428214195683), (247, 0.015026804214001611), (1987, 0.014980794161826662), (1308, 0.01497310555319166), (569, 0.014953645363393483), (1251, 0.014913528620675433), (2196, 0.014901846249152365), (150, 0.014877076419646069), (1762, 0.01486256818184643), (3740, 0.01485463616618871), (3933, 0.01485033142977877), (891, 0.01484368924880189), (4488, 0.014831909600549718), (2790, 0.014816196261615589), (1902, 0.014811761987523351), (1408, 0.014801564074528146), (4757, 0.0147982682703724), (2035, 0.014776523265559945), (438, 0.014751649161913995), (1838, 0.014743319085544833), (1713, 0.014726939203155556), (424, 0.014725716263425453), (425, 0.014712940066759782), (2095, 0.014677598611708456), (3279, 0.014659532251153198), (196, 0.014650702998923022), (2877, 0.014643776979928896), (3327, 0.014638619417026839), (647, 0.014617641938813083), (709, 0.014605883908193928), (666, 0.014594053288143269), (637, 0.014592497938473465), (2066, 0.014589764018687333), (1062, 0.014584453819983637), (3895, 0.014584188265609092), (4562, 0.014581429391613715), (1303, 0.014548653049609197), (1370, 0.014531819916600342), (2785, 0.01451138062189967), (137, 0.01450809413801252), (3577, 0.01450565003082004), (1700, 0.014483962246150114), (809, 0.014466914032216786), (739, 0.014462526624904942), (3025, 0.01445758039179605), (3674, 0.014441208836170158), (1431, 0.014429602021472632), (60, 0.014416890692407612), (1088, 0.014406988880458277), (1435, 0.014406788814539176), (2629, 0.014387418422097557), (4209, 0.014382949897291298), (4684, 0.01438031716033833), (3874, 0.014353091058411996), (278, 0.014348787236567634), (277, 0.014345712472244471), (545, 0.014336676337489295), (550, 0.014325159227713678), (1090, 0.014317803195097806), (2428, 0.014312671034395624), (2355, 0.014262769564243886), (1472, 0.014255458944916363), (1930, 0.014245216964006787), (69, 0.014240265056469484), (813, 0.014235045567523329), (875, 0.014234354334220687), (2917, 0.014213006994290303), (1206, 0.014207097784724933), (3787, 0.01419857172771543), (696, 0.014184009598776408), (4270, 0.014178085217956035), (2539, 0.014167441544530406), (2993, 0.014157325060493858), (451, 0.01415249623948812), (283, 0.014150438046423219), (1191, 0.014147202490733332), (1764, 0.014146509162850852), (3316, 0.01414649238009392), (747, 0.014130579842364233), (242, 0.014130058991614677), (2318, 0.014125495942778166), (1695, 0.014117992810801049), (777, 0.014107204571944152), (4310, 0.014105903329490986), (1650, 0.01409261809217287), (531, 0.014092557539333916), (1850, 0.01407660339242885), (2136, 0.014055895753470937), (4551, 0.014026564800790646), (2351, 0.014010143323879301), (1150, 0.013988469574171436), (4708, 0.0139839939790305), (4204, 0.013970238749145056), (1745, 0.013968788106768625), (2352, 0.013947653309559133), (1305, 0.01393293698754805), (3693, 0.013924647460245146), (4015, 0.013902468581382901), (2009, 0.013901786412977646), (3782, 0.013891987136142356), (36, 0.013888305453423174), (1257, 0.013886012306304232), (3548, 0.013859395096400473), (4215, 0.013846492804410544), (3438, 0.013845458407689217), (431, 0.013842362341841887), (955, 0.013839409770465771), (4101, 0.013833350443844443), (2613, 0.013827796615103673), (1280, 0.013810246288878255), (2097, 0.013792164374902728), (4087, 0.013777896486096971), (208, 0.013768966043948911), (1511, 0.013762813152097519), (239, 0.013756443100485518), (1099, 0.013752258937500803), (1677, 0.013722725021327428), (418, 0.013718261646092753), (1904, 0.013715555762616703), (75, 0.013707516228085533), (2178, 0.013706623457170016), (113, 0.013700128070862981), (2509, 0.013690932841190624), (58, 0.013684253851257029), (1380, 0.013677792534177856), (3884, 0.0136564088836057), (2320, 0.0136451498607273), (3547, 0.013632265253366839), (2245, 0.013610644991186461), (2413, 0.013604009287537785), (320, 0.013596364825497045), (1421, 0.013584809842081953), (3408, 0.01357357194880493), (4547, 0.013540540360464391), (3134, 0.013536169733822564), (201, 0.013531217423885222), (2403, 0.013528163396035893), (296, 0.013524085914051166), (1143, 0.013521812484024396), (3199, 0.013507382136416866), (4466, 0.013504749454957768), (3355, 0.013503642582008544), (3360, 0.013499777220485568), (2441, 0.013490984209685952), (4507, 0.013481874800209256), (52, 0.01347363520730516), (27, 0.013472114785765342), (3124, 0.013464955001850064), (757, 0.013462276605416676), (3907, 0.013455522923992186), (748, 0.0134489998714872), (2034, 0.013445742215441273), (4489, 0.013442282478467465), (189, 0.013430186731267807), (3651, 0.013427272901392997), (2760, 0.013387851108124238), (3626, 0.01338205513787357), (827, 0.013368334768743417), (4420, 0.01336444129761386), (2660, 0.01335915267243971), (3772, 0.01335727774679163), (95, 0.013340940374953536), (118, 0.013307283441060674), (3819, 0.013305150319234228), (1901, 0.013291675857367891), (4363, 0.013274486783857996), (4533, 0.013273310872217232), (839, 0.01326123874937094), (1931, 0.013250900859034447), (3486, 0.013241964709737465), (237, 0.013240196520610824), (737, 0.0132386896334362), (2766, 0.01321948704461317), (3404, 0.013195220223572758), (2045, 0.013180369918232784), (919, 0.013179760779895869), (588, 0.013170207765100217), (1862, 0.013145559173743097), (3414, 0.01313892368698734), (2647, 0.013135618141180225), (4108, 0.013133773782035172), (3630, 0.013117226860032392), (690, 0.013110940229035296), (463, 0.013059711977548273), (3629, 0.013052059691268322), (2372, 0.01305174802765617), (240, 0.013043238034887057), (4103, 0.013039424919749267), (2505, 0.013035342152711061), (1836, 0.013032272924627325), (2501, 0.013031621374430879), (4402, 0.013030088659069966), (39, 0.013022477183628957), (4549, 0.013020849186165502), (3993, 0.01301966796245893), (1728, 0.013019049189924716), (2506, 0.013011355513318303), (1334, 0.013010852008382817), (3572, 0.012995075961643692), (3367, 0.012989643439102867), (1385, 0.012985554843872113), (3026, 0.012968055083417742), (849, 0.012960689245129949), (2176, 0.012957286663272026), (305, 0.012956657209185752), (829, 0.01294497376970549), (241, 0.012937383323696882), (3876, 0.012935190665407308), (1262, 0.012934674764330484), (1270, 0.01291867682646998), (351, 0.012858134354176294), (3816, 0.012853956882824558), (2811, 0.012853688832197395), (1012, 0.01284777450264336), (511, 0.012833779751391806), (3332, 0.012826080501427257), (1806, 0.012814232580853908), (864, 0.012806967398658222), (3044, 0.012794440532716283), (2458, 0.01279123048033722), (3181, 0.012790358841162214), (4266, 0.012789249307294224), (467, 0.012784514331075065), (1272, 0.012778576761689161), (1056, 0.012770581395038273), (104, 0.012754317144518216), (4528, 0.01274697077918941), (3247, 0.012744766781613107), (4211, 0.012730944073154789), (926, 0.012728973815166373), (4545, 0.012701845721518076), (3318, 0.012700313095811502), (898, 0.01269429990510466), (704, 0.01269154071367663), (981, 0.012686367612472254), (1061, 0.012686238157613789), (794, 0.012684733481981549), (3974, 0.012683291369894153), (334, 0.012679976287968086), (1378, 0.012663539106374373), (1103, 0.012648139106008491), (4161, 0.0126272657810616), (4590, 0.012618238766956811), (152, 0.012594711232316027), (191, 0.012572889001068444), (2588, 0.012572323034161672), (3555, 0.012569742462516256), (1239, 0.012559168906376083), (1384, 0.012541704670642816), (333, 0.012534228742312695), (3285, 0.012524688658766627), (61, 0.012513107591845356), (261, 0.012512836473527935), (10, 0.012508418211257538), (3539, 0.012504970038655893), (1009, 0.01250105240484042), (3582, 0.012493920801712317), (3156, 0.012491336533927946), (4668, 0.012488444601686558), (310, 0.012460611456458342), (206, 0.012450974380792987), (3084, 0.012448950257755139), (1097, 0.012429793653015725), (93, 0.012421805785185917), (4523, 0.012406476383927183), (483, 0.01239288581403642), (4679, 0.012388773624997185), (3422, 0.012380444204246893), (3305, 0.012368713472533623), (284, 0.012368503137244998), (1001, 0.012360686207698094), (2698, 0.012348616466685535), (4615, 0.012346345500519275), (830, 0.012338422578330854), (2217, 0.012287776466500522), (911, 0.012286849477775535), (4192, 0.01227326332317768), (4448, 0.012257923071367012), (2828, 0.012251057596268981), (4556, 0.012242724414204754), (2345, 0.012236166788831646), (3684, 0.012229545236348819), (2646, 0.012211449983004373), (2904, 0.01220831578689087), (2319, 0.01219346380122881), (85, 0.012192829761435743), (733, 0.012192458136802283), (3900, 0.012187506667882837), (3536, 0.012178771068067976), (2139, 0.012172094015317204), (642, 0.012171837643405922), (1033, 0.012148645381756999), (3135, 0.012147183806878934), (468, 0.012136146728099324), (426, 0.012130638661275447), (4628, 0.012114952642995638), (3100, 0.01211465437187485), (4536, 0.01210894025756103), (3136, 0.012096076924574085), (3265, 0.012096051668997722), (2886, 0.012091993374951671), (1215, 0.012061916904577728), (176, 0.012060802503924026), (780, 0.012058644931014856), (3142, 0.012057981927743116), (3171, 0.01205633511311181), (46, 0.012054219724515952), (2070, 0.012053218299507649), (417, 0.012046746989628853), (316, 0.012019834552949008), (1153, 0.01199500995308358), (1789, 0.011975975646369269), (540, 0.011969756173949884), (1250, 0.011963227408875097), (3283, 0.011955546960194855), (1756, 0.011951941819788288), (2313, 0.011916778668492669), (1845, 0.011916529130755821), (4214, 0.011889114302579188), (307, 0.011888431282826349), (80, 0.011883325375362477), (3462, 0.011883279669642808), (4485, 0.011881175302703743), (397, 0.011858082036901484), (1675, 0.011814942505374688), (2803, 0.011802545165312373), (4081, 0.011802499098647343), (4193, 0.011794443001394268), (4435, 0.011793530203750078), (2827, 0.01179008818663857), (552, 0.011785861088689597), (3550, 0.011773098887602562), (2813, 0.01176256557512293), (608, 0.011756255716761019), (2709, 0.01174263801998095), (1173, 0.011736698896650834), (248, 0.01172514336673942), (1809, 0.01172093209069847), (3484, 0.011718989952593557), (2195, 0.01170658518872219), (1134, 0.011690382989710119), (1517, 0.011685930242500572), (4060, 0.011661445215319304), (1196, 0.011660917363122495), (188, 0.011660913054280577), (3441, 0.011641128951578346), (327, 0.011634155553891242), (359, 0.011631280996467978), (2408, 0.011622755037183085), (323, 0.011601057674136817), (3381, 0.011597379057725989), (133, 0.011583775003794957), (374, 0.011580559300439976), (4502, 0.011575796684043384), (2281, 0.0115704110534149), (4487, 0.01156395347145448), (1508, 0.011559267321581116), (3278, 0.011524541276728207), (2297, 0.011505036844622979), (3580, 0.011499755351532234), (76, 0.0114980060335267), (4641, 0.011466159938180336), (1541, 0.011453061193507325), (519, 0.011451155777005216), (503, 0.011417867945975142), (2998, 0.011407913365581479), (4407, 0.011407648351668366), (1966, 0.011405237781337297), (3027, 0.01140509696408559), (3219, 0.011397380456819569), (158, 0.011368915478401926), (817, 0.011358615767817696), (4382, 0.011349781495090562), (953, 0.011345955093501937), (4504, 0.011328483647446128), (2056, 0.011310735183374358), (4141, 0.01130049445047698), (3679, 0.011286498105208743), (4434, 0.011243909818965276), (487, 0.011236088012423257), (2078, 0.011207168478827335), (798, 0.011201135073412902), (2534, 0.011181012733653007), (234, 0.011161966433083516), (3129, 0.011142604893247265), (4345, 0.011133572523835475), (4022, 0.011125573689616218), (1029, 0.011107283137004886), (3014, 0.011080560142133615), (3021, 0.011077620534261921), (2326, 0.011065164820914051), (2215, 0.011017199477689497), (311, 0.011016967893103842), (3065, 0.011016011668638715), (2170, 0.010976567494316527), (639, 0.01095146338783384), (229, 0.010942824758213104), (1606, 0.010919015552513695), (1558, 0.010910963340067184), (3120, 0.0108668960750282), (251, 0.010863169780093345), (3627, 0.01086020680458689), (1823, 0.010859853615258102), (335, 0.010851147945951024), (2857, 0.010765426074183458), (14, 0.010740511489684464), (2851, 0.010730145913209144), (1038, 0.010719862219470055), (4565, 0.010693934699964536), (2488, 0.010658354240556433), (4725, 0.01064634487426416), (290, 0.010583116801930692), (2359, 0.01057867317284256), (295, 0.010576590962611921), (885, 0.01052801933140317), (2781, 0.010510284162856896), (2756, 0.010498911257012156), (1115, 0.010421045607681438), (1989, 0.010416725403166398), (289, 0.010409112785341009), (1351, 0.01039218122388769), (570, 0.01037900939310761), (2360, 0.010373341556390227), (2365, 0.01033073313489733), (816, 0.010315749473330948), (2269, 0.010122032192693768), (2884, 0.010067686568981367), (3506, 0.010058631933613733), (2382, 0.010054637386294878), (2187, 0.010009322004822187), (177, 0.010006037951564923), (2952, 0.009981111997545982), (4418, 0.009980058100675383), (2204, 0.0099499828280577), (2982, 0.009925128939501102), (775, 0.009921922250822175), (2400, 0.009864221731720076), (4333, 0.009813603836242525), (2324, 0.009804326014046735), (2221, 0.009757876250372973), (2969, 0.009734976760154878), (3001, 0.009664699008338332), (2530, 0.009658126324772986), (385, 0.009654505885094299), (2375, 0.009581168997542544), (2410, 0.009567497390621144), (4097, 0.009550694793045138), (3497, 0.00952890734923955), (3813, 0.009515808152721255), (3269, 0.009433889556366563), (407, 0.009417804338886955), (4659, 0.009411280766316588), (914, 0.009408657623968269), (1518, 0.009392822684215315), (2661, 0.009362307378675138), (405, 0.00934961770286298), (485, 0.009346157852516551), (4574, 0.009338053010681984), (227, 0.009320551956713117), (2391, 0.009314786493857415), (4194, 0.009307215852750149), (2393, 0.00930713974926178), (3109, 0.009288330766389113), (612, 0.009259605017105635), (2147, 0.009257054467798545), (384, 0.009254696245219546), (3464, 0.00924300464755883), (456, 0.00924006779287564), (1116, 0.009239263258677306), (205, 0.00923489429042423), (193, 0.009220920861484024), (4286, 0.00922074884476556), (4033, 0.009200683810020737), (3259, 0.00919761297417745), (3206, 0.009193883131686625), (1258, 0.00919263464438415), (3388, 0.009188821216706887), (751, 0.009169670664931611), (656, 0.009162445128850519), (3242, 0.009156420424010367), (4455, 0.009144511216816918), (368, 0.009121246341341697), (204, 0.009111344718850962), (2531, 0.009089134098443898), (4570, 0.009083649222852047), (1534, 0.009076441169011736), (2405, 0.009070665003249214), (2650, 0.009061163538945004), (2511, 0.00903984139868858), (837, 0.009022719346506601), (4341, 0.00901392021600289), (4287, 0.009010161870476496), (1382, 0.009001961541691118), (1615, 0.008998721485740793), (971, 0.008976878015177648), (1768, 0.008966693802739168), (1557, 0.008961632305088599), (814, 0.008958849080177462), (4329, 0.008954898354880614), (3289, 0.008937793684208752), (846, 0.008930201941827908), (42, 0.008920680597151152), (2707, 0.008918497421716296), (3912, 0.008910048430291813), (4589, 0.008894185031452976), (4197, 0.008890856604606992), (228, 0.008889465061024358), (491, 0.008883585834275), (4031, 0.008882975124104915), (1122, 0.008879040224459364), (3812, 0.008876713999055744), (1425, 0.008872071655063794), (2397, 0.00886980368625028), (3792, 0.008869105083702068), (2398, 0.008861811058914202), (1466, 0.008858525345761887), (2798, 0.008856182218254027), (3172, 0.00884816695975019), (131, 0.008835869121930792), (1476, 0.008835821735154426), (3739, 0.008817153356590885), (2396, 0.008800537156560252), (1758, 0.008787020301516887), (2550, 0.008777088223632299), (3419, 0.008769359669223376), (4454, 0.008766702927809091), (3564, 0.008755109117437463), (1321, 0.008745523012214389), (3926, 0.008735286461387572), (785, 0.008726440490741852), (1304, 0.008724170491883202), (4516, 0.008713646981008296), (4427, 0.008711484205748035), (66, 0.00870426065012959), (4526, 0.008667157820164258), (105, 0.008649460879799554), (1891, 0.008645600878056202), (2064, 0.008645406859681504), (1634, 0.00864383612030245), (894, 0.00863934577985966), (3596, 0.008631161044459162), (466, 0.008622249597037479), (464, 0.008620550982401037), (1411, 0.008618081358045477), (3237, 0.008614067311583535), (1437, 0.008610573385706484), (1913, 0.008606529931893698), (535, 0.008605321205446543), (2532, 0.008578654252341661), (215, 0.008568005199732777), (1330, 0.008561246089008078), (1026, 0.008557960399856356), (3260, 0.00855674733611239), (1084, 0.008545710137054869), (2710, 0.008543988680694139), (4160, 0.00851978981028541), (3469, 0.008509805461509784), (2239, 0.008507168913035209), (2164, 0.008505398658227229), (4535, 0.008505207133842304), (1069, 0.008501944386797399), (4073, 0.008500402065859596), (2279, 0.00849754098854575), (2322, 0.008495398657301464), (4401, 0.008490001758391175), (2479, 0.00848546622685802), (2401, 0.008475911687966148), (1474, 0.008474370454971129), (3877, 0.008460549976836743), (662, 0.008455852574250614), (41, 0.008455441047108042), (49, 0.008453439414383427), (2218, 0.008447912718568294), (365, 0.00843848698373628), (4742, 0.008436121262120753), (4472, 0.00843043840887141), (2571, 0.008426022293264135), (3062, 0.00842459347630013), (2612, 0.008422904058838783), (1240, 0.008421655742112063), (2806, 0.00841560010732459), (1460, 0.008412373749995644), (3735, 0.008408730039383956), (1463, 0.008408689028811204), (1076, 0.008406799632587406), (1597, 0.008401112250241472), (1725, 0.008400781875997888), (686, 0.008398366632806308), (4252, 0.008391018924469683), (715, 0.008385312795463458), (1561, 0.008382789772823024), (2131, 0.008378001483381713), (3444, 0.008376246125266011), (4181, 0.008376059174689273), (486, 0.008375225081883812), (3697, 0.00837145182539033), (3246, 0.008360771492652358), (591, 0.00834505173483297), (1844, 0.008342732715591503), (2143, 0.008338353333291445), (700, 0.008337060477138024), (1416, 0.008334162910863138), (4155, 0.00833180519813581), (3315, 0.008331273960106484), (3869, 0.008329971600977934), (677, 0.00832777052791652), (1654, 0.008324765651751385), (854, 0.008323175524623598), (1744, 0.008319921114660154), (1091, 0.008319080316645338), (3695, 0.008311644116646555), (3390, 0.008309528630873387), (4130, 0.008305538159907378), (2965, 0.008284572783837615), (2898, 0.00828088433780266), (1878, 0.008280772548701337), (4491, 0.00826822099856009), (1818, 0.008264487491135135), (3202, 0.008261955794672406), (4676, 0.008248140533521204), (3646, 0.00824653574027944), (2860, 0.008244491495170782), (1256, 0.008234484733301732), (1894, 0.008234440021744371), (2888, 0.008231383967098344), (939, 0.00822601973340852), (1036, 0.008225454292929379), (2171, 0.00820917834712376), (1640, 0.00820729839261002), (1783, 0.008205972839974722), (1824, 0.008197853344662054), (4011, 0.008190596720124028), (1682, 0.008184177450581046), (232, 0.008181536129347997), (4159, 0.00817352886411068), (2451, 0.008161327311189745), (4059, 0.008155842901510297), (4351, 0.008149025130014295), (3185, 0.008148757504893253), (1731, 0.008146889483518103), (1086, 0.008145768741993785), (492, 0.008142523948120385), (2699, 0.008136386641807745), (872, 0.008135048215867309), (4347, 0.008131551027357258), (2327, 0.00813122925245305), (3834, 0.008130532155072959), (2120, 0.008126767126375778), (2725, 0.008126752060424285), (3732, 0.008125269501253191), (895, 0.008125252116222115), (4478, 0.008124187930204176), (659, 0.008123792049538047), (1180, 0.00812345439359278), (2940, 0.008121997965222236), (1457, 0.008121907390787317), (1673, 0.00811914015678449), (3147, 0.008119039903138054), (410, 0.00811376177721109), (4356, 0.0081108605539421), (1353, 0.00810903316508746), (2729, 0.008106949906673403), (1324, 0.008105776249763903), (826, 0.008104149056913139), (1333, 0.00810338852538645), (710, 0.008102080758420553), (111, 0.008101578558656456), (3846, 0.008097765157867653), (1456, 0.00809498447382107), (4289, 0.008087842676819052), (603, 0.008082346508630963), (1610, 0.008074651603616135), (17, 0.008072020946496016), (2317, 0.00806952564257549), (3321, 0.008069399956617526), (2868, 0.008068791951984157), (3979, 0.008067770234036454), (978, 0.008066750584260448), (361, 0.00806634619949643), (3132, 0.008056484437619022), (2315, 0.008038588076574774), (324, 0.008038253097753714), (1357, 0.008037064094657527), (2755, 0.008035161569544624), (1543, 0.008035035374488533), (1013, 0.00802924846683194), (4174, 0.00802722484260442), (4323, 0.008004070011790692), (1570, 0.007991542503015833), (4186, 0.007983410640859197), (4600, 0.007981193792924666), (2203, 0.007980324783853169), (231, 0.007968389814949605), (2007, 0.007960515549679631), (338, 0.007956852678550562), (2640, 0.007950798816713556), (4354, 0.007949248753971233), (2249, 0.007946774548307651), (3870, 0.007944192911124576), (55, 0.007940032218670285), (2728, 0.007938336548921888), (1965, 0.007937183655727523), (2605, 0.00793242333998508), (3871, 0.007931176500035397), (4419, 0.007921851191266161), (1475, 0.007921705000250093), (1841, 0.007903423773263928), (2402, 0.007898178139664772), (2043, 0.007897565866277703), (4109, 0.007891245075451648), (1911, 0.007891225983071407), (1827, 0.007886487955060343), (1657, 0.007876669370035788), (615, 0.007871563804990381), (1165, 0.007871319946396376), (1470, 0.007865436521185019), (3743, 0.007862591357549699), (3287, 0.007855628137410543), (151, 0.007849644183673567), (2457, 0.00784514596546466), (4437, 0.007844902574659087), (2005, 0.007842069805396637), (3463, 0.007838718243097774), (1244, 0.007838113385673534), (2332, 0.007830735078203276), (59, 0.00782907734479756), (2048, 0.007821195788791747), (631, 0.007813093327022028), (577, 0.007810936740578121), (871, 0.007807717557220576), (1045, 0.00779191716233636), (3840, 0.0077898549358898445), (1254, 0.00778798511484237), (4294, 0.0077827470396212356), (2163, 0.007781860895699924), (1686, 0.007768720334971019), (1936, 0.0077663911787518355), (3690, 0.0077656891972606125), (1111, 0.0077651920284390755), (2955, 0.007759806482548535), (3082, 0.007756730917090516), (1108, 0.007753437092678103), (2444, 0.007751151311435462), (2264, 0.00774806989444437), (4110, 0.007740250569537937), (56, 0.007736743093989313), (219, 0.007731529965190767), (1495, 0.007730962005876661), (1954, 0.007725538075058796), (1386, 0.007725477161896673), (592, 0.007717954404426404), (1440, 0.007716198601237005), (1889, 0.007714745557978648), (2047, 0.007706681617294535), (712, 0.007705186695871985), (820, 0.007703836987413805), (401, 0.007701584623145053), (3467, 0.007696024152339434), (909, 0.007680245899698516), (4501, 0.007677240446032284), (1522, 0.007673432614064984), (912, 0.007668918602238482), (1175, 0.007668797854374659), (1405, 0.007667298688406685), (2554, 0.007665819130214557), (4247, 0.007665332574333897), (1577, 0.007665225029350716), (2975, 0.007661976801923629), (182, 0.007659483002368066), (1186, 0.007657807429852961), (2240, 0.007653351958556849), (4609, 0.007651125411588614), (1515, 0.007648402906566606), (3482, 0.007645413080086656), (2067, 0.007644576046685168), (1908, 0.007639273723838245), (317, 0.007636548364252119), (2768, 0.007633915627488684), (1482, 0.007623123516937958), (520, 0.007620209478651198), (1151, 0.0076195419445722135), (264, 0.007609348102434481), (4364, 0.007606106451289495), (2460, 0.007600473362483212), (3982, 0.0075969841798090975), (4473, 0.007595658947578816), (4195, 0.007594271756279838), (3655, 0.007589888035849391), (3492, 0.007589539062132336), (4035, 0.0075884808290962846), (965, 0.007582272215212399), (996, 0.00757807702227004), (4016, 0.007577968410218142), (3805, 0.007576790053550299), (79, 0.007575194836043022), (4353, 0.007573797106371587), (4457, 0.00757088045418928), (892, 0.007555415330541905), (610, 0.007555226245541901), (4188, 0.007550234379076904), (1238, 0.007547088712825358), (724, 0.0075464898567321765), (3963, 0.007542007835112916), (4482, 0.007536735488241839), (1604, 0.00753410786073882), (1698, 0.0075331686129125105), (1198, 0.0075218868647772595), (4509, 0.007521844599631469), (1126, 0.007503584183848907), (1598, 0.007501203700468487), (3937, 0.007499553759979811), (2298, 0.007498558044141878), (613, 0.007490036291040838), (445, 0.0074660162077071), (119, 0.007455199315705467), (2329, 0.00745341330510986), (394, 0.007453218355501663), (1523, 0.007450816986496464), (3579, 0.007444302113691775), (2713, 0.007444221787975758), (539, 0.0074358966184646155), (3454, 0.0074331831578110805), (4224, 0.007431580538930397), (2616, 0.007429834403228225), (4036, 0.007424799000326146), (2763, 0.00742106695311134), (2504, 0.007419205804448244), (4112, 0.007417227873703348), (567, 0.00741013517467789), (1350, 0.0074019815055069715), (1607, 0.007400050690344247), (1971, 0.00739213452097367), (1639, 0.007383116156173455), (3286, 0.007377608852297311), (292, 0.007372559875495611), (4134, 0.007369994937990616), (1365, 0.007364614016730387), (1373, 0.0073617923620206225), (2150, 0.007358631606455037), (2114, 0.007342269664280591), (3366, 0.00733886491356474), (1113, 0.007335678681011593), (546, 0.007331729127289248), (1368, 0.007331709029166455), (3658, 0.007328549099144577), (2642, 0.007321202580173812), (3141, 0.00732101038401503), (4564, 0.007316674229513317), (3917, 0.007309749940037959), (720, 0.007308397189241969), (3826, 0.007305380829976152), (786, 0.007304535968764981), (64, 0.007304415086183441), (179, 0.007304065025903058), (2117, 0.0072889561006064035), (3568, 0.007287604749827805), (2132, 0.007286031310434521), (1042, 0.007283866676808746), (2641, 0.0072816780797608106), (3567, 0.007280431704978126), (2985, 0.007274514772966618), (4666, 0.007270551872557124), (1810, 0.007264944212645164), (1490, 0.007260416975845214), (3965, 0.007257262674342872), (3105, 0.007256143351311234), (1067, 0.007247535787933152), (2050, 0.007245740166309543), (498, 0.0072443731914134364), (300, 0.0072394811820710205), (2473, 0.007236944471372223), (1273, 0.00723200061877138), (1755, 0.007230999932411834), (1327, 0.0072259816343736615), (2950, 0.007221258450915474), (3700, 0.007217840841084787), (4428, 0.007215538309699287), (3024, 0.007214502586686468), (25, 0.007214227919547459), (171, 0.0072131313578757805), (1571, 0.007210427027502632), (4272, 0.007208975889529233), (1664, 0.007196856722376452), (2025, 0.007194301605945311), (263, 0.007191024828922438), (966, 0.007174695074455405), (1296, 0.007168025924740325), (3783, 0.007166996986965031), (3991, 0.007166179498889318), (2331, 0.007155683620853551), (1579, 0.007142719686392991), (3193, 0.007138207460783203), (3566, 0.0071378910440426015), (3254, 0.00713090217385569), (548, 0.007125815604121143), (903, 0.007122956008875105), (2655, 0.007116921037272385), (650, 0.007114704609228385), (1898, 0.0071053972539811185), (565, 0.007097415669658297), (2590, 0.007073816224475176), (921, 0.007072162676531198), (935, 0.0070679272859983785), (506, 0.007067537716350087), (1317, 0.007066202319117497), (2450, 0.007064036768575495), (2615, 0.007058845481510453), (1963, 0.007056169272989328), (1344, 0.007052204164144329), (1135, 0.007051538514135223), (568, 0.007047744875653355), (4444, 0.007034868855172097), (4236, 0.007027608500755963), (745, 0.007025771980486167), (1646, 0.007017206835829462), (35, 0.007011697527181844), (409, 0.006996010212714627), (4439, 0.006984049606487216), (3923, 0.006982181862299033), (3395, 0.0069806821135896795), (510, 0.006971249386205498), (821, 0.0069593440411382015), (2920, 0.00695269850374104), (1242, 0.006951533585969676), (2125, 0.006949844104050424), (4546, 0.0069417421275202165), (218, 0.006937434724161664), (37, 0.006936905986946795), (2734, 0.006931700931530642), (3715, 0.006929829528102963), (2255, 0.0069286601409553825), (4153, 0.00692472286054578), (609, 0.0069197619168433365), (2022, 0.0069165767122916725), (1288, 0.006913943740282782), (2645, 0.0069113908700340915), (4405, 0.006906108225671401), (1503, 0.006889666896534218), (1567, 0.0068834547920526585), (1310, 0.006858383208508813), (3726, 0.006854126843314944), (4055, 0.006853891775733257), (3600, 0.006852082517036892), (2426, 0.006849187342006793), (4646, 0.006847202528451722), (4598, 0.006842093066788966), (2741, 0.006841953887083083), (4074, 0.00683846686543309), (2065, 0.006826998098694714), (1016, 0.006825638652415284), (3397, 0.006819544260479234), (3231, 0.006804738162131365), (3795, 0.006797419365589241), (594, 0.00679201738391683), (3828, 0.00679187785040102), (954, 0.006791443879391808), (4710, 0.00678825339032379), (4047, 0.006787811320669375), (1, 0.006787309982636744), (856, 0.006782886648838675), (2389, 0.006778194729133292), (3865, 0.006776766047974484), (1601, 0.0067449884260834024), (882, 0.006735920588567815), (91, 0.0067272716341125905), (3598, 0.006726720802694015), (4208, 0.006719803523954114), (3785, 0.006716168786393599), (106, 0.006713504148710206), (1283, 0.006682571287117601), (4242, 0.0066717351238587), (3049, 0.0066680167170049985), (2237, 0.006667905229267737), (32, 0.006663770804636457), (1797, 0.00666191088351237), (2433, 0.006654413214896987), (3803, 0.0066484756014873825), (1194, 0.006639165094702616), (257, 0.0066345203266213685), (2718, 0.006631334513355018), (3394, 0.00662698712901227), (4660, 0.006622301605860419), (4724, 0.006620069007285008), (3521, 0.00661602252267267), (3096, 0.006605486301516326), (2328, 0.006591397102268839), (1058, 0.006582404689536533), (4443, 0.006578802850526507), (73, 0.006578764487867258), (3356, 0.006577865286799882), (3154, 0.006573017097301006), (1397, 0.0065712519485969815), (165, 0.006568946629203149), (4653, 0.006565974012884894), (2636, 0.006547611723302072), (364, 0.006537364117454068), (2459, 0.006536598493836819), (3983, 0.006533682375076163), (2177, 0.006532791111732743), (286, 0.006520750814802961), (3502, 0.00650020696514416), (4514, 0.006495820655067627), (2778, 0.006493695640896188), (3144, 0.006493666551529362), (601, 0.00648247168481661), (2006, 0.006480479597543071), (4698, 0.006479332355985834), (725, 0.006464217475111342), (561, 0.006431100398670432), (1941, 0.006427664640235775), (951, 0.0064148912831074), (3657, 0.006412588804082183), (4524, 0.006408618467568449), (2671, 0.0064056262630486785), (3766, 0.006404317243188278), (2296, 0.006383315972401825), (2127, 0.006379220884404898), (3091, 0.006360379990087974), (3535, 0.006359207892308167), (4735, 0.0063549109914918375), (4285, 0.006302215629071071), (3384, 0.006296037023892897), (929, 0.006291218115645507), (4412, 0.006290921820990326), (3275, 0.006276853583104828), (57, 0.006267025570967824), (3019, 0.006251765337633285), (3022, 0.006247688810494866), (4752, 0.006247106082995849), (3440, 0.00623969024477841), (3312, 0.006237554717711904), (3450, 0.006237119222333491), (1341, 0.006236748197206558), (4163, 0.006226298257081531), (1591, 0.0062196676589491105), (4281, 0.006206886951472404), (602, 0.006204234491359667), (1326, 0.006203223020600596), (3708, 0.006200632995981298), (1275, 0.006196599811536494), (4331, 0.006186073074089052), (4162, 0.006181217540923536), (4747, 0.006180580849011456), (4527, 0.0061749684972514625), (2028, 0.006172122992730385), (4244, 0.0061523840851821325), (125, 0.006148042946420617), (4626, 0.0061436396374203485), (876, 0.006129795365345738), (3661, 0.006124865486309493), (3883, 0.00612158115570657), (2364, 0.006109656504775581), (2476, 0.006106494508463648), (4519, 0.006096300756561917), (3980, 0.006096038229033259), (4746, 0.006091147955726634), (4731, 0.006080373047316134), (4092, 0.006077423804422608), (2576, 0.006075483717158988), (3680, 0.0060728219831942265), (1148, 0.006063485554085267), (1383, 0.006062209278101444), (63, 0.006047702848675734), (3168, 0.0060471988892071005), (533, 0.00604029878923389), (1886, 0.006039761849404111), (3421, 0.006033670753884278), (2700, 0.00603304272667142), (4307, 0.0060294280797980005), (3470, 0.006027945168605324), (330, 0.006026046435459959), (1716, 0.006022809527153363), (2903, 0.00602248743930967), (3196, 0.00602205253563327), (3012, 0.006020978403768286), (3032, 0.0060111750311269765), (2010, 0.006000952761678939), (1158, 0.005999988782227044), (2840, 0.0059896472574294994), (4120, 0.005986157452689403), (1332, 0.005983489524519474), (1962, 0.005982683956286265), (2733, 0.0059655675885227355), (4337, 0.005962958315497223), (128, 0.005957710659257955), (4531, 0.005951621910418709), (1960, 0.005946010657620367), (4745, 0.005945264703780251), (3797, 0.00594280769480431), (3652, 0.005933941324719178), (3152, 0.0059297976814273205), (967, 0.005929171612004991), (4227, 0.005928451917816524), (3961, 0.0059275538650335816), (2867, 0.005926074431837778), (48, 0.005917326223937998), (371, 0.005909483244655671), (595, 0.005906269649619356), (1454, 0.005898633974079178), (3750, 0.0058976084428723945), (1681, 0.00589597047051821), (2626, 0.005893982465799039), (450, 0.00589282750951731), (4046, 0.005887360530399407), (1799, 0.005881845513868103), (3802, 0.00588043435450861), (4601, 0.00587809207258324), (421, 0.005876890174026241), (70, 0.005873854838193435), (2229, 0.005868899278111246), (1866, 0.00586401348523865), (4133, 0.00585577435466789), (678, 0.005854586665176489), (4522, 0.005852477500859275), (740, 0.0058505853856980145), (3263, 0.00585053498250777), (4013, 0.0058468761992444655), (350, 0.005846492350200139), (1418, 0.005840982546978445), (481, 0.005840300738849951), (2978, 0.005839439575043581), (2214, 0.005839064970755803), (513, 0.005837893167647838), (1997, 0.005834706295738736), (303, 0.005827579007192331), (514, 0.0058239199637706), (3938, 0.0058228164602906266), (3771, 0.005816765081488899), (4595, 0.005811044206901955), (1015, 0.005805203685645697), (2599, 0.0058043491086968435), (2084, 0.005795756658579307), (728, 0.005792279750121534), (4436, 0.005790936703120111), (4579, 0.005788571598540971), (210, 0.005787893397451204), (3468, 0.005787880809880568), (4090, 0.005786901999154832), (1661, 0.005783132682921563), (3692, 0.0057822914022215505), (420, 0.005774756166795798), (3768, 0.005770731305719683), (4312, 0.005769831221288044), (3584, 0.005767560412906322), (3451, 0.005756137338524353), (21, 0.005742980089062697), (4038, 0.005741360542782923), (1732, 0.005739786080031154), (3850, 0.005739211295622818), (1141, 0.00573914817135791), (4231, 0.005728735084013107), (1659, 0.005724174368534131), (2096, 0.00572410035784397), (3698, 0.005723882534572351), (452, 0.005723243727590648), (202, 0.0057226591040472055), (2562, 0.00572140790648384), (2630, 0.005719760198218351), (1791, 0.005717254042222902), (3710, 0.005709306165763454), (1407, 0.005707097187413767), (493, 0.005701925062237033), (930, 0.005700159702193496), (68, 0.005695536712133017), (1687, 0.005694012162049568), (3897, 0.005693901268691164), (2689, 0.005692869929146342), (3618, 0.005692504997020206), (2819, 0.005689035563551908), (4384, 0.005688113646491105), (3483, 0.005686065410292827), (1853, 0.0056844477242224975), (2714, 0.005683637625024727), (4265, 0.005683512956564156), (1484, 0.005680758788538022), (220, 0.005677663474762094), (1452, 0.005676399107384256), (1531, 0.005674286403161827), (4123, 0.005670402384731926), (3546, 0.005669354069828819), (470, 0.005664027174260638), (4474, 0.005654550895015502), (1449, 0.0056536821088391635), (3205, 0.0056523565057311), (3334, 0.005650359203392731), (51, 0.005650243400725318), (667, 0.005646149963353085), (1188, 0.005636734360887933), (4624, 0.005631436342891795), (3513, 0.005626660567208655), (2088, 0.005626555699579784), (255, 0.005623652189765231), (4430, 0.005622718504397268), (502, 0.005622163483969233), (3437, 0.005622053984546033), (1881, 0.00561706096219037), (4621, 0.00561185113864742), (1588, 0.005611297715693078), (3862, 0.005608772812150914), (3514, 0.005606468002545161), (1224, 0.005605945418182356), (928, 0.005604244925349912), (879, 0.005602805495603895), (4629, 0.005602303685275837), (1432, 0.00559403521703107), (1024, 0.005593396764522347), (543, 0.005593295698693973), (4586, 0.005592093204846359), (3666, 0.00557610543365445), (3349, 0.005571640786736882), (3995, 0.0055678085196454), (3507, 0.005567154422057289), (313, 0.005565567776794548), (1542, 0.005560195649026076), (584, 0.005556824155890737), (2919, 0.005547857992696748), (2053, 0.005544461278801484), (4249, 0.005541085604499201), (1443, 0.00554072842053544), (3623, 0.005539973030073613), (3398, 0.0055386832835953885), (4470, 0.005536779456732113), (3191, 0.005528778537419292), (3233, 0.005524801606700876), (685, 0.005516737283247437), (2276, 0.005516357267183827), (3446, 0.005515314620784201), (509, 0.005507404771954762), (4376, 0.005505951421564724), (4251, 0.00550589384494735), (2947, 0.005504339694897567), (3571, 0.005491502079044673), (1174, 0.005490115641222851), (1003, 0.005489283549140277), (2784, 0.005489118484544665), (1832, 0.005484800010228365), (1337, 0.005480479366397848), (406, 0.005479191788172205), (1740, 0.005478306406621393), (238, 0.005477382347418271), (3815, 0.005475234898285191), (3653, 0.0054743591698722125), (3810, 0.005472304788593318), (2788, 0.005467355249108082), (3501, 0.005458923007017629), (4068, 0.005455888103483202), (2295, 0.005455737600174693), (3576, 0.005454362347665038), (3833, 0.005453821885485449), (4375, 0.005452847190681288), (1413, 0.005450262231301242), (2091, 0.005445102147124126), (4255, 0.005444047029501666), (83, 0.005442068864841502), (2991, 0.005441870603183951), (641, 0.0054415505524826316), (2061, 0.005439364227013608), (4677, 0.005427982192068995), (3005, 0.0054279217322280434), (1985, 0.005426589668423507), (2118, 0.00542405407691298), (1510, 0.005421568450885627), (3210, 0.005417016384766331), (3227, 0.005414859331206219), (628, 0.005414511973467635), (1232, 0.005411781595049244), (2606, 0.005407444123213388), (3436, 0.005404882947660643), (4517, 0.005402838874600765), (2885, 0.005402762255467236), (2284, 0.005399330107391351), (4360, 0.005399004568306665), (3125, 0.005396880826190313), (4383, 0.005389111494601528), (1074, 0.0053868502919473225), (560, 0.00538659590561699), (1488, 0.005383856966847692), (1419, 0.005376753678639879), (1129, 0.005372382064608276), (761, 0.005371152102145653), (2558, 0.005371061708475799), (931, 0.0053666469065070145), (986, 0.005366255117682838), (370, 0.005361655473154701), (389, 0.0053464936266711125), (2336, 0.005340211441948835), (4248, 0.005338551892892409), (3374, 0.0053296541409694935), (1483, 0.005328700263983001), (4000, 0.005326827535669497), (4665, 0.005326369713506363), (3727, 0.005324658471554583), (2480, 0.005324197237726313), (2174, 0.005323179907803911), (3553, 0.005322511719733132), (1442, 0.005316724080950755), (1226, 0.005316285546909401), (375, 0.005307409542429772), (233, 0.005300352214867949), (769, 0.005300051131391249), (1621, 0.0052942139626326185), (530, 0.005286458610997688), (2961, 0.005286140747542961), (1127, 0.0052857516158375676), (3195, 0.00528493894320645), (3814, 0.005282266515447703), (989, 0.005282147618894389), (1292, 0.005281065576444479), (3602, 0.00528045822753401), (3793, 0.0052795301274452915), (1551, 0.005278197079227652), (2069, 0.005276463622127865), (3499, 0.005275769543252142), (634, 0.005275630282720447), (1937, 0.005275073619467335), (1635, 0.005266779052729488), (1696, 0.005266162610498981), (1773, 0.005261662023715084), (4362, 0.005258404169759294), (244, 0.005253647968191942), (1406, 0.005248653107512092), (4309, 0.005241625166070244), (1653, 0.005237004498673861), (500, 0.005236413908253015), (799, 0.005235276764257239), (4039, 0.005235077822502651), (1933, 0.005234805063892789), (2759, 0.005232955883451122), (1953, 0.005218026029466696), (1967, 0.005217144843674481), (4576, 0.00521612254297898), (3583, 0.005214558126080378), (825, 0.005208527519351373), (72, 0.005208334883756286), (1948, 0.005206902750141209), (643, 0.005204017437726066), (1030, 0.0051984547641496705), (1481, 0.0051977671056948884), (1347, 0.005187222560715164), (3696, 0.005179044767314493), (3660, 0.005178819390253439), (1493, 0.005177507414643154), (2432, 0.005176467314972148), (2918, 0.005173918879104851), (2716, 0.005172834602622832), (4543, 0.005172737928395619), (923, 0.005171771108339664), (112, 0.005170224302206939), (1864, 0.0051653100653767286), (3487, 0.005163419155904226), (4658, 0.00516296458826686), (1248, 0.0051597717330418335), (138, 0.005156473609753451), (1230, 0.0051546612004554), (1632, 0.005149025929958127), (3126, 0.005143014049067511), (1478, 0.0051426322803034405), (2024, 0.005142625833463374), (3970, 0.005136338063720249), (2206, 0.005133206492698881), (1633, 0.005131471211977666), (3498, 0.005131151786526504), (4481, 0.0051310857198800935), (3085, 0.0051303699931905655), (356, 0.005122545309826372), (3978, 0.005122355748573876), (2540, 0.005118363176495558), (2618, 0.005114712311135237), (2121, 0.005112660379092153), (3035, 0.005112535242145575), (2787, 0.0051065786320041275), (1123, 0.005103934079815199), (1132, 0.0051037961945551245), (144, 0.005103528844575477), (644, 0.0051016069688392856), (4441, 0.005101474559691864), (1630, 0.005095658947465405), (1631, 0.005095148498721368), (2751, 0.005092689643385334), (3794, 0.005086575134322981), (2094, 0.005081956578546273), (4071, 0.005081302490194105), (3723, 0.005068205133639965), (3734, 0.0050651791106078635), (276, 0.005063647063935349), (1181, 0.0050561219902850885), (3466, 0.005055694085770888), (31, 0.005050663290647665), (694, 0.005050131821792664), (3823, 0.005049350457943084), (1914, 0.0050471843442469345), (1451, 0.005044445769948613), (1723, 0.005041458639029794), (1749, 0.005036931566360932), (974, 0.0050273361714526016), (4585, 0.00502512909750873), (2496, 0.005022220880479146), (900, 0.005021199625831711), (3788, 0.00501999967784971), (963, 0.005019972326403504), (2682, 0.005010483540141359), (3452, 0.005007745938885941), (2992, 0.0050073597278474736), (1662, 0.005005262512929659), (1555, 0.004999407138828055), (1107, 0.004996619404241736), (1433, 0.004996258658125096), (3328, 0.0049946452482285955), (1430, 0.004993572715557545), (866, 0.0049925099155601485), (4697, 0.004991946893191776), (3143, 0.004987689254290811), (532, 0.004986819183723343), (868, 0.004986165214227265), (1183, 0.0049847591651636545), (3775, 0.004983683931763486), (4325, 0.004981184613576907), (2429, 0.004978175425924216), (916, 0.004976155130367587), (1562, 0.004974310869667304), (3854, 0.004966221648796139), (1448, 0.00496224578925602), (304, 0.004951179568199155), (590, 0.004949660411491171), (1667, 0.004949358515751241), (4282, 0.0049434529034565735), (669, 0.004941330770860212), (604, 0.004939066746184568), (2110, 0.0049273694449193115), (2791, 0.004925177589033562), (160, 0.004922441222246643), (4235, 0.0049206098113857046), (4322, 0.0049171422919957125), (863, 0.004908950669872686), (1259, 0.0049085129383518965), (1065, 0.004908479653469865), (4339, 0.004905633214274002), (1281, 0.004901658245736604), (4689, 0.004900352958623718), (199, 0.004896771547224092), (291, 0.0048951213925590405), (1990, 0.004892698972146438), (1236, 0.004883959511980169), (3474, 0.004879865577772566), (1680, 0.004877336923966248), (4044, 0.004872742631511822), (1865, 0.004871946919153648), (3860, 0.004869149877038303), (968, 0.0048647446940947164), (1220, 0.004847098675708656), (4290, 0.004847026087428914), (2031, 0.004846109694227162), (893, 0.0048425856962625875), (581, 0.004839549342829641), (1000, 0.004830309641143808), (997, 0.004829915114155448), (800, 0.00482705015894217), (3841, 0.004816048419717416), (2607, 0.004813692490134453), (4106, 0.004808010449640219), (803, 0.004799872435165601), (3070, 0.004797208864014155), (1154, 0.004786757596804214), (559, 0.004784469502982509), (3495, 0.004775395917024927), (2724, 0.004772084262571273), (47, 0.0047667693957953), (4450, 0.004760573359759288), (4661, 0.0047603621722568535), (166, 0.004742855984238091), (1608, 0.004740321626294117), (4432, 0.004700527950366257), (2820, 0.004697269130283692), (3637, 0.004696471476336455), (4553, 0.004695834353798406), (1018, 0.004683092325629278), (1590, 0.004682276729830801), (3852, 0.004679322024957497), (653, 0.004672495381674002), (2621, 0.004672290373429933), (2692, 0.004663428752584404), (1559, 0.004647825817390734), (1699, 0.0046463952922683426), (99, 0.0046445380117222336), (4426, 0.004633772452663727), (861, 0.004624547559622039), (625, 0.004621503900742607), (1753, 0.004616186733931924), (4158, 0.004611144298492275), (3776, 0.004599384334688851), (4344, 0.0045906595801615815), (779, 0.0045906247775412395), (190, 0.004582853663936389), (1120, 0.004578585278505622), (1781, 0.004569442564570886), (4095, 0.004557589673878467), (2771, 0.004556903588517178), (2197, 0.004542149755274541), (970, 0.004537350152801079), (1910, 0.004536875595852173), (3806, 0.004530561134173375), (3213, 0.004501700866362731), (4733, 0.0044809560409578095), (3713, 0.004477518679491788), (3331, 0.004476677666512661), (16, 0.0044761236598030735), (2602, 0.0044560491278625184), (442, 0.004452952729129076), (149, 0.004434764895096612), (88, 0.004429426056343947), (3957, 0.004426508528295673), (2573, 0.004402132230378618), (3317, 0.004398608863044616), (2697, 0.004396492322275392), (1369, 0.004395475583189104), (1164, 0.004366768522174383), (942, 0.004365918430376453), (1377, 0.004332100629660799), (3944, 0.004328992221604778), (3989, 0.0043263803206635325), (1395, 0.004322834135281039), (2908, 0.0043156443805148674), (4674, 0.0043133016546348275), (1576, 0.004301513706326725), (877, 0.004294690175141093), (3471, 0.004269988729945515), (668, 0.004248693829637484), (1417, 0.004192071120922687), (3946, 0.004164654397879913), (571, 0.004140626865375322), (77, 0.0040474832457239995), (332, 0.004021142641810157), (1276, 0.004005639218270623), (1471, 0.0039824447380449645), (831, 0.0037912418997938803), (3429, 0.003651317157129562), (2443, 0.0035269463651321467), (2544, 0.0034351734009786575), (0, 0.0), (2, 0.0), (3, 0.0), (4, 0.0), (7, 0.0), (8, 0.0), (12, 0.0), (13, 0.0), (20, 0.0), (22, 0.0), (23, 0.0), (24, 0.0), (26, 0.0), (28, 0.0), (33, 0.0), (38, 0.0), (40, 0.0), (43, 0.0), (62, 0.0), (82, 0.0), (86, 0.0), (92, 0.0), (98, 0.0), (100, 0.0), (103, 0.0), (108, 0.0), (110, 0.0), (117, 0.0), (120, 0.0), (121, 0.0), (123, 0.0), (126, 0.0), (127, 0.0), (129, 0.0), (132, 0.0), (134, 0.0), (140, 0.0), (141, 0.0), (142, 0.0), (143, 0.0), (146, 0.0), (154, 0.0), (156, 0.0), (157, 0.0), (159, 0.0), (164, 0.0), (169, 0.0), (172, 0.0), (173, 0.0), (174, 0.0), (175, 0.0), (183, 0.0), (184, 0.0), (186, 0.0), (194, 0.0), (197, 0.0), (198, 0.0), (203, 0.0), (209, 0.0), (212, 0.0), (213, 0.0), (217, 0.0), (221, 0.0), (223, 0.0), (224, 0.0), (226, 0.0), (230, 0.0), (235, 0.0), (246, 0.0), (253, 0.0), (254, 0.0), (256, 0.0), (262, 0.0), (265, 0.0), (267, 0.0), (268, 0.0), (269, 0.0), (272, 0.0), (274, 0.0), (275, 0.0), (279, 0.0), (280, 0.0), (281, 0.0), (282, 0.0), (285, 0.0), (293, 0.0), (308, 0.0), (312, 0.0), (318, 0.0), (319, 0.0), (326, 0.0), (331, 0.0), (337, 0.0), (339, 0.0), (343, 0.0), (348, 0.0), (349, 0.0), (353, 0.0), (355, 0.0), (358, 0.0), (367, 0.0), (369, 0.0), (372, 0.0), (373, 0.0), (378, 0.0), (383, 0.0), (386, 0.0), (387, 0.0), (388, 0.0), (391, 0.0), (392, 0.0), (393, 0.0), (396, 0.0), (398, 0.0), (399, 0.0), (400, 0.0), (403, 0.0), (404, 0.0), (408, 0.0), (412, 0.0), (413, 0.0), (414, 0.0), (415, 0.0), (416, 0.0), (427, 0.0), (432, 0.0), (434, 0.0), (437, 0.0), (440, 0.0), (444, 0.0), (446, 0.0), (449, 0.0), (453, 0.0), (455, 0.0), (465, 0.0), (473, 0.0), (474, 0.0), (476, 0.0), (478, 0.0), (479, 0.0), (480, 0.0), (484, 0.0), (488, 0.0), (489, 0.0), (490, 0.0), (494, 0.0), (495, 0.0), (499, 0.0), (504, 0.0), (505, 0.0), (508, 0.0), (515, 0.0), (518, 0.0), (521, 0.0), (522, 0.0), (524, 0.0), (525, 0.0), (526, 0.0), (527, 0.0), (529, 0.0), (536, 0.0), (538, 0.0), (541, 0.0), (544, 0.0), (547, 0.0), (549, 0.0), (551, 0.0), (554, 0.0), (555, 0.0), (557, 0.0), (558, 0.0), (564, 0.0), (573, 0.0), (574, 0.0), (575, 0.0), (579, 0.0), (585, 0.0), (589, 0.0), (593, 0.0), (596, 0.0), (597, 0.0), (598, 0.0), (607, 0.0), (611, 0.0), (614, 0.0), (618, 0.0), (624, 0.0), (630, 0.0), (646, 0.0), (648, 0.0), (649, 0.0), (651, 0.0), (663, 0.0), (664, 0.0), (672, 0.0), (680, 0.0), (683, 0.0), (684, 0.0), (691, 0.0), (693, 0.0), (697, 0.0), (703, 0.0), (707, 0.0), (708, 0.0), (711, 0.0), (717, 0.0), (718, 0.0), (721, 0.0), (722, 0.0), (730, 0.0), (731, 0.0), (734, 0.0), (736, 0.0), (746, 0.0), (754, 0.0), (755, 0.0), (759, 0.0), (766, 0.0), (768, 0.0), (770, 0.0), (771, 0.0), (772, 0.0), (778, 0.0), (782, 0.0), (783, 0.0), (784, 0.0), (788, 0.0), (789, 0.0), (791, 0.0), (792, 0.0), (795, 0.0), (805, 0.0), (812, 0.0), (815, 0.0), (818, 0.0), (819, 0.0), (823, 0.0), (828, 0.0), (836, 0.0), (838, 0.0), (841, 0.0), (843, 0.0), (844, 0.0), (847, 0.0), (848, 0.0), (851, 0.0), (857, 0.0), (858, 0.0), (862, 0.0), (867, 0.0), (873, 0.0), (881, 0.0), (883, 0.0), (884, 0.0), (886, 0.0), (887, 0.0), (889, 0.0), (890, 0.0), (897, 0.0), (901, 0.0), (906, 0.0), (907, 0.0), (913, 0.0), (917, 0.0), (924, 0.0), (933, 0.0), (934, 0.0), (940, 0.0), (941, 0.0), (943, 0.0), (944, 0.0), (948, 0.0), (949, 0.0), (957, 0.0), (958, 0.0), (959, 0.0), (962, 0.0), (964, 0.0), (969, 0.0), (972, 0.0), (973, 0.0), (975, 0.0), (983, 0.0), (985, 0.0), (993, 0.0), (994, 0.0), (995, 0.0), (999, 0.0), (1002, 0.0), (1004, 0.0), (1005, 0.0), (1006, 0.0), (1014, 0.0), (1019, 0.0), (1020, 0.0), (1021, 0.0), (1027, 0.0), (1028, 0.0), (1032, 0.0), (1037, 0.0), (1039, 0.0), (1040, 0.0), (1043, 0.0), (1046, 0.0), (1049, 0.0), (1055, 0.0), (1057, 0.0), (1059, 0.0), (1060, 0.0), (1066, 0.0), (1070, 0.0), (1072, 0.0), (1075, 0.0), (1078, 0.0), (1089, 0.0), (1093, 0.0), (1094, 0.0), (1098, 0.0), (1102, 0.0), (1105, 0.0), (1106, 0.0), (1109, 0.0), (1110, 0.0), (1117, 0.0), (1121, 0.0), (1124, 0.0), (1125, 0.0), (1136, 0.0), (1139, 0.0), (1142, 0.0), (1144, 0.0), (1145, 0.0), (1147, 0.0), (1149, 0.0), (1152, 0.0), (1155, 0.0), (1156, 0.0), (1160, 0.0), (1161, 0.0), (1163, 0.0), (1166, 0.0), (1168, 0.0), (1169, 0.0), (1170, 0.0), (1171, 0.0), (1172, 0.0), (1176, 0.0), (1182, 0.0), (1187, 0.0), (1190, 0.0), (1199, 0.0), (1200, 0.0), (1201, 0.0), (1203, 0.0), (1204, 0.0), (1205, 0.0), (1208, 0.0), (1209, 0.0), (1212, 0.0), (1213, 0.0), (1214, 0.0), (1216, 0.0), (1217, 0.0), (1218, 0.0), (1234, 0.0), (1235, 0.0), (1241, 0.0), (1245, 0.0), (1247, 0.0), (1253, 0.0), (1264, 0.0), (1265, 0.0), (1267, 0.0), (1268, 0.0), (1274, 0.0), (1277, 0.0), (1278, 0.0), (1282, 0.0), (1285, 0.0), (1286, 0.0), (1290, 0.0), (1291, 0.0), (1294, 0.0), (1298, 0.0), (1313, 0.0), (1316, 0.0), (1320, 0.0), (1322, 0.0), (1323, 0.0), (1336, 0.0), (1338, 0.0), (1340, 0.0), (1342, 0.0), (1345, 0.0), (1349, 0.0), (1355, 0.0), (1359, 0.0), (1361, 0.0), (1362, 0.0), (1364, 0.0), (1371, 0.0), (1372, 0.0), (1376, 0.0), (1390, 0.0), (1392, 0.0), (1393, 0.0), (1399, 0.0), (1403, 0.0), (1409, 0.0), (1410, 0.0), (1415, 0.0), (1422, 0.0), (1423, 0.0), (1424, 0.0), (1427, 0.0), (1434, 0.0), (1438, 0.0), (1439, 0.0), (1441, 0.0), (1445, 0.0), (1446, 0.0), (1447, 0.0), (1450, 0.0), (1464, 0.0), (1465, 0.0), (1467, 0.0), (1473, 0.0), (1477, 0.0), (1485, 0.0), (1486, 0.0), (1487, 0.0), (1491, 0.0), (1494, 0.0), (1499, 0.0), (1500, 0.0), (1501, 0.0), (1504, 0.0), (1507, 0.0), (1512, 0.0), (1513, 0.0), (1516, 0.0), (1520, 0.0), (1527, 0.0), (1532, 0.0), (1533, 0.0), (1535, 0.0), (1536, 0.0), (1538, 0.0), (1540, 0.0), (1544, 0.0), (1545, 0.0), (1548, 0.0), (1549, 0.0), (1550, 0.0), (1560, 0.0), (1563, 0.0), (1564, 0.0), (1565, 0.0), (1569, 0.0), (1574, 0.0), (1578, 0.0), (1580, 0.0), (1582, 0.0), (1583, 0.0), (1584, 0.0), (1585, 0.0), (1586, 0.0), (1593, 0.0), (1594, 0.0), (1596, 0.0), (1602, 0.0), (1605, 0.0), (1609, 0.0), (1612, 0.0), (1617, 0.0), (1618, 0.0), (1619, 0.0), (1620, 0.0), (1624, 0.0), (1625, 0.0), (1626, 0.0), (1628, 0.0), (1636, 0.0), (1637, 0.0), (1638, 0.0), (1641, 0.0), (1644, 0.0), (1647, 0.0), (1648, 0.0), (1651, 0.0), (1652, 0.0), (1655, 0.0), (1656, 0.0), (1658, 0.0), (1660, 0.0), (1663, 0.0), (1666, 0.0), (1668, 0.0), (1669, 0.0), (1670, 0.0), (1672, 0.0), (1674, 0.0), (1676, 0.0), (1679, 0.0), (1683, 0.0), (1684, 0.0), (1688, 0.0), (1690, 0.0), (1693, 0.0), (1703, 0.0), (1707, 0.0), (1708, 0.0), (1709, 0.0), (1710, 0.0), (1711, 0.0), (1712, 0.0), (1715, 0.0), (1717, 0.0), (1718, 0.0), (1719, 0.0), (1720, 0.0), (1721, 0.0), (1722, 0.0), (1726, 0.0), (1727, 0.0), (1730, 0.0), (1734, 0.0), (1735, 0.0), (1742, 0.0), (1746, 0.0), (1747, 0.0), (1748, 0.0), (1750, 0.0), (1751, 0.0), (1752, 0.0), (1754, 0.0), (1759, 0.0), (1763, 0.0), (1765, 0.0), (1770, 0.0), (1775, 0.0), (1776, 0.0), (1778, 0.0), (1785, 0.0), (1786, 0.0), (1790, 0.0), (1792, 0.0), (1793, 0.0), (1800, 0.0), (1803, 0.0), (1805, 0.0), (1807, 0.0), (1813, 0.0), (1814, 0.0), (1820, 0.0), (1821, 0.0), (1822, 0.0), (1825, 0.0), (1826, 0.0), (1828, 0.0), (1830, 0.0), (1831, 0.0), (1834, 0.0), (1839, 0.0), (1842, 0.0), (1843, 0.0), (1847, 0.0), (1848, 0.0), (1851, 0.0), (1854, 0.0), (1856, 0.0), (1858, 0.0), (1860, 0.0), (1861, 0.0), (1868, 0.0), (1870, 0.0), (1872, 0.0), (1874, 0.0), (1875, 0.0), (1877, 0.0), (1879, 0.0), (1882, 0.0), (1884, 0.0), (1885, 0.0), (1888, 0.0), (1893, 0.0), (1896, 0.0), (1903, 0.0), (1905, 0.0), (1906, 0.0), (1909, 0.0), (1917, 0.0), (1921, 0.0), (1922, 0.0), (1929, 0.0), (1935, 0.0), (1938, 0.0), (1946, 0.0), (1947, 0.0), (1951, 0.0), (1956, 0.0), (1957, 0.0), (1959, 0.0), (1969, 0.0), (1972, 0.0), (1974, 0.0), (1977, 0.0), (1980, 0.0), (1986, 0.0), (1988, 0.0), (1994, 0.0), (1995, 0.0), (2000, 0.0), (2001, 0.0), (2003, 0.0), (2004, 0.0), (2011, 0.0), (2017, 0.0), (2018, 0.0), (2020, 0.0), (2021, 0.0), (2026, 0.0), (2027, 0.0), (2029, 0.0), (2030, 0.0), (2032, 0.0), (2033, 0.0), (2036, 0.0), (2038, 0.0), (2041, 0.0), (2042, 0.0), (2046, 0.0), (2049, 0.0), (2051, 0.0), (2058, 0.0), (2059, 0.0), (2060, 0.0), (2063, 0.0), (2068, 0.0), (2071, 0.0), (2072, 0.0), (2073, 0.0), (2076, 0.0), (2077, 0.0), (2080, 0.0), (2083, 0.0), (2085, 0.0), (2086, 0.0), (2087, 0.0), (2090, 0.0), (2092, 0.0), (2098, 0.0), (2101, 0.0), (2105, 0.0), (2106, 0.0), (2107, 0.0), (2108, 0.0), (2109, 0.0), (2111, 0.0), (2113, 0.0), (2116, 0.0), (2123, 0.0), (2126, 0.0), (2128, 0.0), (2133, 0.0), (2134, 0.0), (2138, 0.0), (2140, 0.0), (2141, 0.0), (2142, 0.0), (2144, 0.0), (2145, 0.0), (2146, 0.0), (2148, 0.0), (2151, 0.0), (2155, 0.0), (2156, 0.0), (2159, 0.0), (2160, 0.0), (2161, 0.0), (2165, 0.0), (2166, 0.0), (2167, 0.0), (2168, 0.0), (2169, 0.0), (2173, 0.0), (2175, 0.0), (2180, 0.0), (2184, 0.0), (2186, 0.0), (2189, 0.0), (2190, 0.0), (2193, 0.0), (2194, 0.0), (2199, 0.0), (2200, 0.0), (2201, 0.0), (2202, 0.0), (2209, 0.0), (2211, 0.0), (2212, 0.0), (2213, 0.0), (2219, 0.0), (2220, 0.0), (2222, 0.0), (2223, 0.0), (2225, 0.0), (2226, 0.0), (2227, 0.0), (2234, 0.0), (2236, 0.0), (2238, 0.0), (2241, 0.0), (2242, 0.0), (2248, 0.0), (2251, 0.0), (2256, 0.0), (2257, 0.0), (2258, 0.0), (2260, 0.0), (2261, 0.0), (2262, 0.0), (2263, 0.0), (2265, 0.0), (2266, 0.0), (2272, 0.0), (2282, 0.0), (2286, 0.0), (2288, 0.0), (2289, 0.0), (2290, 0.0), (2291, 0.0), (2292, 0.0), (2293, 0.0), (2294, 0.0), (2299, 0.0), (2300, 0.0), (2302, 0.0), (2303, 0.0), (2305, 0.0), (2306, 0.0), (2307, 0.0), (2310, 0.0), (2311, 0.0), (2312, 0.0), (2321, 0.0), (2333, 0.0), (2335, 0.0), (2338, 0.0), (2340, 0.0), (2341, 0.0), (2343, 0.0), (2346, 0.0), (2347, 0.0), (2349, 0.0), (2350, 0.0), (2358, 0.0), (2361, 0.0), (2362, 0.0), (2363, 0.0), (2367, 0.0), (2371, 0.0), (2373, 0.0), (2376, 0.0), (2377, 0.0), (2378, 0.0), (2379, 0.0), (2380, 0.0), (2384, 0.0), (2385, 0.0), (2386, 0.0), (2387, 0.0), (2388, 0.0), (2390, 0.0), (2392, 0.0), (2394, 0.0), (2395, 0.0), (2404, 0.0), (2407, 0.0), (2409, 0.0), (2411, 0.0), (2415, 0.0), (2416, 0.0), (2417, 0.0), (2418, 0.0), (2420, 0.0), (2422, 0.0), (2423, 0.0), (2425, 0.0), (2430, 0.0), (2431, 0.0), (2435, 0.0), (2436, 0.0), (2437, 0.0), (2438, 0.0), (2439, 0.0), (2440, 0.0), (2448, 0.0), (2452, 0.0), (2453, 0.0), (2454, 0.0), (2455, 0.0), (2456, 0.0), (2462, 0.0), (2464, 0.0), (2466, 0.0), (2469, 0.0), (2470, 0.0), (2471, 0.0), (2475, 0.0), (2478, 0.0), (2481, 0.0), (2482, 0.0), (2484, 0.0), (2485, 0.0), (2489, 0.0), (2490, 0.0), (2491, 0.0), (2495, 0.0), (2497, 0.0), (2503, 0.0), (2507, 0.0), (2508, 0.0), (2510, 0.0), (2513, 0.0), (2514, 0.0), (2515, 0.0), (2517, 0.0), (2518, 0.0), (2519, 0.0), (2520, 0.0), (2523, 0.0), (2526, 0.0), (2527, 0.0), (2529, 0.0), (2533, 0.0), (2535, 0.0), (2536, 0.0), (2537, 0.0), (2538, 0.0), (2542, 0.0), (2543, 0.0), (2545, 0.0), (2546, 0.0), (2547, 0.0), (2548, 0.0), (2552, 0.0), (2553, 0.0), (2556, 0.0), (2557, 0.0), (2560, 0.0), (2561, 0.0), (2564, 0.0), (2566, 0.0), (2568, 0.0), (2570, 0.0), (2572, 0.0), (2579, 0.0), (2582, 0.0), (2583, 0.0), (2585, 0.0), (2586, 0.0), (2587, 0.0), (2589, 0.0), (2591, 0.0), (2592, 0.0), (2593, 0.0), (2594, 0.0), (2596, 0.0), (2597, 0.0), (2600, 0.0), (2601, 0.0), (2604, 0.0), (2608, 0.0), (2610, 0.0), (2611, 0.0), (2614, 0.0), (2620, 0.0), (2623, 0.0), (2624, 0.0), (2625, 0.0), (2628, 0.0), (2633, 0.0), (2634, 0.0), (2635, 0.0), (2639, 0.0), (2643, 0.0), (2644, 0.0), (2648, 0.0), (2652, 0.0), (2653, 0.0), (2657, 0.0), (2658, 0.0), (2659, 0.0), (2663, 0.0), (2664, 0.0), (2665, 0.0), (2667, 0.0), (2670, 0.0), (2673, 0.0), (2674, 0.0), (2676, 0.0), (2678, 0.0), (2685, 0.0), (2687, 0.0), (2693, 0.0), (2694, 0.0), (2696, 0.0), (2702, 0.0), (2703, 0.0), (2705, 0.0), (2712, 0.0), (2717, 0.0), (2719, 0.0), (2721, 0.0), (2722, 0.0), (2723, 0.0), (2726, 0.0), (2730, 0.0), (2732, 0.0), (2735, 0.0), (2744, 0.0), (2745, 0.0), (2746, 0.0), (2747, 0.0), (2748, 0.0), (2758, 0.0), (2761, 0.0), (2764, 0.0), (2765, 0.0), (2767, 0.0), (2770, 0.0), (2772, 0.0), (2775, 0.0), (2779, 0.0), (2782, 0.0), (2792, 0.0), (2793, 0.0), (2796, 0.0), (2797, 0.0), (2799, 0.0), (2800, 0.0), (2802, 0.0), (2805, 0.0), (2807, 0.0), (2810, 0.0), (2812, 0.0), (2814, 0.0), (2816, 0.0), (2823, 0.0), (2824, 0.0), (2832, 0.0), (2834, 0.0), (2835, 0.0), (2836, 0.0), (2838, 0.0), (2839, 0.0), (2844, 0.0), (2848, 0.0), (2849, 0.0), (2852, 0.0), (2853, 0.0), (2855, 0.0), (2856, 0.0), (2858, 0.0), (2859, 0.0), (2861, 0.0), (2862, 0.0), (2869, 0.0), (2870, 0.0), (2872, 0.0), (2873, 0.0), (2875, 0.0), (2876, 0.0), (2878, 0.0), (2880, 0.0), (2882, 0.0), (2883, 0.0), (2890, 0.0), (2893, 0.0), (2894, 0.0), (2896, 0.0), (2897, 0.0), (2900, 0.0), (2901, 0.0), (2902, 0.0), (2905, 0.0), (2907, 0.0), (2909, 0.0), (2912, 0.0), (2913, 0.0), (2914, 0.0), (2915, 0.0), (2916, 0.0), (2922, 0.0), (2923, 0.0), (2924, 0.0), (2926, 0.0), (2928, 0.0), (2934, 0.0), (2936, 0.0), (2938, 0.0), (2942, 0.0), (2943, 0.0), (2945, 0.0), (2946, 0.0), (2951, 0.0), (2953, 0.0), (2954, 0.0), (2957, 0.0), (2958, 0.0), (2962, 0.0), (2964, 0.0), (2966, 0.0), (2967, 0.0), (2968, 0.0), (2971, 0.0), (2972, 0.0), (2973, 0.0), (2974, 0.0), (2976, 0.0), (2977, 0.0), (2979, 0.0), (2980, 0.0), (2983, 0.0), (2986, 0.0), (2987, 0.0), (2990, 0.0), (2994, 0.0), (2995, 0.0), (2997, 0.0), (2999, 0.0), (3000, 0.0), (3003, 0.0), (3004, 0.0), (3006, 0.0), (3007, 0.0), (3008, 0.0), (3009, 0.0), (3010, 0.0), (3013, 0.0), (3015, 0.0), (3016, 0.0), (3017, 0.0), (3020, 0.0), (3023, 0.0), (3028, 0.0), (3029, 0.0), (3030, 0.0), (3031, 0.0), (3033, 0.0), (3037, 0.0), (3038, 0.0), (3039, 0.0), (3041, 0.0), (3046, 0.0), (3048, 0.0), (3050, 0.0), (3051, 0.0), (3052, 0.0), (3053, 0.0), (3054, 0.0), (3055, 0.0), (3057, 0.0), (3059, 0.0), (3061, 0.0), (3064, 0.0), (3067, 0.0), (3068, 0.0), (3072, 0.0), (3073, 0.0), (3074, 0.0), (3075, 0.0), (3076, 0.0), (3077, 0.0), (3078, 0.0), (3080, 0.0), (3081, 0.0), (3083, 0.0), (3087, 0.0), (3088, 0.0), (3089, 0.0), (3092, 0.0), (3093, 0.0), (3094, 0.0), (3097, 0.0), (3101, 0.0), (3102, 0.0), (3103, 0.0), (3106, 0.0), (3107, 0.0), (3113, 0.0), (3116, 0.0), (3119, 0.0), (3127, 0.0), (3128, 0.0), (3130, 0.0), (3137, 0.0), (3138, 0.0), (3139, 0.0), (3140, 0.0), (3145, 0.0), (3146, 0.0), (3148, 0.0), (3150, 0.0), (3151, 0.0), (3157, 0.0), (3159, 0.0), (3162, 0.0), (3164, 0.0), (3165, 0.0), (3169, 0.0), (3170, 0.0), (3173, 0.0), (3174, 0.0), (3175, 0.0), (3176, 0.0), (3182, 0.0), (3183, 0.0), (3184, 0.0), (3186, 0.0), (3192, 0.0), (3194, 0.0), (3198, 0.0), (3200, 0.0), (3201, 0.0), (3203, 0.0), (3211, 0.0), (3212, 0.0), (3214, 0.0), (3216, 0.0), (3217, 0.0), (3218, 0.0), (3223, 0.0), (3226, 0.0), (3229, 0.0), (3230, 0.0), (3234, 0.0), (3235, 0.0), (3236, 0.0), (3238, 0.0), (3239, 0.0), (3241, 0.0), (3243, 0.0), (3248, 0.0), (3249, 0.0), (3251, 0.0), (3252, 0.0), (3257, 0.0), (3258, 0.0), (3261, 0.0), (3262, 0.0), (3264, 0.0), (3266, 0.0), (3267, 0.0), (3268, 0.0), (3270, 0.0), (3271, 0.0), (3273, 0.0), (3274, 0.0), (3277, 0.0), (3280, 0.0), (3282, 0.0), (3288, 0.0), (3291, 0.0), (3293, 0.0), (3294, 0.0), (3296, 0.0), (3298, 0.0), (3299, 0.0), (3302, 0.0), (3304, 0.0), (3307, 0.0), (3308, 0.0), (3309, 0.0), (3311, 0.0), (3313, 0.0), (3314, 0.0), (3319, 0.0), (3320, 0.0), (3322, 0.0), (3323, 0.0), (3324, 0.0), (3326, 0.0), (3333, 0.0), (3336, 0.0), (3337, 0.0), (3340, 0.0), (3343, 0.0), (3345, 0.0), (3347, 0.0), (3351, 0.0), (3353, 0.0), (3354, 0.0), (3358, 0.0), (3359, 0.0), (3362, 0.0), (3364, 0.0), (3365, 0.0), (3368, 0.0), (3369, 0.0), (3371, 0.0), (3372, 0.0), (3373, 0.0), (3375, 0.0), (3376, 0.0), (3378, 0.0), (3380, 0.0), (3382, 0.0), (3383, 0.0), (3391, 0.0), (3393, 0.0), (3396, 0.0), (3399, 0.0), (3400, 0.0), (3401, 0.0), (3406, 0.0), (3407, 0.0), (3410, 0.0), (3411, 0.0), (3412, 0.0), (3413, 0.0), (3415, 0.0), (3417, 0.0), (3418, 0.0), (3420, 0.0), (3423, 0.0), (3424, 0.0), (3425, 0.0), (3430, 0.0), (3431, 0.0), (3434, 0.0), (3442, 0.0), (3445, 0.0), (3447, 0.0), (3449, 0.0), (3453, 0.0), (3455, 0.0), (3457, 0.0), (3472, 0.0), (3476, 0.0), (3478, 0.0), (3479, 0.0), (3480, 0.0), (3481, 0.0), (3485, 0.0), (3489, 0.0), (3490, 0.0), (3491, 0.0), (3496, 0.0), (3500, 0.0), (3503, 0.0), (3505, 0.0), (3509, 0.0), (3510, 0.0), (3511, 0.0), (3512, 0.0), (3515, 0.0), (3517, 0.0), (3518, 0.0), (3519, 0.0), (3522, 0.0), (3523, 0.0), (3524, 0.0), (3526, 0.0), (3527, 0.0), (3528, 0.0), (3531, 0.0), (3533, 0.0), (3534, 0.0), (3537, 0.0), (3538, 0.0), (3540, 0.0), (3541, 0.0), (3542, 0.0), (3543, 0.0), (3544, 0.0), (3545, 0.0), (3549, 0.0), (3551, 0.0), (3552, 0.0), (3554, 0.0), (3557, 0.0), (3558, 0.0), (3559, 0.0), (3562, 0.0), (3565, 0.0), (3569, 0.0), (3570, 0.0), (3573, 0.0), (3575, 0.0), (3581, 0.0), (3585, 0.0), (3589, 0.0), (3590, 0.0), (3591, 0.0), (3592, 0.0), (3593, 0.0), (3595, 0.0), (3599, 0.0), (3601, 0.0), (3606, 0.0), (3607, 0.0), (3608, 0.0), (3609, 0.0), (3612, 0.0), (3613, 0.0), (3614, 0.0), (3615, 0.0), (3620, 0.0), (3621, 0.0), (3622, 0.0), (3625, 0.0), (3632, 0.0), (3633, 0.0), (3634, 0.0), (3636, 0.0), (3639, 0.0), (3643, 0.0), (3644, 0.0), (3647, 0.0), (3649, 0.0), (3650, 0.0), (3654, 0.0), (3656, 0.0), (3662, 0.0), (3663, 0.0), (3668, 0.0), (3669, 0.0), (3671, 0.0), (3672, 0.0), (3673, 0.0), (3676, 0.0), (3677, 0.0), (3678, 0.0), (3681, 0.0), (3683, 0.0), (3686, 0.0), (3687, 0.0), (3689, 0.0), (3691, 0.0), (3701, 0.0), (3702, 0.0), (3703, 0.0), (3706, 0.0), (3707, 0.0), (3712, 0.0), (3714, 0.0), (3716, 0.0), (3717, 0.0), (3719, 0.0), (3729, 0.0), (3730, 0.0), (3731, 0.0), (3733, 0.0), (3745, 0.0), (3746, 0.0), (3752, 0.0), (3753, 0.0), (3754, 0.0), (3755, 0.0), (3757, 0.0), (3758, 0.0), (3760, 0.0), (3761, 0.0), (3762, 0.0), (3763, 0.0), (3764, 0.0), (3765, 0.0), (3767, 0.0), (3770, 0.0), (3778, 0.0), (3779, 0.0), (3791, 0.0), (3796, 0.0), (3799, 0.0), (3800, 0.0), (3804, 0.0), (3808, 0.0), (3809, 0.0), (3811, 0.0), (3818, 0.0), (3820, 0.0), (3821, 0.0), (3822, 0.0), (3825, 0.0), (3827, 0.0), (3831, 0.0), (3832, 0.0), (3835, 0.0), (3836, 0.0), (3837, 0.0), (3838, 0.0), (3842, 0.0), (3845, 0.0), (3848, 0.0), (3851, 0.0), (3856, 0.0), (3857, 0.0), (3859, 0.0), (3861, 0.0), (3863, 0.0), (3864, 0.0), (3867, 0.0), (3872, 0.0), (3873, 0.0), (3875, 0.0), (3878, 0.0), (3879, 0.0), (3880, 0.0), (3882, 0.0), (3887, 0.0), (3888, 0.0), (3889, 0.0), (3890, 0.0), (3891, 0.0), (3892, 0.0), (3893, 0.0), (3894, 0.0), (3896, 0.0), (3898, 0.0), (3899, 0.0), (3902, 0.0), (3904, 0.0), (3905, 0.0), (3906, 0.0), (3909, 0.0), (3911, 0.0), (3913, 0.0), (3914, 0.0), (3916, 0.0), (3918, 0.0), (3920, 0.0), (3921, 0.0), (3922, 0.0), (3924, 0.0), (3925, 0.0), (3927, 0.0), (3928, 0.0), (3929, 0.0), (3930, 0.0), (3931, 0.0), (3932, 0.0), (3934, 0.0), (3935, 0.0), (3936, 0.0), (3939, 0.0), (3941, 0.0), (3945, 0.0), (3948, 0.0), (3949, 0.0), (3950, 0.0), (3951, 0.0), (3952, 0.0), (3954, 0.0), (3955, 0.0), (3956, 0.0), (3958, 0.0), (3964, 0.0), (3967, 0.0), (3969, 0.0), (3971, 0.0), (3973, 0.0), (3976, 0.0), (3981, 0.0), (3984, 0.0), (3986, 0.0), (3987, 0.0), (3988, 0.0), (3990, 0.0), (3992, 0.0), (3994, 0.0), (3996, 0.0), (3998, 0.0), (3999, 0.0), (4001, 0.0), (4006, 0.0), (4007, 0.0), (4010, 0.0), (4012, 0.0), (4014, 0.0), (4017, 0.0), (4018, 0.0), (4021, 0.0), (4023, 0.0), (4024, 0.0), (4025, 0.0), (4026, 0.0), (4027, 0.0), (4029, 0.0), (4030, 0.0), (4032, 0.0), (4037, 0.0), (4040, 0.0), (4042, 0.0), (4048, 0.0), (4049, 0.0), (4051, 0.0), (4052, 0.0), (4054, 0.0), (4057, 0.0), (4061, 0.0), (4062, 0.0), (4063, 0.0), (4064, 0.0), (4066, 0.0), (4067, 0.0), (4069, 0.0), (4072, 0.0), (4075, 0.0), (4078, 0.0), (4079, 0.0), (4080, 0.0), (4082, 0.0), (4084, 0.0), (4085, 0.0), (4093, 0.0), (4094, 0.0), (4100, 0.0), (4102, 0.0), (4104, 0.0), (4105, 0.0), (4107, 0.0), (4111, 0.0), (4113, 0.0), (4115, 0.0), (4117, 0.0), (4122, 0.0), (4126, 0.0), (4127, 0.0), (4129, 0.0), (4131, 0.0), (4136, 0.0), (4138, 0.0), (4139, 0.0), (4143, 0.0), (4145, 0.0), (4146, 0.0), (4147, 0.0), (4149, 0.0), (4150, 0.0), (4151, 0.0), (4156, 0.0), (4157, 0.0), (4166, 0.0), (4167, 0.0), (4170, 0.0), (4172, 0.0), (4179, 0.0), (4180, 0.0), (4182, 0.0), (4183, 0.0), (4184, 0.0), (4185, 0.0), (4190, 0.0), (4198, 0.0), (4200, 0.0), (4201, 0.0), (4202, 0.0), (4205, 0.0), (4206, 0.0), (4212, 0.0), (4213, 0.0), (4220, 0.0), (4221, 0.0), (4222, 0.0), (4223, 0.0), (4225, 0.0), (4226, 0.0), (4228, 0.0), (4229, 0.0), (4230, 0.0), (4232, 0.0), (4233, 0.0), (4234, 0.0), (4237, 0.0), (4239, 0.0), (4241, 0.0), (4243, 0.0), (4245, 0.0), (4246, 0.0), (4250, 0.0), (4253, 0.0), (4254, 0.0), (4256, 0.0), (4257, 0.0), (4258, 0.0), (4259, 0.0), (4261, 0.0), (4267, 0.0), (4273, 0.0), (4276, 0.0), (4279, 0.0), (4291, 0.0), (4293, 0.0), (4295, 0.0), (4296, 0.0), (4297, 0.0), (4298, 0.0), (4301, 0.0), (4302, 0.0), (4304, 0.0), (4305, 0.0), (4306, 0.0), (4308, 0.0), (4311, 0.0), (4313, 0.0), (4315, 0.0), (4316, 0.0), (4317, 0.0), (4318, 0.0), (4320, 0.0), (4326, 0.0), (4327, 0.0), (4330, 0.0), (4332, 0.0), (4334, 0.0), (4335, 0.0), (4336, 0.0), (4340, 0.0), (4343, 0.0), (4348, 0.0), (4349, 0.0), (4350, 0.0), (4355, 0.0), (4358, 0.0), (4359, 0.0), (4361, 0.0), (4368, 0.0), (4370, 0.0), (4372, 0.0), (4373, 0.0), (4378, 0.0), (4385, 0.0), (4386, 0.0), (4390, 0.0), (4391, 0.0), (4393, 0.0), (4394, 0.0), (4395, 0.0), (4396, 0.0), (4397, 0.0), (4398, 0.0), (4404, 0.0), (4406, 0.0), (4408, 0.0), (4409, 0.0), (4410, 0.0), (4411, 0.0), (4413, 0.0), (4414, 0.0), (4415, 0.0), (4416, 0.0), (4417, 0.0), (4421, 0.0), (4422, 0.0), (4424, 0.0), (4425, 0.0), (4429, 0.0), (4433, 0.0), (4440, 0.0), (4442, 0.0), (4446, 0.0), (4447, 0.0), (4449, 0.0), (4451, 0.0), (4452, 0.0), (4458, 0.0), (4459, 0.0), (4461, 0.0), (4463, 0.0), (4469, 0.0), (4471, 0.0), (4476, 0.0), (4477, 0.0), (4479, 0.0), (4480, 0.0), (4484, 0.0), (4486, 0.0), (4496, 0.0), (4498, 0.0), (4500, 0.0), (4505, 0.0), (4508, 0.0), (4511, 0.0), (4520, 0.0), (4521, 0.0), (4529, 0.0), (4532, 0.0), (4538, 0.0), (4539, 0.0), (4540, 0.0), (4541, 0.0), (4544, 0.0), (4558, 0.0), (4559, 0.0), (4560, 0.0), (4561, 0.0), (4563, 0.0), (4566, 0.0), (4567, 0.0), (4568, 0.0), (4572, 0.0), (4573, 0.0), (4575, 0.0), (4578, 0.0), (4594, 0.0), (4596, 0.0), (4597, 0.0), (4599, 0.0), (4602, 0.0), (4603, 0.0), (4604, 0.0), (4606, 0.0), (4607, 0.0), (4608, 0.0), (4610, 0.0), (4611, 0.0), (4616, 0.0), (4617, 0.0), (4618, 0.0), (4619, 0.0), (4622, 0.0), (4625, 0.0), (4627, 0.0), (4631, 0.0), (4632, 0.0), (4634, 0.0), (4635, 0.0), (4636, 0.0), (4638, 0.0), (4644, 0.0), (4645, 0.0), (4647, 0.0), (4649, 0.0), (4650, 0.0), (4651, 0.0), (4652, 0.0), (4654, 0.0), (4655, 0.0), (4656, 0.0), (4657, 0.0), (4667, 0.0), (4671, 0.0), (4672, 0.0), (4680, 0.0), (4681, 0.0), (4682, 0.0), (4683, 0.0), (4685, 0.0), (4686, 0.0), (4687, 0.0), (4688, 0.0), (4690, 0.0), (4692, 0.0), (4693, 0.0), (4702, 0.0), (4704, 0.0), (4705, 0.0), (4706, 0.0), (4707, 0.0), (4711, 0.0), (4713, 0.0), (4716, 0.0), (4717, 0.0), (4718, 0.0), (4719, 0.0), (4720, 0.0), (4722, 0.0), (4723, 0.0), (4727, 0.0), (4728, 0.0), (4729, 0.0), (4732, 0.0), (4734, 0.0), (4737, 0.0), (4738, 0.0), (4740, 0.0), (4741, 0.0), (4744, 0.0), (4748, 0.0), (4749, 0.0), (4750, 0.0), (4751, 0.0), (4753, 0.0), (4755, 0.0), (4758, 0.0), (4759, 0.0)]\n"
          ]
        }
      ]
    },
    {
      "cell_type": "code",
      "source": [
        "#print the name of similar movies based on the index\n",
        "print(\"Top 30 Movies Suggested for You: \\n\")\n",
        "i=1\n",
        " \n",
        "for movie in Sorted_Similar_Movies:\n",
        "  index = movie[0]\n",
        "  title_from_index  = df[df.index==index]['Movie_Title'].values[0]\n",
        "  if (i<31):\n",
        "    print(i, ',',title_from_index)\n",
        "    i+=1"
      ],
      "metadata": {
        "id": "H6CgWS-RGjPF",
        "colab": {
          "base_uri": "https://localhost:8080/"
        },
        "outputId": "d854fb56-8b0a-4865-f20b-47e7b6001c73"
      },
      "execution_count": null,
      "outputs": [
        {
          "output_type": "stream",
          "name": "stdout",
          "text": [
            "Top 30 Movies Suggested for You: \n",
            "\n",
            "1 , A Perfect Getaway\n",
            "2 , Wonderland\n",
            "3 , The Crying Game\n",
            "4 , Diary of a Wimpy Kid: Rodrick Rules\n",
            "5 , Just Married\n",
            "6 , The Fifth Element\n",
            "7 , Gosford Park\n",
            "8 , Along Came Polly\n",
            "9 , Cypher\n",
            "10 , Kiss Kiss Bang Bang\n",
            "11 , Red Riding: In the Year of Our Lord 1974\n",
            "12 , Dreamcatcher\n",
            "13 , The Messenger: The Story of Joan of Arc\n",
            "14 , The Brave Little Toaster\n",
            "15 , The Claim\n",
            "16 , Safe Men\n",
            "17 , Daddy Day Care\n",
            "18 , Live Free or Die Hard\n",
            "19 , The Silence of the Lambs\n",
            "20 , The Three Musketeers\n",
            "21 , Out of Time\n",
            "22 , Return to the Blue Lagoon\n",
            "23 , Resident Evil: Apocalypse\n",
            "24 , The Big Year\n",
            "25 , The Crazies\n",
            "26 , Ultraviolet\n",
            "27 , Lilo & Stitch\n",
            "28 , Instinct\n",
            "29 , The Lizzie McGuire Movie\n",
            "30 , Sahara\n"
          ]
        }
      ]
    },
    {
      "cell_type": "markdown",
      "source": [
        "**Top 10 Movie Recommendation System**"
      ],
      "metadata": {
        "id": "ou1_1OJOJMVG"
      }
    },
    {
      "cell_type": "code",
      "source": [
        "Movie_Name=input('Enter your favourite movie name :')\n",
        "\n",
        "list_of_all_titles = df['Movie_Title'].tolist()\n",
        "\n",
        "Find_Close_Match = difflib.get_close_matches(Movie_Name, list_of_all_titles)\n",
        "\n",
        "Close_Match = Find_Close_Match[0]\n",
        "\n",
        "Index_of_Movie = df[df.Movie_Title == Close_Match]['Movie_ID'].values[0]\n",
        "\n",
        "Recommendation_Score = list(enumerate(Similarity_Score[Index_of_Movie]))\n",
        "\n",
        "sorted_similar_movies = sorted (Recommendation_Score, key = lambda x:x[1], reverse = True)\n",
        "\n",
        "print(\"Top 10 Movies suggested for you: \\n\")\n",
        "\n",
        "i = 1\n",
        "\n",
        "for movie in sorted_similar_movies:\n",
        "  index= movie[0]\n",
        "  title_from_index = df[df.Movie_ID==index]['Movie_Title'].values\n",
        "  if (i<11):\n",
        "    print(i, '.', title_from_index)\n",
        "    i+=1\n",
        "\n"
      ],
      "metadata": {
        "id": "AoxELFzeJNdd",
        "colab": {
          "base_uri": "https://localhost:8080/"
        },
        "outputId": "6adc8cd6-bc7b-4570-f03b-d61d87a1a3cd"
      },
      "execution_count": null,
      "outputs": [
        {
          "output_type": "stream",
          "name": "stdout",
          "text": [
            "Enter your favourite movie name :rebel\n",
            "Top 10 Movies suggested for you: \n",
            "\n",
            "1 . ['Redbelt']\n",
            "2 . ['Boogie Nights']\n",
            "3 . ['Bullets Over Broadway']\n",
            "4 . [\"Legends of Oz: Dorothy's Return\"]\n",
            "5 . ['Fortress']\n",
            "6 . ['Dancer in the Dark']\n",
            "7 . ['The Polar Express']\n",
            "8 . ['The Pledge']\n",
            "9 . ['Talk Radio']\n",
            "10 . ['The Good Heart']\n"
          ]
        }
      ]
    }
  ]
}